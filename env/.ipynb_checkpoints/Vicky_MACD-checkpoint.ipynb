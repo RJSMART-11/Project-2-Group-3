{
 "cells": [
  {
   "cell_type": "code",
   "execution_count": 12,
   "id": "60033221-7802-402d-8818-9f78a17a0899",
   "metadata": {},
   "outputs": [],
   "source": [
    "import pandas as pd\n",
    "import yfinance as yf"
   ]
  },
  {
   "cell_type": "code",
   "execution_count": 23,
   "id": "db9b9dc8-79f5-4442-9a9d-90dc510cbf00",
   "metadata": {},
   "outputs": [
    {
     "name": "stdout",
     "output_type": "stream",
     "text": [
      "[*********************100%***********************]  1 of 1 completed\n"
     ]
    },
    {
     "data": {
      "text/html": [
       "<div>\n",
       "<style scoped>\n",
       "    .dataframe tbody tr th:only-of-type {\n",
       "        vertical-align: middle;\n",
       "    }\n",
       "\n",
       "    .dataframe tbody tr th {\n",
       "        vertical-align: top;\n",
       "    }\n",
       "\n",
       "    .dataframe thead th {\n",
       "        text-align: right;\n",
       "    }\n",
       "</style>\n",
       "<table border=\"1\" class=\"dataframe\">\n",
       "  <thead>\n",
       "    <tr style=\"text-align: right;\">\n",
       "      <th></th>\n",
       "      <th>Open</th>\n",
       "      <th>High</th>\n",
       "      <th>Low</th>\n",
       "      <th>Close</th>\n",
       "      <th>Adj Close</th>\n",
       "      <th>Volume</th>\n",
       "    </tr>\n",
       "    <tr>\n",
       "      <th>Date</th>\n",
       "      <th></th>\n",
       "      <th></th>\n",
       "      <th></th>\n",
       "      <th></th>\n",
       "      <th></th>\n",
       "      <th></th>\n",
       "    </tr>\n",
       "  </thead>\n",
       "  <tbody>\n",
       "    <tr>\n",
       "      <th>2020-10-01</th>\n",
       "      <td>100.000000</td>\n",
       "      <td>100.000000</td>\n",
       "      <td>100.000000</td>\n",
       "      <td>100.000000</td>\n",
       "      <td>100.000000</td>\n",
       "      <td>0</td>\n",
       "    </tr>\n",
       "    <tr>\n",
       "      <th>2020-10-02</th>\n",
       "      <td>100.000000</td>\n",
       "      <td>100.000000</td>\n",
       "      <td>100.000000</td>\n",
       "      <td>100.000000</td>\n",
       "      <td>100.000000</td>\n",
       "      <td>0</td>\n",
       "    </tr>\n",
       "    <tr>\n",
       "      <th>2020-10-05</th>\n",
       "      <td>100.029999</td>\n",
       "      <td>100.040001</td>\n",
       "      <td>99.995003</td>\n",
       "      <td>99.995003</td>\n",
       "      <td>99.995003</td>\n",
       "      <td>10725</td>\n",
       "    </tr>\n",
       "    <tr>\n",
       "      <th>2020-10-06</th>\n",
       "      <td>100.010002</td>\n",
       "      <td>100.029999</td>\n",
       "      <td>100.010002</td>\n",
       "      <td>100.029999</td>\n",
       "      <td>100.029999</td>\n",
       "      <td>10080</td>\n",
       "    </tr>\n",
       "    <tr>\n",
       "      <th>2020-10-07</th>\n",
       "      <td>99.949997</td>\n",
       "      <td>99.959999</td>\n",
       "      <td>99.919998</td>\n",
       "      <td>99.919998</td>\n",
       "      <td>99.919998</td>\n",
       "      <td>6350</td>\n",
       "    </tr>\n",
       "  </tbody>\n",
       "</table>\n",
       "</div>"
      ],
      "text/plain": [
       "                  Open        High         Low       Close   Adj Close  Volume\n",
       "Date                                                                          \n",
       "2020-10-01  100.000000  100.000000  100.000000  100.000000  100.000000       0\n",
       "2020-10-02  100.000000  100.000000  100.000000  100.000000  100.000000       0\n",
       "2020-10-05  100.029999  100.040001   99.995003   99.995003   99.995003   10725\n",
       "2020-10-06  100.010002  100.029999  100.010002  100.029999  100.029999   10080\n",
       "2020-10-07   99.949997   99.959999   99.919998   99.919998   99.919998    6350"
      ]
     },
     "execution_count": 23,
     "metadata": {},
     "output_type": "execute_result"
    }
   ],
   "source": [
    "data = yf.download(\"BTC\", start=\"2018-10-01\", end=\"2022-11-28\")\n",
    "data.head()"
   ]
  },
  {
   "cell_type": "code",
   "execution_count": 32,
   "id": "65c76756-28ba-4e9b-81c4-ae99c50033d2",
   "metadata": {},
   "outputs": [],
   "source": [
    "signal = data.loc[:, [\"Close\"]].copy()"
   ]
  },
  {
   "cell_type": "code",
   "execution_count": 33,
   "id": "02f751f3-117a-478f-8a40-07c2351395aa",
   "metadata": {},
   "outputs": [
    {
     "data": {
      "text/html": [
       "<div>\n",
       "<style scoped>\n",
       "    .dataframe tbody tr th:only-of-type {\n",
       "        vertical-align: middle;\n",
       "    }\n",
       "\n",
       "    .dataframe tbody tr th {\n",
       "        vertical-align: top;\n",
       "    }\n",
       "\n",
       "    .dataframe thead th {\n",
       "        text-align: right;\n",
       "    }\n",
       "</style>\n",
       "<table border=\"1\" class=\"dataframe\">\n",
       "  <thead>\n",
       "    <tr style=\"text-align: right;\">\n",
       "      <th></th>\n",
       "      <th>Close</th>\n",
       "      <th>Actual Returns</th>\n",
       "    </tr>\n",
       "    <tr>\n",
       "      <th>Date</th>\n",
       "      <th></th>\n",
       "      <th></th>\n",
       "    </tr>\n",
       "  </thead>\n",
       "  <tbody>\n",
       "    <tr>\n",
       "      <th>2020-10-02</th>\n",
       "      <td>100.000000</td>\n",
       "      <td>NaN</td>\n",
       "    </tr>\n",
       "    <tr>\n",
       "      <th>2020-10-05</th>\n",
       "      <td>99.995003</td>\n",
       "      <td>-0.000050</td>\n",
       "    </tr>\n",
       "    <tr>\n",
       "      <th>2020-10-06</th>\n",
       "      <td>100.029999</td>\n",
       "      <td>0.000350</td>\n",
       "    </tr>\n",
       "    <tr>\n",
       "      <th>2020-10-07</th>\n",
       "      <td>99.919998</td>\n",
       "      <td>-0.001100</td>\n",
       "    </tr>\n",
       "    <tr>\n",
       "      <th>2020-10-08</th>\n",
       "      <td>99.995003</td>\n",
       "      <td>0.000751</td>\n",
       "    </tr>\n",
       "  </tbody>\n",
       "</table>\n",
       "</div>"
      ],
      "text/plain": [
       "                 Close  Actual Returns\n",
       "Date                                  \n",
       "2020-10-02  100.000000             NaN\n",
       "2020-10-05   99.995003       -0.000050\n",
       "2020-10-06  100.029999        0.000350\n",
       "2020-10-07   99.919998       -0.001100\n",
       "2020-10-08   99.995003        0.000751"
      ]
     },
     "execution_count": 33,
     "metadata": {},
     "output_type": "execute_result"
    }
   ],
   "source": [
    "# Calculate the daily returns using the closing prices and the pct_change function\n",
    "signal[\"Actual Returns\"] = data[\"Close\"].pct_change()\n",
    "\n",
    "# Display sample data\n",
    "signal.head()"
   ]
  },
  {
   "cell_type": "code",
   "execution_count": 34,
   "id": "5fcc159b-160c-459f-a671-cce9ff3f18d8",
   "metadata": {},
   "outputs": [],
   "source": [
    "# Drop all NaN values from the DataFrame\n",
    "signal = signal.dropna()"
   ]
  },
  {
   "cell_type": "markdown",
   "id": "ce2c90a8-9758-4359-8d2d-bed1e539afda",
   "metadata": {},
   "source": [
    "### Generating the Features and Target Sets\n",
    "\n",
    "#### Creating the Features Set"
   ]
  },
  {
   "cell_type": "code",
   "execution_count": 35,
   "id": "a70912d3-0fdd-4ab6-b16a-6a37c4c50e1c",
   "metadata": {},
   "outputs": [],
   "source": [
    "# Create an EMA that uses 12 days, and assign it to a new column named “ema_12”\n",
    "signal[\"EMA_12\"] = signal['Close'].ewm(span=12, adjust=False).mean()"
   ]
  },
  {
   "cell_type": "code",
   "execution_count": 36,
   "id": "07da214d-3cd4-4cb4-9b36-80f1fa5018d2",
   "metadata": {},
   "outputs": [],
   "source": [
    "# Create an EMA that uses 26, and assign it to a new columns named “ema_26”\n",
    "signal['EMA_26'] = signal['Close'].ewm(span=long_window, adjust=False).mean()"
   ]
  },
  {
   "cell_type": "code",
   "execution_count": 37,
   "id": "96c856f3-e9a8-40b3-bc08-01aeb32b99c9",
   "metadata": {},
   "outputs": [],
   "source": [
    "signal['MACD'] = signal[\"EMA_12\"] - signal['EMA_26']"
   ]
  },
  {
   "cell_type": "code",
   "execution_count": 38,
   "id": "f216df36-9e69-4373-9bcf-b3ffe1944819",
   "metadata": {},
   "outputs": [],
   "source": [
    "signal['Signal_line'] = signal['MACD'].ewm(span=9, adjust=False).mean()"
   ]
  },
  {
   "cell_type": "code",
   "execution_count": 39,
   "id": "92f7327c-b1de-426a-bd35-76ef9abdd827",
   "metadata": {},
   "outputs": [
    {
     "data": {
      "text/html": [
       "<div>\n",
       "<style scoped>\n",
       "    .dataframe tbody tr th:only-of-type {\n",
       "        vertical-align: middle;\n",
       "    }\n",
       "\n",
       "    .dataframe tbody tr th {\n",
       "        vertical-align: top;\n",
       "    }\n",
       "\n",
       "    .dataframe thead th {\n",
       "        text-align: right;\n",
       "    }\n",
       "</style>\n",
       "<table border=\"1\" class=\"dataframe\">\n",
       "  <thead>\n",
       "    <tr style=\"text-align: right;\">\n",
       "      <th></th>\n",
       "      <th>Close</th>\n",
       "      <th>Actual Returns</th>\n",
       "      <th>EMA_12</th>\n",
       "      <th>EMA_26</th>\n",
       "      <th>MACD</th>\n",
       "      <th>Signal_line</th>\n",
       "    </tr>\n",
       "    <tr>\n",
       "      <th>Date</th>\n",
       "      <th></th>\n",
       "      <th></th>\n",
       "      <th></th>\n",
       "      <th></th>\n",
       "      <th></th>\n",
       "      <th></th>\n",
       "    </tr>\n",
       "  </thead>\n",
       "  <tbody>\n",
       "    <tr>\n",
       "      <th>2020-10-05</th>\n",
       "      <td>99.995003</td>\n",
       "      <td>-0.000050</td>\n",
       "      <td>99.999231</td>\n",
       "      <td>99.995003</td>\n",
       "      <td>0.004228</td>\n",
       "      <td>0.004228</td>\n",
       "    </tr>\n",
       "    <tr>\n",
       "      <th>2020-10-06</th>\n",
       "      <td>100.029999</td>\n",
       "      <td>0.000350</td>\n",
       "      <td>100.003965</td>\n",
       "      <td>99.997595</td>\n",
       "      <td>0.006370</td>\n",
       "      <td>0.004657</td>\n",
       "    </tr>\n",
       "    <tr>\n",
       "      <th>2020-10-07</th>\n",
       "      <td>99.919998</td>\n",
       "      <td>-0.001100</td>\n",
       "      <td>99.991047</td>\n",
       "      <td>99.991847</td>\n",
       "      <td>-0.000800</td>\n",
       "      <td>0.003565</td>\n",
       "    </tr>\n",
       "    <tr>\n",
       "      <th>2020-10-08</th>\n",
       "      <td>99.995003</td>\n",
       "      <td>0.000751</td>\n",
       "      <td>99.991655</td>\n",
       "      <td>99.992081</td>\n",
       "      <td>-0.000426</td>\n",
       "      <td>0.002767</td>\n",
       "    </tr>\n",
       "    <tr>\n",
       "      <th>2020-10-09</th>\n",
       "      <td>99.940002</td>\n",
       "      <td>-0.000550</td>\n",
       "      <td>99.983709</td>\n",
       "      <td>99.988223</td>\n",
       "      <td>-0.004514</td>\n",
       "      <td>0.001311</td>\n",
       "    </tr>\n",
       "  </tbody>\n",
       "</table>\n",
       "</div>"
      ],
      "text/plain": [
       "                 Close  Actual Returns      EMA_12     EMA_26      MACD  \\\n",
       "Date                                                                      \n",
       "2020-10-05   99.995003       -0.000050   99.999231  99.995003  0.004228   \n",
       "2020-10-06  100.029999        0.000350  100.003965  99.997595  0.006370   \n",
       "2020-10-07   99.919998       -0.001100   99.991047  99.991847 -0.000800   \n",
       "2020-10-08   99.995003        0.000751   99.991655  99.992081 -0.000426   \n",
       "2020-10-09   99.940002       -0.000550   99.983709  99.988223 -0.004514   \n",
       "\n",
       "            Signal_line  \n",
       "Date                     \n",
       "2020-10-05     0.004228  \n",
       "2020-10-06     0.004657  \n",
       "2020-10-07     0.003565  \n",
       "2020-10-08     0.002767  \n",
       "2020-10-09     0.001311  "
      ]
     },
     "execution_count": 39,
     "metadata": {},
     "output_type": "execute_result"
    }
   ],
   "source": [
    "signal.head()"
   ]
  },
  {
   "cell_type": "code",
   "execution_count": 57,
   "id": "f9c22805-3fbe-4484-bb91-fd3aa9bac639",
   "metadata": {},
   "outputs": [],
   "source": [
    "import hvplot.pandas"
   ]
  },
  {
   "cell_type": "code",
   "execution_count": 62,
   "id": "ea68b723-722d-4892-bc22-0ff18ac22aeb",
   "metadata": {},
   "outputs": [
    {
     "data": {},
     "metadata": {},
     "output_type": "display_data"
    },
    {
     "data": {
      "application/vnd.holoviews_exec.v0+json": "",
      "text/html": [
       "<div id='1004'>\n",
       "  <div class=\"bk-root\" id=\"04e8c625-a94f-4345-bd7e-c6c1caab233a\" data-root-id=\"1004\"></div>\n",
       "</div>\n",
       "<script type=\"application/javascript\">(function(root) {\n",
       "  function embed_document(root) {\n",
       "    var docs_json = {\"51a3cd03-4ef1-427b-bbb5-0a198cb2712e\":{\"defs\":[{\"extends\":null,\"module\":null,\"name\":\"ReactiveHTML1\",\"overrides\":[],\"properties\":[]},{\"extends\":null,\"module\":null,\"name\":\"FlexBox1\",\"overrides\":[],\"properties\":[{\"default\":\"flex-start\",\"kind\":null,\"name\":\"align_content\"},{\"default\":\"flex-start\",\"kind\":null,\"name\":\"align_items\"},{\"default\":\"row\",\"kind\":null,\"name\":\"flex_direction\"},{\"default\":\"wrap\",\"kind\":null,\"name\":\"flex_wrap\"},{\"default\":\"flex-start\",\"kind\":null,\"name\":\"justify_content\"}]},{\"extends\":null,\"module\":null,\"name\":\"GridStack1\",\"overrides\":[],\"properties\":[{\"default\":\"warn\",\"kind\":null,\"name\":\"mode\"},{\"default\":null,\"kind\":null,\"name\":\"ncols\"},{\"default\":null,\"kind\":null,\"name\":\"nrows\"},{\"default\":true,\"kind\":null,\"name\":\"allow_resize\"},{\"default\":true,\"kind\":null,\"name\":\"allow_drag\"},{\"default\":[],\"kind\":null,\"name\":\"state\"}]},{\"extends\":null,\"module\":null,\"name\":\"click1\",\"overrides\":[],\"properties\":[{\"default\":\"\",\"kind\":null,\"name\":\"terminal_output\"},{\"default\":\"\",\"kind\":null,\"name\":\"debug_name\"},{\"default\":0,\"kind\":null,\"name\":\"clears\"}]},{\"extends\":null,\"module\":null,\"name\":\"NotificationAreaBase1\",\"overrides\":[],\"properties\":[{\"default\":\"bottom-right\",\"kind\":null,\"name\":\"position\"},{\"default\":0,\"kind\":null,\"name\":\"_clear\"}]},{\"extends\":null,\"module\":null,\"name\":\"NotificationArea1\",\"overrides\":[],\"properties\":[{\"default\":[],\"kind\":null,\"name\":\"notifications\"},{\"default\":\"bottom-right\",\"kind\":null,\"name\":\"position\"},{\"default\":0,\"kind\":null,\"name\":\"_clear\"},{\"default\":[{\"background\":\"#ffc107\",\"icon\":{\"className\":\"fas fa-exclamation-triangle\",\"color\":\"white\",\"tagName\":\"i\"},\"type\":\"warning\"},{\"background\":\"#007bff\",\"icon\":{\"className\":\"fas fa-info-circle\",\"color\":\"white\",\"tagName\":\"i\"},\"type\":\"info\"}],\"kind\":null,\"name\":\"types\"}]},{\"extends\":null,\"module\":null,\"name\":\"Notification\",\"overrides\":[],\"properties\":[{\"default\":null,\"kind\":null,\"name\":\"background\"},{\"default\":3000,\"kind\":null,\"name\":\"duration\"},{\"default\":null,\"kind\":null,\"name\":\"icon\"},{\"default\":\"\",\"kind\":null,\"name\":\"message\"},{\"default\":null,\"kind\":null,\"name\":\"notification_type\"},{\"default\":false,\"kind\":null,\"name\":\"_destroyed\"}]},{\"extends\":null,\"module\":null,\"name\":\"TemplateActions1\",\"overrides\":[],\"properties\":[{\"default\":0,\"kind\":null,\"name\":\"open_modal\"},{\"default\":0,\"kind\":null,\"name\":\"close_modal\"}]},{\"extends\":null,\"module\":null,\"name\":\"MaterialTemplateActions1\",\"overrides\":[],\"properties\":[{\"default\":0,\"kind\":null,\"name\":\"open_modal\"},{\"default\":0,\"kind\":null,\"name\":\"close_modal\"}]}],\"roots\":{\"references\":[{\"attributes\":{\"click_policy\":\"mute\",\"coordinates\":null,\"group\":null,\"items\":[{\"id\":\"1077\"},{\"id\":\"1111\"}],\"location\":[0,0],\"title\":\"Variable\"},\"id\":\"1076\",\"type\":\"Legend\"},{\"attributes\":{\"line_color\":\"#30a2da\",\"line_width\":2,\"x\":{\"field\":\"Date\"},\"y\":{\"field\":\"value\"}},\"id\":\"1078\",\"type\":\"Line\"},{\"attributes\":{},\"id\":\"1042\",\"type\":\"AllLabels\"},{\"attributes\":{\"coordinates\":null,\"data_source\":{\"id\":\"1079\"},\"glyph\":{\"id\":\"1082\"},\"group\":null,\"hover_glyph\":null,\"muted_glyph\":{\"id\":\"1084\"},\"nonselection_glyph\":{\"id\":\"1083\"},\"selection_glyph\":{\"id\":\"1112\"},\"view\":{\"id\":\"1086\"}},\"id\":\"1085\",\"type\":\"GlyphRenderer\"},{\"attributes\":{},\"id\":\"1044\",\"type\":\"BasicTickFormatter\"},{\"attributes\":{},\"id\":\"1027\",\"type\":\"SaveTool\"},{\"attributes\":{},\"id\":\"1028\",\"type\":\"PanTool\"},{\"attributes\":{\"label\":{\"value\":\"MACD\"},\"renderers\":[{\"id\":\"1052\"}]},\"id\":\"1077\",\"type\":\"LegendItem\"},{\"attributes\":{},\"id\":\"1045\",\"type\":\"AllLabels\"},{\"attributes\":{},\"id\":\"1029\",\"type\":\"WheelZoomTool\"},{\"attributes\":{},\"id\":\"1017\",\"type\":\"LinearScale\"},{\"attributes\":{\"overlay\":{\"id\":\"1032\"}},\"id\":\"1030\",\"type\":\"BoxZoomTool\"},{\"attributes\":{},\"id\":\"1080\",\"type\":\"Selection\"},{\"attributes\":{},\"id\":\"1031\",\"type\":\"ResetTool\"},{\"attributes\":{\"line_alpha\":0.1,\"line_color\":\"#fc4f30\",\"line_width\":2,\"x\":{\"field\":\"Date\"},\"y\":{\"field\":\"value\"}},\"id\":\"1083\",\"type\":\"Line\"},{\"attributes\":{\"end\":1669334400000.0,\"reset_end\":1669334400000.0,\"reset_start\":1601856000000.0,\"start\":1601856000000.0,\"tags\":[[[\"Date\",\"Date\",null]]]},\"id\":\"1006\",\"type\":\"Range1d\"},{\"attributes\":{},\"id\":\"1047\",\"type\":\"Selection\"},{\"attributes\":{\"mantissas\":[1,2,5],\"max_interval\":500.0,\"num_minor_ticks\":0},\"id\":\"1064\",\"type\":\"AdaptiveTicker\"},{\"attributes\":{\"line_color\":\"#30a2da\",\"line_width\":2,\"x\":{\"field\":\"Date\"},\"y\":{\"field\":\"value\"}},\"id\":\"1049\",\"type\":\"Line\"},{\"attributes\":{\"base\":60,\"mantissas\":[1,2,5,10,15,20,30],\"max_interval\":1800000.0,\"min_interval\":1000.0,\"num_minor_ticks\":0},\"id\":\"1065\",\"type\":\"AdaptiveTicker\"},{\"attributes\":{},\"id\":\"1096\",\"type\":\"UnionRenderers\"},{\"attributes\":{\"line_alpha\":0.2,\"line_color\":\"#fc4f30\",\"line_width\":2,\"x\":{\"field\":\"Date\"},\"y\":{\"field\":\"value\"}},\"id\":\"1084\",\"type\":\"Line\"},{\"attributes\":{\"days\":[1,2,3,4,5,6,7,8,9,10,11,12,13,14,15,16,17,18,19,20,21,22,23,24,25,26,27,28,29,30,31]},\"id\":\"1067\",\"type\":\"DaysTicker\"},{\"attributes\":{\"line_color\":\"#fc4f30\",\"line_width\":2,\"x\":{\"field\":\"Date\"},\"y\":{\"field\":\"value\"}},\"id\":\"1112\",\"type\":\"Line\"},{\"attributes\":{\"source\":{\"id\":\"1046\"}},\"id\":\"1053\",\"type\":\"CDSView\"},{\"attributes\":{\"base\":24,\"mantissas\":[1,2,4,6,8,12],\"max_interval\":43200000.0,\"min_interval\":3600000.0,\"num_minor_ticks\":0},\"id\":\"1066\",\"type\":\"AdaptiveTicker\"},{\"attributes\":{\"line_color\":\"#fc4f30\",\"line_width\":2,\"x\":{\"field\":\"Date\"},\"y\":{\"field\":\"value\"}},\"id\":\"1082\",\"type\":\"Line\"},{\"attributes\":{\"months\":[0,1,2,3,4,5,6,7,8,9,10,11]},\"id\":\"1071\",\"type\":\"MonthsTicker\"},{\"attributes\":{\"line_alpha\":0.2,\"line_color\":\"#30a2da\",\"line_width\":2,\"x\":{\"field\":\"Date\"},\"y\":{\"field\":\"value\"}},\"id\":\"1051\",\"type\":\"Line\"},{\"attributes\":{\"months\":[0,2,4,6,8,10]},\"id\":\"1072\",\"type\":\"MonthsTicker\"},{\"attributes\":{\"line_alpha\":0.1,\"line_color\":\"#30a2da\",\"line_width\":2,\"x\":{\"field\":\"Date\"},\"y\":{\"field\":\"value\"}},\"id\":\"1050\",\"type\":\"Line\"},{\"attributes\":{\"days\":[1,4,7,10,13,16,19,22,25,28]},\"id\":\"1068\",\"type\":\"DaysTicker\"},{\"attributes\":{\"source\":{\"id\":\"1079\"}},\"id\":\"1086\",\"type\":\"CDSView\"},{\"attributes\":{\"days\":[1,15]},\"id\":\"1070\",\"type\":\"DaysTicker\"},{\"attributes\":{\"label\":{\"value\":\"Signal_line\"},\"renderers\":[{\"id\":\"1085\"}]},\"id\":\"1111\",\"type\":\"LegendItem\"},{\"attributes\":{\"months\":[0,6]},\"id\":\"1074\",\"type\":\"MonthsTicker\"},{\"attributes\":{},\"id\":\"1015\",\"type\":\"LinearScale\"},{\"attributes\":{\"coordinates\":null,\"data_source\":{\"id\":\"1046\"},\"glyph\":{\"id\":\"1049\"},\"group\":null,\"hover_glyph\":null,\"muted_glyph\":{\"id\":\"1051\"},\"nonselection_glyph\":{\"id\":\"1050\"},\"selection_glyph\":{\"id\":\"1078\"},\"view\":{\"id\":\"1053\"}},\"id\":\"1052\",\"type\":\"GlyphRenderer\"},{\"attributes\":{\"days\":[1,8,15,22]},\"id\":\"1069\",\"type\":\"DaysTicker\"},{\"attributes\":{\"margin\":[5,5,5,5],\"name\":\"HSpacer01219\",\"sizing_mode\":\"stretch_width\"},\"id\":\"1137\",\"type\":\"Spacer\"},{\"attributes\":{\"callback\":null,\"formatters\":{\"@{Date}\":\"datetime\"},\"renderers\":[{\"id\":\"1052\"},{\"id\":\"1085\"}],\"tags\":[\"hv_created\"],\"tooltips\":[[\"Variable\",\"@{Variable}\"],[\"Date\",\"@{Date}{%F %T}\"],[\"value\",\"@{value}\"]]},\"id\":\"1008\",\"type\":\"HoverTool\"},{\"attributes\":{},\"id\":\"1075\",\"type\":\"YearsTicker\"},{\"attributes\":{\"data\":{\"Date\":{\"__ndarray__\":\"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\",\"dtype\":\"float64\",\"order\":\"little\",\"shape\":[541]},\"Variable\":[\"Signal_line\",\"Signal_line\",\"Signal_line\",\"Signal_line\",\"Signal_line\",\"Signal_line\",\"Signal_line\",\"Signal_line\",\"Signal_line\",\"Signal_line\",\"Signal_line\",\"Signal_line\",\"Signal_line\",\"Signal_line\",\"Signal_line\",\"Signal_line\",\"Signal_line\",\"Signal_line\",\"Signal_line\",\"Signal_line\",\"Signal_line\",\"Signal_line\",\"Signal_line\",\"Signal_line\",\"Signal_line\",\"Signal_line\",\"Signal_line\",\"Signal_line\",\"Signal_line\",\"Signal_line\",\"Signal_line\",\"Signal_line\",\"Signal_line\",\"Signal_line\",\"Signal_line\",\"Signal_line\",\"Signal_line\",\"Signal_line\",\"Signal_line\",\"Signal_line\",\"Signal_line\",\"Signal_line\",\"Signal_line\",\"Signal_line\",\"Signal_line\",\"Signal_line\",\"Signal_line\",\"Signal_line\",\"Signal_line\",\"Signal_line\",\"Signal_line\",\"Signal_line\",\"Signal_line\",\"Signal_line\",\"Signal_line\",\"Signal_line\",\"Signal_line\",\"Signal_line\",\"Signal_line\",\"Signal_line\",\"Signal_line\",\"Signal_line\",\"Signal_line\",\"Signal_line\",\"Signal_line\",\"Signal_line\",\"Signal_line\",\"Signal_line\",\"Signal_line\",\"Signal_line\",\"Signal_line\",\"Signal_line\",\"Signal_line\",\"Signal_line\",\"Signal_line\",\"Signal_line\",\"Signal_line\",\"Signal_line\",\"Signal_line\",\"Signal_line\",\"Signal_line\",\"Signal_line\",\"Signal_line\",\"Signal_line\",\"Signal_line\",\"Signal_line\",\"Signal_line\",\"Signal_line\",\"Signal_line\",\"Signal_line\",\"Signal_line\",\"Signal_line\",\"Signal_line\",\"Signal_line\",\"Signal_line\",\"Signal_line\",\"Signal_line\",\"Signal_line\",\"Signal_line\",\"Signal_line\",\"Signal_line\",\"Signal_line\",\"Signal_line\",\"Signal_line\",\"Signal_line\",\"Signal_line\",\"Signal_line\",\"Signal_line\",\"Signal_line\",\"Signal_line\",\"Signal_line\",\"Signal_line\",\"Signal_line\",\"Signal_line\",\"Signal_line\",\"Signal_line\",\"Signal_line\",\"Signal_line\",\"Signal_line\",\"Signal_line\",\"Signal_line\",\"Signal_line\",\"Signal_line\",\"Signal_line\",\"Signal_line\",\"Signal_line\",\"Signal_line\",\"Signal_line\",\"Signal_line\",\"Signal_line\",\"Signal_line\",\"Signal_line\",\"Signal_line\",\"Signal_line\",\"Signal_line\",\"Signal_line\",\"Signal_line\",\"Signal_line\",\"Signal_line\",\"Signal_line\",\"Signal_line\",\"Signal_line\",\"Signal_line\",\"Signal_line\",\"Signal_line\",\"Signal_line\",\"Signal_line\",\"Signal_line\",\"Signal_line\",\"Signal_line\",\"Signal_line\",\"Signal_line\",\"Signal_line\",\"Signal_line\",\"Signal_line\",\"Signal_line\",\"Signal_line\",\"Signal_line\",\"Signal_line\",\"Signal_line\",\"Signal_line\",\"Signal_line\",\"Signal_line\",\"Signal_line\",\"Signal_line\",\"Signal_line\",\"Signal_line\",\"Signal_line\",\"Signal_line\",\"Signal_line\",\"Signal_line\",\"Signal_line\",\"Signal_line\",\"Signal_line\",\"Signal_line\",\"Signal_line\",\"Signal_line\",\"Signal_line\",\"Signal_line\",\"Signal_line\",\"Signal_line\",\"Signal_line\",\"Signal_line\",\"Signal_line\",\"Signal_line\",\"Signal_line\",\"Signal_line\",\"Signal_line\",\"Signal_line\",\"Signal_line\",\"Signal_line\",\"Signal_line\",\"Signal_line\",\"Signal_line\",\"Signal_line\",\"Signal_line\",\"Signal_line\",\"Signal_line\",\"Signal_line\",\"Signal_line\",\"Signal_line\",\"Signal_line\",\"Signal_line\",\"Signal_line\",\"Signal_line\",\"Signal_line\",\"Signal_line\",\"Signal_line\",\"Signal_line\",\"Signal_line\",\"Signal_line\",\"Signal_line\",\"Signal_line\",\"Signal_line\",\"Signal_line\",\"Signal_line\",\"Signal_line\",\"Signal_line\",\"Signal_line\",\"Signal_line\",\"Signal_line\",\"Signal_line\",\"Signal_line\",\"Signal_line\",\"Signal_line\",\"Signal_line\",\"Signal_line\",\"Signal_line\",\"Signal_line\",\"Signal_line\",\"Signal_line\",\"Signal_line\",\"Signal_line\",\"Signal_line\",\"Signal_line\",\"Signal_line\",\"Signal_line\",\"Signal_line\",\"Signal_line\",\"Signal_line\",\"Signal_line\",\"Signal_line\",\"Signal_line\",\"Signal_line\",\"Signal_line\",\"Signal_line\",\"Signal_line\",\"Signal_line\",\"Signal_line\",\"Signal_line\",\"Signal_line\",\"Signal_line\",\"Signal_line\",\"Signal_line\",\"Signal_line\",\"Signal_line\",\"Signal_line\",\"Signal_line\",\"Signal_line\",\"Signal_line\",\"Signal_line\",\"Signal_line\",\"Signal_line\",\"Signal_line\",\"Signal_line\",\"Signal_line\",\"Signal_line\",\"Signal_line\",\"Signal_line\",\"Signal_line\",\"Signal_line\",\"Signal_line\",\"Signal_line\",\"Signal_line\",\"Signal_line\",\"Signal_line\",\"Signal_line\",\"Signal_line\",\"Signal_line\",\"Signal_line\",\"Signal_line\",\"Signal_line\",\"Signal_line\",\"Signal_line\",\"Signal_line\",\"Signal_line\",\"Signal_line\",\"Signal_line\",\"Signal_line\",\"Signal_line\",\"Signal_line\",\"Signal_line\",\"Signal_line\",\"Signal_line\",\"Signal_line\",\"Signal_line\",\"Signal_line\",\"Signal_line\",\"Signal_line\",\"Signal_line\",\"Signal_line\",\"Signal_line\",\"Signal_line\",\"Signal_line\",\"Signal_line\",\"Signal_line\",\"Signal_line\",\"Signal_line\",\"Signal_line\",\"Signal_line\",\"Signal_line\",\"Signal_line\",\"Signal_line\",\"Signal_line\",\"Signal_line\",\"Signal_line\",\"Signal_line\",\"Signal_line\",\"Signal_line\",\"Signal_line\",\"Signal_line\",\"Signal_line\",\"Signal_line\",\"Signal_line\",\"Signal_line\",\"Signal_line\",\"Signal_line\",\"Signal_line\",\"Signal_line\",\"Signal_line\",\"Signal_line\",\"Signal_line\",\"Signal_line\",\"Signal_line\",\"Signal_line\",\"Signal_line\",\"Signal_line\",\"Signal_line\",\"Signal_line\",\"Signal_line\",\"Signal_line\",\"Signal_line\",\"Signal_line\",\"Signal_line\",\"Signal_line\",\"Signal_line\",\"Signal_line\",\"Signal_line\",\"Signal_line\",\"Signal_line\",\"Signal_line\",\"Signal_line\",\"Signal_line\",\"Signal_line\",\"Signal_line\",\"Signal_line\",\"Signal_line\",\"Signal_line\",\"Signal_line\",\"Signal_line\",\"Signal_line\",\"Signal_line\",\"Signal_line\",\"Signal_line\",\"Signal_line\",\"Signal_line\",\"Signal_line\",\"Signal_line\",\"Signal_line\",\"Signal_line\",\"Signal_line\",\"Signal_line\",\"Signal_line\",\"Signal_line\",\"Signal_line\",\"Signal_line\",\"Signal_line\",\"Signal_line\",\"Signal_line\",\"Signal_line\",\"Signal_line\",\"Signal_line\",\"Signal_line\",\"Signal_line\",\"Signal_line\",\"Signal_line\",\"Signal_line\",\"Signal_line\",\"Signal_line\",\"Signal_line\",\"Signal_line\",\"Signal_line\",\"Signal_line\",\"Signal_line\",\"Signal_line\",\"Signal_line\",\"Signal_line\",\"Signal_line\",\"Signal_line\",\"Signal_line\",\"Signal_line\",\"Signal_line\",\"Signal_line\",\"Signal_line\",\"Signal_line\",\"Signal_line\",\"Signal_line\",\"Signal_line\",\"Signal_line\",\"Signal_line\",\"Signal_line\",\"Signal_line\",\"Signal_line\",\"Signal_line\",\"Signal_line\",\"Signal_line\",\"Signal_line\",\"Signal_line\",\"Signal_line\",\"Signal_line\",\"Signal_line\",\"Signal_line\",\"Signal_line\",\"Signal_line\",\"Signal_line\",\"Signal_line\",\"Signal_line\",\"Signal_line\",\"Signal_line\",\"Signal_line\",\"Signal_line\",\"Signal_line\",\"Signal_line\",\"Signal_line\",\"Signal_line\",\"Signal_line\",\"Signal_line\",\"Signal_line\",\"Signal_line\",\"Signal_line\",\"Signal_line\",\"Signal_line\",\"Signal_line\",\"Signal_line\",\"Signal_line\",\"Signal_line\",\"Signal_line\",\"Signal_line\",\"Signal_line\",\"Signal_line\",\"Signal_line\",\"Signal_line\",\"Signal_line\",\"Signal_line\",\"Signal_line\",\"Signal_line\",\"Signal_line\",\"Signal_line\",\"Signal_line\",\"Signal_line\",\"Signal_line\",\"Signal_line\",\"Signal_line\",\"Signal_line\",\"Signal_line\",\"Signal_line\",\"Signal_line\",\"Signal_line\",\"Signal_line\",\"Signal_line\",\"Signal_line\",\"Signal_line\",\"Signal_line\",\"Signal_line\",\"Signal_line\",\"Signal_line\",\"Signal_line\",\"Signal_line\",\"Signal_line\",\"Signal_line\",\"Signal_line\",\"Signal_line\",\"Signal_line\",\"Signal_line\",\"Signal_line\",\"Signal_line\",\"Signal_line\",\"Signal_line\",\"Signal_line\",\"Signal_line\",\"Signal_line\",\"Signal_line\",\"Signal_line\",\"Signal_line\",\"Signal_line\",\"Signal_line\",\"Signal_line\",\"Signal_line\",\"Signal_line\",\"Signal_line\",\"Signal_line\",\"Signal_line\",\"Signal_line\",\"Signal_line\",\"Signal_line\",\"Signal_line\",\"Signal_line\",\"Signal_line\",\"Signal_line\",\"Signal_line\",\"Signal_line\",\"Signal_line\",\"Signal_line\",\"Signal_line\",\"Signal_line\",\"Signal_line\",\"Signal_line\",\"Signal_line\",\"Signal_line\",\"Signal_line\",\"Signal_line\",\"Signal_line\",\"Signal_line\",\"Signal_line\",\"Signal_line\",\"Signal_line\",\"Signal_line\",\"Signal_line\",\"Signal_line\",\"Signal_line\",\"Signal_line\",\"Signal_line\",\"Signal_line\",\"Signal_line\",\"Signal_line\",\"Signal_line\",\"Signal_line\",\"Signal_line\",\"Signal_line\",\"Signal_line\",\"Signal_line\"],\"value\":{\"__ndarray__\":\"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\",\"dtype\":\"float64\",\"order\":\"little\",\"shape\":[541]}},\"selected\":{\"id\":\"1080\"},\"selection_policy\":{\"id\":\"1096\"}},\"id\":\"1079\",\"type\":\"ColumnDataSource\"},{\"attributes\":{\"children\":[{\"id\":\"1005\"},{\"id\":\"1010\"},{\"id\":\"1137\"}],\"margin\":[0,0,0,0],\"name\":\"Row01214\",\"tags\":[\"embedded\"]},\"id\":\"1004\",\"type\":\"Row\"},{\"attributes\":{\"months\":[0,4,8]},\"id\":\"1073\",\"type\":\"MonthsTicker\"},{\"attributes\":{},\"id\":\"1061\",\"type\":\"UnionRenderers\"},{\"attributes\":{\"end\":0.48768459064172304,\"reset_end\":0.48768459064172304,\"reset_start\":-0.9230882895787176,\"start\":-0.9230882895787176,\"tags\":[[[\"value\",\"value\",null]]]},\"id\":\"1007\",\"type\":\"Range1d\"},{\"attributes\":{\"margin\":[5,5,5,5],\"name\":\"HSpacer01218\",\"sizing_mode\":\"stretch_width\"},\"id\":\"1005\",\"type\":\"Spacer\"},{\"attributes\":{\"axis_label\":\"Date\",\"coordinates\":null,\"formatter\":{\"id\":\"1041\"},\"group\":null,\"major_label_policy\":{\"id\":\"1042\"},\"ticker\":{\"id\":\"1020\"}},\"id\":\"1019\",\"type\":\"DatetimeAxis\"},{\"attributes\":{\"coordinates\":null,\"group\":null,\"text_color\":\"black\",\"text_font_size\":\"12pt\"},\"id\":\"1011\",\"type\":\"Title\"},{\"attributes\":{},\"id\":\"1041\",\"type\":\"DatetimeTickFormatter\"},{\"attributes\":{\"axis_label\":\"\",\"coordinates\":null,\"formatter\":{\"id\":\"1044\"},\"group\":null,\"major_label_policy\":{\"id\":\"1045\"},\"ticker\":{\"id\":\"1024\"}},\"id\":\"1023\",\"type\":\"LinearAxis\"},{\"attributes\":{\"data\":{\"Date\":{\"__ndarray__\":\"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\",\"dtype\":\"float64\",\"order\":\"little\",\"shape\":[541]},\"Variable\":[\"MACD\",\"MACD\",\"MACD\",\"MACD\",\"MACD\",\"MACD\",\"MACD\",\"MACD\",\"MACD\",\"MACD\",\"MACD\",\"MACD\",\"MACD\",\"MACD\",\"MACD\",\"MACD\",\"MACD\",\"MACD\",\"MACD\",\"MACD\",\"MACD\",\"MACD\",\"MACD\",\"MACD\",\"MACD\",\"MACD\",\"MACD\",\"MACD\",\"MACD\",\"MACD\",\"MACD\",\"MACD\",\"MACD\",\"MACD\",\"MACD\",\"MACD\",\"MACD\",\"MACD\",\"MACD\",\"MACD\",\"MACD\",\"MACD\",\"MACD\",\"MACD\",\"MACD\",\"MACD\",\"MACD\",\"MACD\",\"MACD\",\"MACD\",\"MACD\",\"MACD\",\"MACD\",\"MACD\",\"MACD\",\"MACD\",\"MACD\",\"MACD\",\"MACD\",\"MACD\",\"MACD\",\"MACD\",\"MACD\",\"MACD\",\"MACD\",\"MACD\",\"MACD\",\"MACD\",\"MACD\",\"MACD\",\"MACD\",\"MACD\",\"MACD\",\"MACD\",\"MACD\",\"MACD\",\"MACD\",\"MACD\",\"MACD\",\"MACD\",\"MACD\",\"MACD\",\"MACD\",\"MACD\",\"MACD\",\"MACD\",\"MACD\",\"MACD\",\"MACD\",\"MACD\",\"MACD\",\"MACD\",\"MACD\",\"MACD\",\"MACD\",\"MACD\",\"MACD\",\"MACD\",\"MACD\",\"MACD\",\"MACD\",\"MACD\",\"MACD\",\"MACD\",\"MACD\",\"MACD\",\"MACD\",\"MACD\",\"MACD\",\"MACD\",\"MACD\",\"MACD\",\"MACD\",\"MACD\",\"MACD\",\"MACD\",\"MACD\",\"MACD\",\"MACD\",\"MACD\",\"MACD\",\"MACD\",\"MACD\",\"MACD\",\"MACD\",\"MACD\",\"MACD\",\"MACD\",\"MACD\",\"MACD\",\"MACD\",\"MACD\",\"MACD\",\"MACD\",\"MACD\",\"MACD\",\"MACD\",\"MACD\",\"MACD\",\"MACD\",\"MACD\",\"MACD\",\"MACD\",\"MACD\",\"MACD\",\"MACD\",\"MACD\",\"MACD\",\"MACD\",\"MACD\",\"MACD\",\"MACD\",\"MACD\",\"MACD\",\"MACD\",\"MACD\",\"MACD\",\"MACD\",\"MACD\",\"MACD\",\"MACD\",\"MACD\",\"MACD\",\"MACD\",\"MACD\",\"MACD\",\"MACD\",\"MACD\",\"MACD\",\"MACD\",\"MACD\",\"MACD\",\"MACD\",\"MACD\",\"MACD\",\"MACD\",\"MACD\",\"MACD\",\"MACD\",\"MACD\",\"MACD\",\"MACD\",\"MACD\",\"MACD\",\"MACD\",\"MACD\",\"MACD\",\"MACD\",\"MACD\",\"MACD\",\"MACD\",\"MACD\",\"MACD\",\"MACD\",\"MACD\",\"MACD\",\"MACD\",\"MACD\",\"MACD\",\"MACD\",\"MACD\",\"MACD\",\"MACD\",\"MACD\",\"MACD\",\"MACD\",\"MACD\",\"MACD\",\"MACD\",\"MACD\",\"MACD\",\"MACD\",\"MACD\",\"MACD\",\"MACD\",\"MACD\",\"MACD\",\"MACD\",\"MACD\",\"MACD\",\"MACD\",\"MACD\",\"MACD\",\"MACD\",\"MACD\",\"MACD\",\"MACD\",\"MACD\",\"MACD\",\"MACD\",\"MACD\",\"MACD\",\"MACD\",\"MACD\",\"MACD\",\"MACD\",\"MACD\",\"MACD\",\"MACD\",\"MACD\",\"MACD\",\"MACD\",\"MACD\",\"MACD\",\"MACD\",\"MACD\",\"MACD\",\"MACD\",\"MACD\",\"MACD\",\"MACD\",\"MACD\",\"MACD\",\"MACD\",\"MACD\",\"MACD\",\"MACD\",\"MACD\",\"MACD\",\"MACD\",\"MACD\",\"MACD\",\"MACD\",\"MACD\",\"MACD\",\"MACD\",\"MACD\",\"MACD\",\"MACD\",\"MACD\",\"MACD\",\"MACD\",\"MACD\",\"MACD\",\"MACD\",\"MACD\",\"MACD\",\"MACD\",\"MACD\",\"MACD\",\"MACD\",\"MACD\",\"MACD\",\"MACD\",\"MACD\",\"MACD\",\"MACD\",\"MACD\",\"MACD\",\"MACD\",\"MACD\",\"MACD\",\"MACD\",\"MACD\",\"MACD\",\"MACD\",\"MACD\",\"MACD\",\"MACD\",\"MACD\",\"MACD\",\"MACD\",\"MACD\",\"MACD\",\"MACD\",\"MACD\",\"MACD\",\"MACD\",\"MACD\",\"MACD\",\"MACD\",\"MACD\",\"MACD\",\"MACD\",\"MACD\",\"MACD\",\"MACD\",\"MACD\",\"MACD\",\"MACD\",\"MACD\",\"MACD\",\"MACD\",\"MACD\",\"MACD\",\"MACD\",\"MACD\",\"MACD\",\"MACD\",\"MACD\",\"MACD\",\"MACD\",\"MACD\",\"MACD\",\"MACD\",\"MACD\",\"MACD\",\"MACD\",\"MACD\",\"MACD\",\"MACD\",\"MACD\",\"MACD\",\"MACD\",\"MACD\",\"MACD\",\"MACD\",\"MACD\",\"MACD\",\"MACD\",\"MACD\",\"MACD\",\"MACD\",\"MACD\",\"MACD\",\"MACD\",\"MACD\",\"MACD\",\"MACD\",\"MACD\",\"MACD\",\"MACD\",\"MACD\",\"MACD\",\"MACD\",\"MACD\",\"MACD\",\"MACD\",\"MACD\",\"MACD\",\"MACD\",\"MACD\",\"MACD\",\"MACD\",\"MACD\",\"MACD\",\"MACD\",\"MACD\",\"MACD\",\"MACD\",\"MACD\",\"MACD\",\"MACD\",\"MACD\",\"MACD\",\"MACD\",\"MACD\",\"MACD\",\"MACD\",\"MACD\",\"MACD\",\"MACD\",\"MACD\",\"MACD\",\"MACD\",\"MACD\",\"MACD\",\"MACD\",\"MACD\",\"MACD\",\"MACD\",\"MACD\",\"MACD\",\"MACD\",\"MACD\",\"MACD\",\"MACD\",\"MACD\",\"MACD\",\"MACD\",\"MACD\",\"MACD\",\"MACD\",\"MACD\",\"MACD\",\"MACD\",\"MACD\",\"MACD\",\"MACD\",\"MACD\",\"MACD\",\"MACD\",\"MACD\",\"MACD\",\"MACD\",\"MACD\",\"MACD\",\"MACD\",\"MACD\",\"MACD\",\"MACD\",\"MACD\",\"MACD\",\"MACD\",\"MACD\",\"MACD\",\"MACD\",\"MACD\",\"MACD\",\"MACD\",\"MACD\",\"MACD\",\"MACD\",\"MACD\",\"MACD\",\"MACD\",\"MACD\",\"MACD\",\"MACD\",\"MACD\",\"MACD\",\"MACD\",\"MACD\",\"MACD\",\"MACD\",\"MACD\",\"MACD\",\"MACD\",\"MACD\",\"MACD\",\"MACD\",\"MACD\",\"MACD\",\"MACD\",\"MACD\",\"MACD\",\"MACD\",\"MACD\",\"MACD\",\"MACD\",\"MACD\",\"MACD\",\"MACD\",\"MACD\",\"MACD\",\"MACD\",\"MACD\",\"MACD\",\"MACD\",\"MACD\",\"MACD\",\"MACD\",\"MACD\",\"MACD\",\"MACD\",\"MACD\",\"MACD\",\"MACD\",\"MACD\",\"MACD\",\"MACD\",\"MACD\",\"MACD\",\"MACD\",\"MACD\",\"MACD\",\"MACD\",\"MACD\",\"MACD\",\"MACD\",\"MACD\",\"MACD\",\"MACD\",\"MACD\",\"MACD\",\"MACD\",\"MACD\",\"MACD\",\"MACD\",\"MACD\",\"MACD\",\"MACD\",\"MACD\",\"MACD\",\"MACD\",\"MACD\",\"MACD\",\"MACD\",\"MACD\",\"MACD\",\"MACD\",\"MACD\",\"MACD\",\"MACD\",\"MACD\",\"MACD\",\"MACD\",\"MACD\",\"MACD\",\"MACD\",\"MACD\",\"MACD\",\"MACD\",\"MACD\",\"MACD\",\"MACD\",\"MACD\",\"MACD\",\"MACD\",\"MACD\",\"MACD\"],\"value\":{\"__ndarray__\":\"AMCJndhRcT8AwEg/CBd6PwAAXJ0cOkq/AAA0xQLjO78AgK/gwH1yvwBAMNUCZ3+/AGBLGCl/gL8AAAbdiJh+vwAgKW/ZFYO/AGB7CiUaib8A4NA31p+RvwCAH08W55i/AHjap3sXoL8AwGLylsulvwDAnby3Yai/AIirhHBFp78AIJoYv+OjvwAon5giPaK/ACDt4E1vpb8AWKl7u46qvwDoZZWPKq6/ALCYfrIWsb8AQJri9UaovwDQLBAViZ6/AOAZ7p69l78AMIBtEBifvwDIoXqQl6a/ALj6U7w6q78AeIbJNLOpvwAAoE0XWqi/AHASuvUKp78AcMOWrXyivwBg9FX7aZ2/AFCgbFzjk78AAK2d00+EvwAA1E9+dnO/AACUkf5LRb8AQLbwS7NyPwAgo4xYro4/ABCaHrwDnD8A0E1aWdSZPwBA+291u5U/AKAbM2xxmj8AUG6VEIGUPwAAYnv5T5c/ADDDKeB4mj8AsHRyl0CTPwAwD5qogJM/AOA/ummCmj8AsMdpTPmdPwAYrdXalKA/AEg3skykoT8AqKsyAN2hPwCwmce6bKE/AGAyUx27nz8AaELTZlGhPwBowGwAoaA/AOCMtgdloT8A8HImbEejPwBwqHUFnqQ/AEhi1U4Mpz8AyPK8lr+qPwC4jcUfCKw/ALCuqoW9qT8A+Jwa4XygPwBg+be7QIo/AGAxSd+jg78AyEWCKEugvwCYAqbuCam/ADiXpvHWq78A0IACHfCuvwAAF590t62/ADilaWBOq78AWK2k6BOpvwA4zjpitai/ABhQkwiCpr8AUNQifyqhvwDQ6R/rv5m/ABBmFnxClL8AUG0yGhyTvwBArtnQcpK/AMBDSevkj78AUBpZPtKSvwCAiLd/gJi/AKBCBREKm78AQKShlaGevwDIBj5y7KC/APAvf7qooL8AkGB6d3eZvwDQvvAsipO/ACBYn8I/lb8ACOw+ypulvwBodNRngKy/ALz/cVphsL8ATG3XS4S0vwB06y3ikLm/ACir4wVWvL8AzMe8y+K+vwAwWWy8gca/APoTwOZvyb8Ayrly/yvKvwB6NB7Btcm/ANxjg8XFyr8AImyKzADNvwBGqtvBSc+/ABPUoFeI0b8AJUHSd1TSvwBXAKqqKdK/AKpxiy1N0b8AjnRwhrPRvwDHG/Z5rtG/AA+Ks21o0b8ArdQKiKDQvwBmXk4Z6NC/AO2eMy7/0L8ArDBGDm3QvwBO92aTVM6/ANKSybuey78AHnkf3x7JvwCQ1zhJ3ce/AMZoY++cx78A2qz01GPHvwCirh0m7sa/AGILZzT6xL8AfJiWrnPEvwAGpY3748G/AKwBQCskv78AcHFobD65vwCQE3n2i7W/AIDl361as78AEH9vFTCuvwAIRR+FqKe/AFB017FrlL8AAKl22zGUPwBoLR4nCKQ/ANh1q0BBqT8AEGU9mQ2qPwD4ReSeoKs/AKAqDD+wqz8AyKgvIQOrPwAoh58TkKQ/AOBmBQB5oT8AMJ3U8iObPwAA5d9+hJc/ADDj3sjtmD8AAAjC5wydPwCgpEGRCaM/APiFUd33pj8AkP1MV7+sPwBwrjKHaq8/AADnZRGTsD8AGPHsfRCxPwDkFKL5QLE/APxS6p80sT8AQKzTwPiwPwC0+SFVmLA/ABRwD2AcsD8AEM0zgxivPwAIWor3260/AIC0ttmMrD8ACJnGADOrPwAIv4Kw1Kk/AMhQed52qD8AoILkax2nPwAg3i1Wy6U/ABgZid+CpD8A8FnmsEWjPwBA9kn2FKI/AMCWbXbxoD8AcCjWTLefPwCgkyZ0p50/AIBd82Kzmz8AkCBQyNqZPwCwQLcUHZg/ACB5Ool5lj8AoMLzQ++UPwAAoSpKfZM/AKB6j5Aikj8AsAvfAd6QPwBA0mUIXY8/AGDrcfoljT8A4KwEqxSLPwCgLyX2Jok/AGAnosZahz8AYCvyGK6FPwAAEEH9HoQ/AMAB0pirgj8AQGvXJlKBPwAgH9z4EIA/AEAXqe3MfT8AAKTVPaJ7PwAAnyoKn3k/AMDLCKXAdz8AwPvjiQR2PwDAr7ZbaHQ/AAA6WOPpcj8AAKLADYdxPwCgMt0JGag/AOCzfc2otT8AZDBmcbG5PwBIjB+DZb4/ABLLZmrlwD8AVkn1uCbCPwDMykrvkcM/AKBJ6uncxD8AxCMKRB3FPwBGUpvr0MU/AP5/8vBixz8APv4jXGPIPwDWhwY+Tcg/AJgDMUrRxj8AyAJRrZfDPwA6ySatA8A/AFAU7vpBuD8AJIm71IazPwAYlp/XM64/AODq7CqKrD8AYHEH/6atPwBQSA4MKaw/AGDe/OWgqD8AgDP6vtOnPwDI691be6U/AOgRywhdpD8AoKD7y+CgPwBgcOLgjpQ/AMCk/k4shj8AgJp9ZPmLPwDwEIZxJ5g/ACjgEKpUoD8AgKSDWd2iPwBYJNncRqY/AMiT3oJ2pz8A4FOqbp2iPwDwQFrP2KA/ACB4c3L3oz8A6IEY64GiPwBQA6McVqA/AGgAArpZoz8AuC/hp22iPwDgQCLldJw/AGDMfjdQiD8AQFGypqKIPwBgwHxj44I/AADmI7OLbj8AQEPC43yVvwAYiwahz6i/AAgcP6L6sb8AZCjFFoi6vwD4bxsBQ8C/AJ5hIbgQwr8Ayqxrg6PBvwACTgnpaMG/AMJe8WPmwb8AVkYLkCHCvwDKumQLlsO/AChRDoEQxb8AzM4nA17HvwDGigfC4Me/AFRNminix78Arv3OVZDGvwCsYtwi9ca/ALY8dpwTyL8AWllR23HJvwBihTM6asm/ADRuTJgjy78AahgGBM7LvwDu9z9Lasu/AHAPFVovyr8AZv+qQX7HvwCC/gR+V8a/AGZleWHfxL8A/GAuiiHEvwDmxiny9sG/AM5GcsufwL8A2MnGV2C6vwCcBAwDnLC/AKiRF4cXqb8A0JTo4IWZvwB4lrOa0qG/AAj/siJIqr8AOC2hnZiuvwDssQpTabO/AMRK/ECUt78AkH4NIvG4vwDsEBJLtLi/ADhDNtm5t78AML83z4e9vwB6H7fJ3cG/AEKvk/z2w78AiBlGwazBvwDYAQnhAr+/AEj+9Yq3ub8AfHcB/de1vwAEvdNPLbO/ADBN5mQoqr8AwAF7wl+nvwDALET6Zai/AGAs2+WTq78AIOy6PcisvwDQlDMVt6u/AFiQfjp1pb8A8OxLr/yjvwDYJ3KIv6a/AIjZPV4soL8AABdUJJeWvwCAIbHcj4y/AMDKW8lzk78A4Id0OJGPvwCAaPlO0pC/AMCkXdHDkL8AoHIHc4aKvwDw5We48ZK/AIBtlSUFir8AIGY0Zm2EvwDQjh6wnp+/AChLmnElqL8AYMo5eS+zvwA0sqpk0Lq/AC42tmsqwb8AjFSLnGvEvwDCMdkE88W/API4Y6rrxr8ATkI3BLLGvwAEt47O38i/ANyd9Pibzb8A6sgvghDQvwBb/SRa09C/AFz+kv1F0L8AGE3WuxrPvwBk06ElbM6/AIJr1hJD0L8ARhUv8gzRvwCDgKDq89C/AG+0s+2n0L8AAmp7iVLQvwBgCCoW/s6/ABTh+r0Fz78AG3auq0/RvwBK1IB5TdK/ALHloNKW078ApDmlBTzUvwAJ/iH6bNe/AG7nQ8+b178A7Vyn4dDYvwCGq5k01dm/AOyWmWzu2b8A++hmkQjZvwCl8B1Kqde/AGmkT8rr1r8AUHgt78LWvwDGudJU6dW/ALDQl2bt1L8AE6DciKbRvwDEq3zlKMq/ACRE9EQ5yL8ATv+tqv7FvwDoXgUHUcG/AIhOBbvHv78AItsfozHCvwAILZGD3cW/ACCJmYNMyr8AEmubiwjOvwAcW4VMttK/AK7xAhR91b8A2haZJrPXvwAvufKElNi/AKRddjN42L8AmrwoH+ravwCnfpqHT92/AMkTvoS/3b8ASP+Almbev4BNqmupeOC/AGGaZf424b8AqSFZXpnhv4D/7Jp/NeG/gNGTXvGf4L8Ar/8AgebgvwDw2DUiq+C/gCPjVctu4b8AYe7Rtf/hv4CYAbTgTOK/gOqTslDd4r+AIeFPHY7jv4D/xA5M/OK/gL84+shC4r8AOCtDwFrivwBz8QOnWOK/AKLmbxYg478AX6P6HTPjv4CJDC2heeO/gHtypt2i478Azcmvys7iv4AAy2cRW+G/gH6Z2Xtx4L8AyvdshaffvwDS2IeBKt+/gNd3w5ob4L8Akc6F4zDgvwC9lelic96/AEJzznk03r8Ahogr6YnevwCVJhWu99y/AOD9PBbX2r8AynIFgEPYvwDaG64lGtW/AOAWss1G078AOeaQOsLQvwBmwOfoj9C/ABhvPGDazr8A+OMK3q/KvwAOBJtXbsW/AHgRxzwBw78AYBLr4sK5vwDoyigRwqe/AACCCzHmaT8AKJoiToanPwA4UtT2Oao/AIBQRm/Jnz8A4AI1OFGTPwAAufYO1F4/AGCJv5lJoL8AsGRS4cOovwCEjcoPe7K/APRKhL2Zub8AdtZ6aL/FvwDQNDXh4NK/AAgL4+a22r8AMfJvyhHdvwD0lTQyfN2/ANxhI0uq3b8AwhpqcCXevwBq7vzwrdu/AGppADxl2L8ACGnEJNDVvwAj+vGLtNS/AD5o3uof1L8AZllpnfvRvwCyXaZSV8y/ALL/XUF1wL8AUHz4brymvwDgX2ZtI4y/AMBCjq0gcr8AgH2StlaDvwCAdzTI3GA/ACD0EVtklz8AgEGQVPSkPwBQC5VAsqY/AOikV0XRqz8A0PkfcXitPwCgwoAS7KU/AFBVtjtLmz8AqFB+I7OsPwAkfQ9AlL0/AEJd+44/wz8ADM8R2v/FPwC84pfxFMs/AIJ0LB6M0T8ARFJCDuXUPwC+a5EMsNc/AOrYlJRJ1j8Axwb5VKTVPwAwDqqQ6tU/AAUWMi/f0j8AcPfvBDHRPwBEhh2QsM0/AB6rPGeRzD8A2iRCNefHPwDsDIj6k8U/ANQSmFAoxT8ABOpJND3DPwCkx308mLw/ANx/QVeHtj8AYP0tU9ipPwAANIyfck8/AKBjPJdUpb8AJNUAhCG2vwDUKUO9rLm/AMjkjxlavr8AlFQ4h4rDvwBMSO94Lse/ACIiUJoXyr8A1B5CNffPvwBr9EYQpNC/AAS4WitH078AaOUI8pvTvwBj0HQBXNS/APPsYXz81L8AfdAsmHvVvwDK7XVCvte/AKDSnRZm2b8AboZRwVfbvwAVwPwyC9y/APWEz0VG3b8AnIGfQgrfvwAybjZJnt+/AB5oOwlW4b+ATyQ38K3ivwD8WRIeJ+W/ADABR9x8578AXCVFuB7ov4C9ZTHsAem/AJylBdrG6b8AeM6TCpjov4Cqie6I5+a/gGuiM/BF5r8AKpverNzlv4BqKxbBIea/APH83qFt5r+AyKToHm7mvwC5lhgL9uW/gFEdcxz55b+Ar96qNiXmvwDau+Ey2uW/AFcC2gQT5b8AOSrl+Vflv4C+srmKCOa/gIeKekqb5b8AUh7ozgzlvwBdJPtiY+O/AGhnNK1r4b8AxbBc/MPdvwCW2avBg9q/AIh0Ryry2L8AQFFNPEPXvwCmR6lvRNa/AE7eE/VL1r8AnSxvdZDVvwDFeH8/e9W/AKsHwCYJ1L8AZCTO6kPSvwBCn3Jcc8W/AOAshKbKs78AoNVOlU2PvwBQrVgL7q8/AMz7IVTdwT8AxjHjubDGPwD+qslvYMg/ANbHQ3AByT8AqMppon3KPwAU5D4SKc4/AAhQOWCF0D8=\",\"dtype\":\"float64\",\"order\":\"little\",\"shape\":[541]}},\"selected\":{\"id\":\"1047\"},\"selection_policy\":{\"id\":\"1061\"}},\"id\":\"1046\",\"type\":\"ColumnDataSource\"},{\"attributes\":{\"num_minor_ticks\":5,\"tickers\":[{\"id\":\"1064\"},{\"id\":\"1065\"},{\"id\":\"1066\"},{\"id\":\"1067\"},{\"id\":\"1068\"},{\"id\":\"1069\"},{\"id\":\"1070\"},{\"id\":\"1071\"},{\"id\":\"1072\"},{\"id\":\"1073\"},{\"id\":\"1074\"},{\"id\":\"1075\"}]},\"id\":\"1020\",\"type\":\"DatetimeTicker\"},{\"attributes\":{\"below\":[{\"id\":\"1019\"}],\"center\":[{\"id\":\"1022\"},{\"id\":\"1026\"}],\"height\":300,\"left\":[{\"id\":\"1023\"}],\"margin\":[5,5,5,5],\"min_border_bottom\":10,\"min_border_left\":10,\"min_border_right\":10,\"min_border_top\":10,\"renderers\":[{\"id\":\"1052\"},{\"id\":\"1085\"}],\"right\":[{\"id\":\"1076\"}],\"sizing_mode\":\"fixed\",\"title\":{\"id\":\"1011\"},\"toolbar\":{\"id\":\"1033\"},\"width\":700,\"x_range\":{\"id\":\"1006\"},\"x_scale\":{\"id\":\"1015\"},\"y_range\":{\"id\":\"1007\"},\"y_scale\":{\"id\":\"1017\"}},\"id\":\"1010\",\"subtype\":\"Figure\",\"type\":\"Plot\"},{\"attributes\":{\"axis\":{\"id\":\"1019\"},\"coordinates\":null,\"grid_line_color\":null,\"group\":null,\"ticker\":null},\"id\":\"1022\",\"type\":\"Grid\"},{\"attributes\":{\"bottom_units\":\"screen\",\"coordinates\":null,\"fill_alpha\":0.5,\"fill_color\":\"lightgrey\",\"group\":null,\"left_units\":\"screen\",\"level\":\"overlay\",\"line_alpha\":1.0,\"line_color\":\"black\",\"line_dash\":[4,4],\"line_width\":2,\"right_units\":\"screen\",\"syncable\":false,\"top_units\":\"screen\"},\"id\":\"1032\",\"type\":\"BoxAnnotation\"},{\"attributes\":{\"axis\":{\"id\":\"1023\"},\"coordinates\":null,\"dimension\":1,\"grid_line_color\":null,\"group\":null,\"ticker\":null},\"id\":\"1026\",\"type\":\"Grid\"},{\"attributes\":{\"tools\":[{\"id\":\"1008\"},{\"id\":\"1027\"},{\"id\":\"1028\"},{\"id\":\"1029\"},{\"id\":\"1030\"},{\"id\":\"1031\"}]},\"id\":\"1033\",\"type\":\"Toolbar\"},{\"attributes\":{},\"id\":\"1024\",\"type\":\"BasicTicker\"}],\"root_ids\":[\"1004\"]},\"title\":\"Bokeh Application\",\"version\":\"2.4.3\"}};\n",
       "    var render_items = [{\"docid\":\"51a3cd03-4ef1-427b-bbb5-0a198cb2712e\",\"root_ids\":[\"1004\"],\"roots\":{\"1004\":\"04e8c625-a94f-4345-bd7e-c6c1caab233a\"}}];\n",
       "    root.Bokeh.embed.embed_items_notebook(docs_json, render_items);\n",
       "    for (const render_item of render_items) {\n",
       "      for (const root_id of render_item.root_ids) {\n",
       "\tconst id_el = document.getElementById(root_id)\n",
       "\tif (id_el.children.length && (id_el.children[0].className === 'bk-root')) {\n",
       "\t  const root_el = id_el.children[0]\n",
       "\t  root_el.id = root_el.id + '-rendered'\n",
       "\t}\n",
       "      }\n",
       "    }\n",
       "  }\n",
       "  if (root.Bokeh !== undefined && root.Bokeh.Panel !== undefined) {\n",
       "    embed_document(root);\n",
       "  } else {\n",
       "    var attempts = 0;\n",
       "    var timer = setInterval(function(root) {\n",
       "      if (root.Bokeh !== undefined && root.Bokeh.Panel !== undefined) {\n",
       "        clearInterval(timer);\n",
       "        embed_document(root);\n",
       "      } else if (document.readyState == \"complete\") {\n",
       "        attempts++;\n",
       "        if (attempts > 200) {\n",
       "          clearInterval(timer);\n",
       "          console.log(\"Bokeh: ERROR: Unable to run BokehJS code because BokehJS library is missing\");\n",
       "        }\n",
       "      }\n",
       "    }, 25, root)\n",
       "  }\n",
       "})(window);</script>"
      ],
      "text/plain": [
       ":NdOverlay   [Variable]\n",
       "   :Curve   [Date]   (value)"
      ]
     },
     "execution_count": 62,
     "metadata": {
      "application/vnd.holoviews_exec.v0+json": {
       "id": "1004"
      }
     },
     "output_type": "execute_result"
    }
   ],
   "source": [
    "macd = signal[['MACD', 'Signal_line']].hvplot()\n",
    "macd"
   ]
  },
  {
   "cell_type": "code",
   "execution_count": 63,
   "id": "27a8cbbb-49de-4f0b-935d-bb739648b0b3",
   "metadata": {},
   "outputs": [],
   "source": [
    "signal['gist'] = signal['MACD'] - signal['Signal_line']"
   ]
  },
  {
   "cell_type": "code",
   "execution_count": 65,
   "id": "4212f0c9-5c4b-46a0-9b54-8beab1bbd130",
   "metadata": {},
   "outputs": [
    {
     "data": {},
     "metadata": {},
     "output_type": "display_data"
    },
    {
     "data": {
      "application/vnd.holoviews_exec.v0+json": "",
      "text/html": [
       "<div id='1259'>\n",
       "  <div class=\"bk-root\" id=\"831405ab-21a8-4e7d-9c1b-13276fcf4130\" data-root-id=\"1259\"></div>\n",
       "</div>\n",
       "<script type=\"application/javascript\">(function(root) {\n",
       "  function embed_document(root) {\n",
       "    var docs_json = {\"41fa118a-f0e9-42a6-a5cc-4bc874d76caa\":{\"defs\":[{\"extends\":null,\"module\":null,\"name\":\"ReactiveHTML1\",\"overrides\":[],\"properties\":[]},{\"extends\":null,\"module\":null,\"name\":\"FlexBox1\",\"overrides\":[],\"properties\":[{\"default\":\"flex-start\",\"kind\":null,\"name\":\"align_content\"},{\"default\":\"flex-start\",\"kind\":null,\"name\":\"align_items\"},{\"default\":\"row\",\"kind\":null,\"name\":\"flex_direction\"},{\"default\":\"wrap\",\"kind\":null,\"name\":\"flex_wrap\"},{\"default\":\"flex-start\",\"kind\":null,\"name\":\"justify_content\"}]},{\"extends\":null,\"module\":null,\"name\":\"GridStack1\",\"overrides\":[],\"properties\":[{\"default\":\"warn\",\"kind\":null,\"name\":\"mode\"},{\"default\":null,\"kind\":null,\"name\":\"ncols\"},{\"default\":null,\"kind\":null,\"name\":\"nrows\"},{\"default\":true,\"kind\":null,\"name\":\"allow_resize\"},{\"default\":true,\"kind\":null,\"name\":\"allow_drag\"},{\"default\":[],\"kind\":null,\"name\":\"state\"}]},{\"extends\":null,\"module\":null,\"name\":\"click1\",\"overrides\":[],\"properties\":[{\"default\":\"\",\"kind\":null,\"name\":\"terminal_output\"},{\"default\":\"\",\"kind\":null,\"name\":\"debug_name\"},{\"default\":0,\"kind\":null,\"name\":\"clears\"}]},{\"extends\":null,\"module\":null,\"name\":\"NotificationAreaBase1\",\"overrides\":[],\"properties\":[{\"default\":\"bottom-right\",\"kind\":null,\"name\":\"position\"},{\"default\":0,\"kind\":null,\"name\":\"_clear\"}]},{\"extends\":null,\"module\":null,\"name\":\"NotificationArea1\",\"overrides\":[],\"properties\":[{\"default\":[],\"kind\":null,\"name\":\"notifications\"},{\"default\":\"bottom-right\",\"kind\":null,\"name\":\"position\"},{\"default\":0,\"kind\":null,\"name\":\"_clear\"},{\"default\":[{\"background\":\"#ffc107\",\"icon\":{\"className\":\"fas fa-exclamation-triangle\",\"color\":\"white\",\"tagName\":\"i\"},\"type\":\"warning\"},{\"background\":\"#007bff\",\"icon\":{\"className\":\"fas fa-info-circle\",\"color\":\"white\",\"tagName\":\"i\"},\"type\":\"info\"}],\"kind\":null,\"name\":\"types\"}]},{\"extends\":null,\"module\":null,\"name\":\"Notification\",\"overrides\":[],\"properties\":[{\"default\":null,\"kind\":null,\"name\":\"background\"},{\"default\":3000,\"kind\":null,\"name\":\"duration\"},{\"default\":null,\"kind\":null,\"name\":\"icon\"},{\"default\":\"\",\"kind\":null,\"name\":\"message\"},{\"default\":null,\"kind\":null,\"name\":\"notification_type\"},{\"default\":false,\"kind\":null,\"name\":\"_destroyed\"}]},{\"extends\":null,\"module\":null,\"name\":\"TemplateActions1\",\"overrides\":[],\"properties\":[{\"default\":0,\"kind\":null,\"name\":\"open_modal\"},{\"default\":0,\"kind\":null,\"name\":\"close_modal\"}]},{\"extends\":null,\"module\":null,\"name\":\"MaterialTemplateActions1\",\"overrides\":[],\"properties\":[{\"default\":0,\"kind\":null,\"name\":\"open_modal\"},{\"default\":0,\"kind\":null,\"name\":\"close_modal\"}]}],\"roots\":{\"references\":[{\"attributes\":{},\"id\":\"1269\",\"type\":\"CategoricalScale\"},{\"attributes\":{},\"id\":\"1315\",\"type\":\"UnionRenderers\"},{\"attributes\":{\"end\":0.29356528304238233,\"reset_end\":0.29356528304238233,\"reset_start\":-0.2854396194784331,\"start\":-0.2854396194784331,\"tags\":[[[\"gist\",\"gist\",null]]]},\"id\":\"1262\",\"type\":\"Range1d\"},{\"attributes\":{\"source\":{\"id\":\"1293\"}},\"id\":\"1300\",\"type\":\"CDSView\"},{\"attributes\":{\"bottom\":{\"value\":0},\"fill_alpha\":{\"value\":1.0},\"fill_color\":{\"value\":\"#30a2da\"},\"hatch_alpha\":{\"value\":1.0},\"hatch_color\":{\"value\":\"#30a2da\"},\"hatch_scale\":{\"value\":12.0},\"hatch_weight\":{\"value\":1.0},\"line_alpha\":{\"value\":1.0},\"line_cap\":{\"value\":\"butt\"},\"line_color\":{\"value\":\"black\"},\"line_dash\":{\"value\":[]},\"line_dash_offset\":{\"value\":0},\"line_join\":{\"value\":\"bevel\"},\"line_width\":{\"value\":1},\"top\":{\"field\":\"gist\"},\"width\":{\"value\":0.8},\"x\":{\"field\":\"Date\"}},\"id\":\"1301\",\"type\":\"VBar\"},{\"attributes\":{\"callback\":null,\"renderers\":[{\"id\":\"1299\"}],\"tags\":[\"hv_created\"],\"tooltips\":[[\"Date\",\"@{Date}\"],[\"gist\",\"@{gist}\"]]},\"id\":\"1263\",\"type\":\"HoverTool\"},{\"attributes\":{\"coordinates\":null,\"group\":null,\"text\":\"gist\",\"text_color\":\"black\",\"text_font_size\":\"12pt\"},\"id\":\"1265\",\"type\":\"Title\"},{\"attributes\":{\"below\":[{\"id\":\"1273\"}],\"center\":[{\"id\":\"1275\"},{\"id\":\"1279\"}],\"height\":300,\"left\":[{\"id\":\"1276\"}],\"margin\":[5,5,5,5],\"min_border_bottom\":10,\"min_border_left\":10,\"min_border_right\":10,\"min_border_top\":10,\"renderers\":[{\"id\":\"1299\"}],\"sizing_mode\":\"fixed\",\"title\":{\"id\":\"1265\"},\"toolbar\":{\"id\":\"1286\"},\"width\":700,\"x_range\":{\"id\":\"1261\"},\"x_scale\":{\"id\":\"1269\"},\"y_range\":{\"id\":\"1262\"},\"y_scale\":{\"id\":\"1271\"}},\"id\":\"1264\",\"subtype\":\"Figure\",\"type\":\"Plot\"},{\"attributes\":{\"margin\":[5,5,5,5],\"name\":\"HSpacer01424\",\"sizing_mode\":\"stretch_width\"},\"id\":\"1260\",\"type\":\"Spacer\"},{\"attributes\":{\"margin\":[5,5,5,5],\"name\":\"HSpacer01425\",\"sizing_mode\":\"stretch_width\"},\"id\":\"1318\",\"type\":\"Spacer\"},{\"attributes\":{\"axis_label\":\"Date\",\"coordinates\":null,\"formatter\":{\"id\":\"1303\"},\"group\":null,\"major_label_policy\":{\"id\":\"1304\"},\"ticker\":{\"id\":\"1274\"}},\"id\":\"1273\",\"type\":\"CategoricalAxis\"},{\"attributes\":{},\"id\":\"1303\",\"type\":\"CategoricalTickFormatter\"},{\"attributes\":{\"axis\":{\"id\":\"1273\"},\"coordinates\":null,\"grid_line_color\":null,\"group\":null,\"ticker\":null},\"id\":\"1275\",\"type\":\"Grid\"},{\"attributes\":{},\"id\":\"1281\",\"type\":\"PanTool\"},{\"attributes\":{},\"id\":\"1274\",\"type\":\"CategoricalTicker\"},{\"attributes\":{\"data\":{\"Date\":[\"2020-10-05 00:00:00\",\"2020-10-06 00:00:00\",\"2020-10-07 00:00:00\",\"2020-10-08 00:00:00\",\"2020-10-09 00:00:00\",\"2020-10-12 00:00:00\",\"2020-10-13 00:00:00\",\"2020-10-14 00:00:00\",\"2020-10-15 00:00:00\",\"2020-10-16 00:00:00\",\"2020-10-19 00:00:00\",\"2020-10-20 00:00:00\",\"2020-10-21 00:00:00\",\"2020-10-22 00:00:00\",\"2020-10-23 00:00:00\",\"2020-10-26 00:00:00\",\"2020-10-27 00:00:00\",\"2020-10-28 00:00:00\",\"2020-10-29 00:00:00\",\"2020-10-30 00:00:00\",\"2020-11-02 00:00:00\",\"2020-11-03 00:00:00\",\"2020-11-04 00:00:00\",\"2020-11-05 00:00:00\",\"2020-11-06 00:00:00\",\"2020-11-09 00:00:00\",\"2020-11-10 00:00:00\",\"2020-11-11 00:00:00\",\"2020-11-12 00:00:00\",\"2020-11-13 00:00:00\",\"2020-11-16 00:00:00\",\"2020-11-17 00:00:00\",\"2020-11-18 00:00:00\",\"2020-11-19 00:00:00\",\"2020-11-20 00:00:00\",\"2020-11-23 00:00:00\",\"2020-11-24 00:00:00\",\"2020-11-25 00:00:00\",\"2020-11-27 00:00:00\",\"2020-11-30 00:00:00\",\"2020-12-01 00:00:00\",\"2020-12-02 00:00:00\",\"2020-12-03 00:00:00\",\"2020-12-04 00:00:00\",\"2020-12-07 00:00:00\",\"2020-12-08 00:00:00\",\"2020-12-09 00:00:00\",\"2020-12-10 00:00:00\",\"2020-12-11 00:00:00\",\"2020-12-14 00:00:00\",\"2020-12-15 00:00:00\",\"2020-12-16 00:00:00\",\"2020-12-17 00:00:00\",\"2020-12-18 00:00:00\",\"2020-12-21 00:00:00\",\"2020-12-22 00:00:00\",\"2020-12-23 00:00:00\",\"2020-12-24 00:00:00\",\"2020-12-28 00:00:00\",\"2020-12-29 00:00:00\",\"2020-12-30 00:00:00\",\"2020-12-31 00:00:00\",\"2021-01-04 00:00:00\",\"2021-01-05 00:00:00\",\"2021-01-06 00:00:00\",\"2021-01-07 00:00:00\",\"2021-01-08 00:00:00\",\"2021-01-11 00:00:00\",\"2021-01-12 00:00:00\",\"2021-01-13 00:00:00\",\"2021-01-14 00:00:00\",\"2021-01-15 00:00:00\",\"2021-01-19 00:00:00\",\"2021-01-20 00:00:00\",\"2021-01-21 00:00:00\",\"2021-01-22 00:00:00\",\"2021-01-25 00:00:00\",\"2021-01-26 00:00:00\",\"2021-01-27 00:00:00\",\"2021-01-28 00:00:00\",\"2021-01-29 00:00:00\",\"2021-02-01 00:00:00\",\"2021-02-02 00:00:00\",\"2021-02-03 00:00:00\",\"2021-02-04 00:00:00\",\"2021-02-05 00:00:00\",\"2021-02-08 00:00:00\",\"2021-02-09 00:00:00\",\"2021-02-10 00:00:00\",\"2021-02-11 00:00:00\",\"2021-02-12 00:00:00\",\"2021-02-16 00:00:00\",\"2021-02-17 00:00:00\",\"2021-02-18 00:00:00\",\"2021-02-19 00:00:00\",\"2021-02-22 00:00:00\",\"2021-02-23 00:00:00\",\"2021-02-24 00:00:00\",\"2021-02-25 00:00:00\",\"2021-02-26 00:00:00\",\"2021-03-01 00:00:00\",\"2021-03-02 00:00:00\",\"2021-03-03 00:00:00\",\"2021-03-04 00:00:00\",\"2021-03-05 00:00:00\",\"2021-03-08 00:00:00\",\"2021-03-09 00:00:00\",\"2021-03-10 00:00:00\",\"2021-03-11 00:00:00\",\"2021-03-12 00:00:00\",\"2021-03-15 00:00:00\",\"2021-03-16 00:00:00\",\"2021-03-17 00:00:00\",\"2021-03-18 00:00:00\",\"2021-03-19 00:00:00\",\"2021-03-22 00:00:00\",\"2021-03-23 00:00:00\",\"2021-03-24 00:00:00\",\"2021-03-25 00:00:00\",\"2021-03-26 00:00:00\",\"2021-03-29 00:00:00\",\"2021-03-30 00:00:00\",\"2021-03-31 00:00:00\",\"2021-04-01 00:00:00\",\"2021-04-05 00:00:00\",\"2021-04-06 00:00:00\",\"2021-04-07 00:00:00\",\"2021-04-08 00:00:00\",\"2021-04-09 00:00:00\",\"2021-04-12 00:00:00\",\"2021-04-13 00:00:00\",\"2021-04-14 00:00:00\",\"2021-04-15 00:00:00\",\"2021-04-16 00:00:00\",\"2021-04-19 00:00:00\",\"2021-04-20 00:00:00\",\"2021-04-21 00:00:00\",\"2021-04-22 00:00:00\",\"2021-04-23 00:00:00\",\"2021-04-26 00:00:00\",\"2021-04-27 00:00:00\",\"2021-04-28 00:00:00\",\"2021-04-29 00:00:00\",\"2021-04-30 00:00:00\",\"2021-05-03 00:00:00\",\"2021-05-04 00:00:00\",\"2021-05-05 00:00:00\",\"2021-05-06 00:00:00\",\"2021-05-07 00:00:00\",\"2021-05-10 00:00:00\",\"2021-05-11 00:00:00\",\"2021-05-12 00:00:00\",\"2021-05-13 00:00:00\",\"2021-05-14 00:00:00\",\"2021-05-17 00:00:00\",\"2021-05-18 00:00:00\",\"2021-05-19 00:00:00\",\"2021-05-20 00:00:00\",\"2021-05-21 00:00:00\",\"2021-05-24 00:00:00\",\"2021-05-25 00:00:00\",\"2021-05-26 00:00:00\",\"2021-05-27 00:00:00\",\"2021-05-28 00:00:00\",\"2021-06-01 00:00:00\",\"2021-06-02 00:00:00\",\"2021-06-03 00:00:00\",\"2021-06-04 00:00:00\",\"2021-06-07 00:00:00\",\"2021-06-08 00:00:00\",\"2021-06-09 00:00:00\",\"2021-06-10 00:00:00\",\"2021-06-11 00:00:00\",\"2021-06-14 00:00:00\",\"2021-06-15 00:00:00\",\"2021-06-16 00:00:00\",\"2021-06-17 00:00:00\",\"2021-06-18 00:00:00\",\"2021-06-21 00:00:00\",\"2021-06-22 00:00:00\",\"2021-06-23 00:00:00\",\"2021-06-24 00:00:00\",\"2021-06-25 00:00:00\",\"2021-06-28 00:00:00\",\"2021-06-29 00:00:00\",\"2021-06-30 00:00:00\",\"2021-07-01 00:00:00\",\"2021-07-02 00:00:00\",\"2021-07-06 00:00:00\",\"2021-07-07 00:00:00\",\"2021-07-08 00:00:00\",\"2021-07-09 00:00:00\",\"2021-07-12 00:00:00\",\"2021-07-13 00:00:00\",\"2021-07-14 00:00:00\",\"2021-07-15 00:00:00\",\"2021-07-16 00:00:00\",\"2021-07-19 00:00:00\",\"2021-07-20 00:00:00\",\"2021-07-21 00:00:00\",\"2021-07-22 00:00:00\",\"2021-07-23 00:00:00\",\"2021-07-26 00:00:00\",\"2021-07-27 00:00:00\",\"2021-07-28 00:00:00\",\"2021-07-29 00:00:00\",\"2021-07-30 00:00:00\",\"2021-08-02 00:00:00\",\"2021-08-03 00:00:00\",\"2021-08-04 00:00:00\",\"2021-08-05 00:00:00\",\"2021-08-06 00:00:00\",\"2021-08-09 00:00:00\",\"2021-08-10 00:00:00\",\"2021-08-11 00:00:00\",\"2021-08-12 00:00:00\",\"2021-08-13 00:00:00\",\"2021-08-16 00:00:00\",\"2021-08-17 00:00:00\",\"2021-08-18 00:00:00\",\"2021-08-19 00:00:00\",\"2021-08-20 00:00:00\",\"2021-08-23 00:00:00\",\"2021-08-24 00:00:00\",\"2021-08-25 00:00:00\",\"2021-08-26 00:00:00\",\"2021-08-27 00:00:00\",\"2021-08-30 00:00:00\",\"2021-08-31 00:00:00\",\"2021-09-01 00:00:00\",\"2021-09-02 00:00:00\",\"2021-09-03 00:00:00\",\"2021-09-07 00:00:00\",\"2021-09-08 00:00:00\",\"2021-09-09 00:00:00\",\"2021-09-10 00:00:00\",\"2021-09-13 00:00:00\",\"2021-09-14 00:00:00\",\"2021-09-15 00:00:00\",\"2021-09-16 00:00:00\",\"2021-09-17 00:00:00\",\"2021-09-20 00:00:00\",\"2021-09-21 00:00:00\",\"2021-09-22 00:00:00\",\"2021-09-23 00:00:00\",\"2021-09-24 00:00:00\",\"2021-09-27 00:00:00\",\"2021-09-28 00:00:00\",\"2021-09-29 00:00:00\",\"2021-09-30 00:00:00\",\"2021-10-01 00:00:00\",\"2021-10-04 00:00:00\",\"2021-10-05 00:00:00\",\"2021-10-06 00:00:00\",\"2021-10-07 00:00:00\",\"2021-10-08 00:00:00\",\"2021-10-11 00:00:00\",\"2021-10-12 00:00:00\",\"2021-10-13 00:00:00\",\"2021-10-14 00:00:00\",\"2021-10-15 00:00:00\",\"2021-10-18 00:00:00\",\"2021-10-19 00:00:00\",\"2021-10-20 00:00:00\",\"2021-10-21 00:00:00\",\"2021-10-22 00:00:00\",\"2021-10-25 00:00:00\",\"2021-10-26 00:00:00\",\"2021-10-27 00:00:00\",\"2021-10-28 00:00:00\",\"2021-10-29 00:00:00\",\"2021-11-01 00:00:00\",\"2021-11-02 00:00:00\",\"2021-11-03 00:00:00\",\"2021-11-04 00:00:00\",\"2021-11-05 00:00:00\",\"2021-11-08 00:00:00\",\"2021-11-09 00:00:00\",\"2021-11-10 00:00:00\",\"2021-11-11 00:00:00\",\"2021-11-12 00:00:00\",\"2021-11-15 00:00:00\",\"2021-11-16 00:00:00\",\"2021-11-17 00:00:00\",\"2021-11-18 00:00:00\",\"2021-11-19 00:00:00\",\"2021-11-22 00:00:00\",\"2021-11-23 00:00:00\",\"2021-11-24 00:00:00\",\"2021-11-26 00:00:00\",\"2021-11-29 00:00:00\",\"2021-11-30 00:00:00\",\"2021-12-01 00:00:00\",\"2021-12-02 00:00:00\",\"2021-12-03 00:00:00\",\"2021-12-06 00:00:00\",\"2021-12-07 00:00:00\",\"2021-12-08 00:00:00\",\"2021-12-09 00:00:00\",\"2021-12-10 00:00:00\",\"2021-12-13 00:00:00\",\"2021-12-14 00:00:00\",\"2021-12-15 00:00:00\",\"2021-12-16 00:00:00\",\"2021-12-17 00:00:00\",\"2021-12-20 00:00:00\",\"2021-12-21 00:00:00\",\"2021-12-22 00:00:00\",\"2021-12-23 00:00:00\",\"2021-12-27 00:00:00\",\"2021-12-28 00:00:00\",\"2021-12-29 00:00:00\",\"2021-12-30 00:00:00\",\"2021-12-31 00:00:00\",\"2022-01-03 00:00:00\",\"2022-01-04 00:00:00\",\"2022-01-05 00:00:00\",\"2022-01-06 00:00:00\",\"2022-01-07 00:00:00\",\"2022-01-10 00:00:00\",\"2022-01-11 00:00:00\",\"2022-01-12 00:00:00\",\"2022-01-13 00:00:00\",\"2022-01-14 00:00:00\",\"2022-01-18 00:00:00\",\"2022-01-19 00:00:00\",\"2022-01-20 00:00:00\",\"2022-01-21 00:00:00\",\"2022-01-24 00:00:00\",\"2022-01-25 00:00:00\",\"2022-01-26 00:00:00\",\"2022-01-27 00:00:00\",\"2022-01-28 00:00:00\",\"2022-01-31 00:00:00\",\"2022-02-01 00:00:00\",\"2022-02-02 00:00:00\",\"2022-02-03 00:00:00\",\"2022-02-04 00:00:00\",\"2022-02-07 00:00:00\",\"2022-02-08 00:00:00\",\"2022-02-09 00:00:00\",\"2022-02-10 00:00:00\",\"2022-02-11 00:00:00\",\"2022-02-14 00:00:00\",\"2022-02-15 00:00:00\",\"2022-02-16 00:00:00\",\"2022-02-17 00:00:00\",\"2022-02-18 00:00:00\",\"2022-02-22 00:00:00\",\"2022-02-23 00:00:00\",\"2022-02-24 00:00:00\",\"2022-02-25 00:00:00\",\"2022-02-28 00:00:00\",\"2022-03-01 00:00:00\",\"2022-03-02 00:00:00\",\"2022-03-03 00:00:00\",\"2022-03-04 00:00:00\",\"2022-03-07 00:00:00\",\"2022-03-08 00:00:00\",\"2022-03-09 00:00:00\",\"2022-03-10 00:00:00\",\"2022-03-11 00:00:00\",\"2022-03-14 00:00:00\",\"2022-03-15 00:00:00\",\"2022-03-16 00:00:00\",\"2022-03-17 00:00:00\",\"2022-03-18 00:00:00\",\"2022-03-21 00:00:00\",\"2022-03-22 00:00:00\",\"2022-03-23 00:00:00\",\"2022-03-24 00:00:00\",\"2022-03-25 00:00:00\",\"2022-03-28 00:00:00\",\"2022-03-29 00:00:00\",\"2022-03-30 00:00:00\",\"2022-03-31 00:00:00\",\"2022-04-01 00:00:00\",\"2022-04-04 00:00:00\",\"2022-04-05 00:00:00\",\"2022-04-06 00:00:00\",\"2022-04-07 00:00:00\",\"2022-04-08 00:00:00\",\"2022-04-11 00:00:00\",\"2022-04-12 00:00:00\",\"2022-04-13 00:00:00\",\"2022-04-14 00:00:00\",\"2022-04-18 00:00:00\",\"2022-04-19 00:00:00\",\"2022-04-20 00:00:00\",\"2022-04-21 00:00:00\",\"2022-04-22 00:00:00\",\"2022-04-25 00:00:00\",\"2022-04-26 00:00:00\",\"2022-04-27 00:00:00\",\"2022-04-28 00:00:00\",\"2022-04-29 00:00:00\",\"2022-05-02 00:00:00\",\"2022-05-03 00:00:00\",\"2022-05-04 00:00:00\",\"2022-05-05 00:00:00\",\"2022-05-06 00:00:00\",\"2022-05-09 00:00:00\",\"2022-05-10 00:00:00\",\"2022-05-11 00:00:00\",\"2022-05-12 00:00:00\",\"2022-05-13 00:00:00\",\"2022-05-16 00:00:00\",\"2022-05-17 00:00:00\",\"2022-05-18 00:00:00\",\"2022-05-19 00:00:00\",\"2022-05-20 00:00:00\",\"2022-05-23 00:00:00\",\"2022-05-24 00:00:00\",\"2022-05-25 00:00:00\",\"2022-05-26 00:00:00\",\"2022-05-27 00:00:00\",\"2022-05-31 00:00:00\",\"2022-06-01 00:00:00\",\"2022-06-02 00:00:00\",\"2022-06-03 00:00:00\",\"2022-06-06 00:00:00\",\"2022-06-07 00:00:00\",\"2022-06-08 00:00:00\",\"2022-06-09 00:00:00\",\"2022-06-10 00:00:00\",\"2022-06-13 00:00:00\",\"2022-06-14 00:00:00\",\"2022-06-15 00:00:00\",\"2022-06-16 00:00:00\",\"2022-06-17 00:00:00\",\"2022-06-21 00:00:00\",\"2022-06-22 00:00:00\",\"2022-06-23 00:00:00\",\"2022-06-24 00:00:00\",\"2022-06-27 00:00:00\",\"2022-06-28 00:00:00\",\"2022-06-29 00:00:00\",\"2022-06-30 00:00:00\",\"2022-07-01 00:00:00\",\"2022-07-05 00:00:00\",\"2022-07-06 00:00:00\",\"2022-07-07 00:00:00\",\"2022-07-08 00:00:00\",\"2022-07-11 00:00:00\",\"2022-07-12 00:00:00\",\"2022-07-13 00:00:00\",\"2022-07-14 00:00:00\",\"2022-07-15 00:00:00\",\"2022-07-18 00:00:00\",\"2022-07-19 00:00:00\",\"2022-07-20 00:00:00\",\"2022-07-21 00:00:00\",\"2022-07-22 00:00:00\",\"2022-07-25 00:00:00\",\"2022-07-26 00:00:00\",\"2022-07-27 00:00:00\",\"2022-07-28 00:00:00\",\"2022-07-29 00:00:00\",\"2022-08-01 00:00:00\",\"2022-08-02 00:00:00\",\"2022-08-03 00:00:00\",\"2022-08-04 00:00:00\",\"2022-08-05 00:00:00\",\"2022-08-08 00:00:00\",\"2022-08-09 00:00:00\",\"2022-08-10 00:00:00\",\"2022-08-11 00:00:00\",\"2022-08-12 00:00:00\",\"2022-08-15 00:00:00\",\"2022-08-16 00:00:00\",\"2022-08-17 00:00:00\",\"2022-08-18 00:00:00\",\"2022-08-19 00:00:00\",\"2022-08-22 00:00:00\",\"2022-08-23 00:00:00\",\"2022-08-24 00:00:00\",\"2022-08-25 00:00:00\",\"2022-08-26 00:00:00\",\"2022-08-29 00:00:00\",\"2022-08-30 00:00:00\",\"2022-08-31 00:00:00\",\"2022-09-01 00:00:00\",\"2022-09-02 00:00:00\",\"2022-09-06 00:00:00\",\"2022-09-07 00:00:00\",\"2022-09-08 00:00:00\",\"2022-09-09 00:00:00\",\"2022-09-12 00:00:00\",\"2022-09-13 00:00:00\",\"2022-09-14 00:00:00\",\"2022-09-15 00:00:00\",\"2022-09-16 00:00:00\",\"2022-09-19 00:00:00\",\"2022-09-20 00:00:00\",\"2022-09-21 00:00:00\",\"2022-09-22 00:00:00\",\"2022-09-23 00:00:00\",\"2022-09-26 00:00:00\",\"2022-09-27 00:00:00\",\"2022-09-28 00:00:00\",\"2022-09-29 00:00:00\",\"2022-09-30 00:00:00\",\"2022-10-03 00:00:00\",\"2022-10-04 00:00:00\",\"2022-10-05 00:00:00\",\"2022-10-06 00:00:00\",\"2022-10-07 00:00:00\",\"2022-10-10 00:00:00\",\"2022-10-11 00:00:00\",\"2022-10-12 00:00:00\",\"2022-10-13 00:00:00\",\"2022-10-14 00:00:00\",\"2022-10-17 00:00:00\",\"2022-10-18 00:00:00\",\"2022-10-19 00:00:00\",\"2022-10-20 00:00:00\",\"2022-10-21 00:00:00\",\"2022-10-24 00:00:00\",\"2022-10-25 00:00:00\",\"2022-10-26 00:00:00\",\"2022-10-27 00:00:00\",\"2022-10-28 00:00:00\",\"2022-10-31 00:00:00\",\"2022-11-01 00:00:00\",\"2022-11-02 00:00:00\",\"2022-11-03 00:00:00\",\"2022-11-04 00:00:00\",\"2022-11-07 00:00:00\",\"2022-11-08 00:00:00\",\"2022-11-09 00:00:00\",\"2022-11-10 00:00:00\",\"2022-11-11 00:00:00\",\"2022-11-14 00:00:00\",\"2022-11-15 00:00:00\",\"2022-11-16 00:00:00\",\"2022-11-17 00:00:00\",\"2022-11-18 00:00:00\",\"2022-11-21 00:00:00\",\"2022-11-22 00:00:00\",\"2022-11-23 00:00:00\",\"2022-11-25 00:00:00\"],\"gist\":{\"__ndarray__\":\"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\",\"dtype\":\"float64\",\"order\":\"little\",\"shape\":[541]}},\"selected\":{\"id\":\"1294\"},\"selection_policy\":{\"id\":\"1315\"}},\"id\":\"1293\",\"type\":\"ColumnDataSource\"},{\"attributes\":{\"axis_label\":\"\",\"coordinates\":null,\"formatter\":{\"id\":\"1306\"},\"group\":null,\"major_label_policy\":{\"id\":\"1307\"},\"ticker\":{\"id\":\"1277\"}},\"id\":\"1276\",\"type\":\"LinearAxis\"},{\"attributes\":{\"axis\":{\"id\":\"1276\"},\"coordinates\":null,\"dimension\":1,\"grid_line_color\":null,\"group\":null,\"ticker\":null},\"id\":\"1279\",\"type\":\"Grid\"},{\"attributes\":{\"children\":[{\"id\":\"1260\"},{\"id\":\"1264\"},{\"id\":\"1318\"}],\"margin\":[0,0,0,0],\"name\":\"Row01420\",\"tags\":[\"embedded\"]},\"id\":\"1259\",\"type\":\"Row\"},{\"attributes\":{},\"id\":\"1277\",\"type\":\"BasicTicker\"},{\"attributes\":{},\"id\":\"1282\",\"type\":\"WheelZoomTool\"},{\"attributes\":{},\"id\":\"1304\",\"type\":\"AllLabels\"},{\"attributes\":{},\"id\":\"1280\",\"type\":\"SaveTool\"},{\"attributes\":{},\"id\":\"1306\",\"type\":\"BasicTickFormatter\"},{\"attributes\":{\"fill_alpha\":{\"value\":0.1},\"fill_color\":{\"value\":\"#30a2da\"},\"hatch_alpha\":{\"value\":0.1},\"hatch_color\":{\"value\":\"#30a2da\"},\"line_alpha\":{\"value\":0.1},\"top\":{\"field\":\"gist\"},\"width\":{\"value\":0.8},\"x\":{\"field\":\"Date\"}},\"id\":\"1297\",\"type\":\"VBar\"},{\"attributes\":{\"overlay\":{\"id\":\"1285\"}},\"id\":\"1283\",\"type\":\"BoxZoomTool\"},{\"attributes\":{},\"id\":\"1284\",\"type\":\"ResetTool\"},{\"attributes\":{\"bottom_units\":\"screen\",\"coordinates\":null,\"fill_alpha\":0.5,\"fill_color\":\"lightgrey\",\"group\":null,\"left_units\":\"screen\",\"level\":\"overlay\",\"line_alpha\":1.0,\"line_color\":\"black\",\"line_dash\":[4,4],\"line_width\":2,\"right_units\":\"screen\",\"syncable\":false,\"top_units\":\"screen\"},\"id\":\"1285\",\"type\":\"BoxAnnotation\"},{\"attributes\":{\"tools\":[{\"id\":\"1263\"},{\"id\":\"1280\"},{\"id\":\"1281\"},{\"id\":\"1282\"},{\"id\":\"1283\"},{\"id\":\"1284\"}]},\"id\":\"1286\",\"type\":\"Toolbar\"},{\"attributes\":{\"fill_color\":{\"value\":\"#30a2da\"},\"hatch_color\":{\"value\":\"#30a2da\"},\"top\":{\"field\":\"gist\"},\"width\":{\"value\":0.8},\"x\":{\"field\":\"Date\"}},\"id\":\"1296\",\"type\":\"VBar\"},{\"attributes\":{},\"id\":\"1294\",\"type\":\"Selection\"},{\"attributes\":{\"coordinates\":null,\"data_source\":{\"id\":\"1293\"},\"glyph\":{\"id\":\"1296\"},\"group\":null,\"hover_glyph\":null,\"muted_glyph\":{\"id\":\"1298\"},\"nonselection_glyph\":{\"id\":\"1297\"},\"selection_glyph\":{\"id\":\"1301\"},\"view\":{\"id\":\"1300\"}},\"id\":\"1299\",\"type\":\"GlyphRenderer\"},{\"attributes\":{\"fill_alpha\":{\"value\":0.2},\"fill_color\":{\"value\":\"#30a2da\"},\"hatch_alpha\":{\"value\":0.2},\"hatch_color\":{\"value\":\"#30a2da\"},\"line_alpha\":{\"value\":0.2},\"top\":{\"field\":\"gist\"},\"width\":{\"value\":0.8},\"x\":{\"field\":\"Date\"}},\"id\":\"1298\",\"type\":\"VBar\"},{\"attributes\":{},\"id\":\"1271\",\"type\":\"LinearScale\"},{\"attributes\":{},\"id\":\"1307\",\"type\":\"AllLabels\"},{\"attributes\":{\"factors\":[\"2020-10-05 00:00:00\",\"2020-10-06 00:00:00\",\"2020-10-07 00:00:00\",\"2020-10-08 00:00:00\",\"2020-10-09 00:00:00\",\"2020-10-12 00:00:00\",\"2020-10-13 00:00:00\",\"2020-10-14 00:00:00\",\"2020-10-15 00:00:00\",\"2020-10-16 00:00:00\",\"2020-10-19 00:00:00\",\"2020-10-20 00:00:00\",\"2020-10-21 00:00:00\",\"2020-10-22 00:00:00\",\"2020-10-23 00:00:00\",\"2020-10-26 00:00:00\",\"2020-10-27 00:00:00\",\"2020-10-28 00:00:00\",\"2020-10-29 00:00:00\",\"2020-10-30 00:00:00\",\"2020-11-02 00:00:00\",\"2020-11-03 00:00:00\",\"2020-11-04 00:00:00\",\"2020-11-05 00:00:00\",\"2020-11-06 00:00:00\",\"2020-11-09 00:00:00\",\"2020-11-10 00:00:00\",\"2020-11-11 00:00:00\",\"2020-11-12 00:00:00\",\"2020-11-13 00:00:00\",\"2020-11-16 00:00:00\",\"2020-11-17 00:00:00\",\"2020-11-18 00:00:00\",\"2020-11-19 00:00:00\",\"2020-11-20 00:00:00\",\"2020-11-23 00:00:00\",\"2020-11-24 00:00:00\",\"2020-11-25 00:00:00\",\"2020-11-27 00:00:00\",\"2020-11-30 00:00:00\",\"2020-12-01 00:00:00\",\"2020-12-02 00:00:00\",\"2020-12-03 00:00:00\",\"2020-12-04 00:00:00\",\"2020-12-07 00:00:00\",\"2020-12-08 00:00:00\",\"2020-12-09 00:00:00\",\"2020-12-10 00:00:00\",\"2020-12-11 00:00:00\",\"2020-12-14 00:00:00\",\"2020-12-15 00:00:00\",\"2020-12-16 00:00:00\",\"2020-12-17 00:00:00\",\"2020-12-18 00:00:00\",\"2020-12-21 00:00:00\",\"2020-12-22 00:00:00\",\"2020-12-23 00:00:00\",\"2020-12-24 00:00:00\",\"2020-12-28 00:00:00\",\"2020-12-29 00:00:00\",\"2020-12-30 00:00:00\",\"2020-12-31 00:00:00\",\"2021-01-04 00:00:00\",\"2021-01-05 00:00:00\",\"2021-01-06 00:00:00\",\"2021-01-07 00:00:00\",\"2021-01-08 00:00:00\",\"2021-01-11 00:00:00\",\"2021-01-12 00:00:00\",\"2021-01-13 00:00:00\",\"2021-01-14 00:00:00\",\"2021-01-15 00:00:00\",\"2021-01-19 00:00:00\",\"2021-01-20 00:00:00\",\"2021-01-21 00:00:00\",\"2021-01-22 00:00:00\",\"2021-01-25 00:00:00\",\"2021-01-26 00:00:00\",\"2021-01-27 00:00:00\",\"2021-01-28 00:00:00\",\"2021-01-29 00:00:00\",\"2021-02-01 00:00:00\",\"2021-02-02 00:00:00\",\"2021-02-03 00:00:00\",\"2021-02-04 00:00:00\",\"2021-02-05 00:00:00\",\"2021-02-08 00:00:00\",\"2021-02-09 00:00:00\",\"2021-02-10 00:00:00\",\"2021-02-11 00:00:00\",\"2021-02-12 00:00:00\",\"2021-02-16 00:00:00\",\"2021-02-17 00:00:00\",\"2021-02-18 00:00:00\",\"2021-02-19 00:00:00\",\"2021-02-22 00:00:00\",\"2021-02-23 00:00:00\",\"2021-02-24 00:00:00\",\"2021-02-25 00:00:00\",\"2021-02-26 00:00:00\",\"2021-03-01 00:00:00\",\"2021-03-02 00:00:00\",\"2021-03-03 00:00:00\",\"2021-03-04 00:00:00\",\"2021-03-05 00:00:00\",\"2021-03-08 00:00:00\",\"2021-03-09 00:00:00\",\"2021-03-10 00:00:00\",\"2021-03-11 00:00:00\",\"2021-03-12 00:00:00\",\"2021-03-15 00:00:00\",\"2021-03-16 00:00:00\",\"2021-03-17 00:00:00\",\"2021-03-18 00:00:00\",\"2021-03-19 00:00:00\",\"2021-03-22 00:00:00\",\"2021-03-23 00:00:00\",\"2021-03-24 00:00:00\",\"2021-03-25 00:00:00\",\"2021-03-26 00:00:00\",\"2021-03-29 00:00:00\",\"2021-03-30 00:00:00\",\"2021-03-31 00:00:00\",\"2021-04-01 00:00:00\",\"2021-04-05 00:00:00\",\"2021-04-06 00:00:00\",\"2021-04-07 00:00:00\",\"2021-04-08 00:00:00\",\"2021-04-09 00:00:00\",\"2021-04-12 00:00:00\",\"2021-04-13 00:00:00\",\"2021-04-14 00:00:00\",\"2021-04-15 00:00:00\",\"2021-04-16 00:00:00\",\"2021-04-19 00:00:00\",\"2021-04-20 00:00:00\",\"2021-04-21 00:00:00\",\"2021-04-22 00:00:00\",\"2021-04-23 00:00:00\",\"2021-04-26 00:00:00\",\"2021-04-27 00:00:00\",\"2021-04-28 00:00:00\",\"2021-04-29 00:00:00\",\"2021-04-30 00:00:00\",\"2021-05-03 00:00:00\",\"2021-05-04 00:00:00\",\"2021-05-05 00:00:00\",\"2021-05-06 00:00:00\",\"2021-05-07 00:00:00\",\"2021-05-10 00:00:00\",\"2021-05-11 00:00:00\",\"2021-05-12 00:00:00\",\"2021-05-13 00:00:00\",\"2021-05-14 00:00:00\",\"2021-05-17 00:00:00\",\"2021-05-18 00:00:00\",\"2021-05-19 00:00:00\",\"2021-05-20 00:00:00\",\"2021-05-21 00:00:00\",\"2021-05-24 00:00:00\",\"2021-05-25 00:00:00\",\"2021-05-26 00:00:00\",\"2021-05-27 00:00:00\",\"2021-05-28 00:00:00\",\"2021-06-01 00:00:00\",\"2021-06-02 00:00:00\",\"2021-06-03 00:00:00\",\"2021-06-04 00:00:00\",\"2021-06-07 00:00:00\",\"2021-06-08 00:00:00\",\"2021-06-09 00:00:00\",\"2021-06-10 00:00:00\",\"2021-06-11 00:00:00\",\"2021-06-14 00:00:00\",\"2021-06-15 00:00:00\",\"2021-06-16 00:00:00\",\"2021-06-17 00:00:00\",\"2021-06-18 00:00:00\",\"2021-06-21 00:00:00\",\"2021-06-22 00:00:00\",\"2021-06-23 00:00:00\",\"2021-06-24 00:00:00\",\"2021-06-25 00:00:00\",\"2021-06-28 00:00:00\",\"2021-06-29 00:00:00\",\"2021-06-30 00:00:00\",\"2021-07-01 00:00:00\",\"2021-07-02 00:00:00\",\"2021-07-06 00:00:00\",\"2021-07-07 00:00:00\",\"2021-07-08 00:00:00\",\"2021-07-09 00:00:00\",\"2021-07-12 00:00:00\",\"2021-07-13 00:00:00\",\"2021-07-14 00:00:00\",\"2021-07-15 00:00:00\",\"2021-07-16 00:00:00\",\"2021-07-19 00:00:00\",\"2021-07-20 00:00:00\",\"2021-07-21 00:00:00\",\"2021-07-22 00:00:00\",\"2021-07-23 00:00:00\",\"2021-07-26 00:00:00\",\"2021-07-27 00:00:00\",\"2021-07-28 00:00:00\",\"2021-07-29 00:00:00\",\"2021-07-30 00:00:00\",\"2021-08-02 00:00:00\",\"2021-08-03 00:00:00\",\"2021-08-04 00:00:00\",\"2021-08-05 00:00:00\",\"2021-08-06 00:00:00\",\"2021-08-09 00:00:00\",\"2021-08-10 00:00:00\",\"2021-08-11 00:00:00\",\"2021-08-12 00:00:00\",\"2021-08-13 00:00:00\",\"2021-08-16 00:00:00\",\"2021-08-17 00:00:00\",\"2021-08-18 00:00:00\",\"2021-08-19 00:00:00\",\"2021-08-20 00:00:00\",\"2021-08-23 00:00:00\",\"2021-08-24 00:00:00\",\"2021-08-25 00:00:00\",\"2021-08-26 00:00:00\",\"2021-08-27 00:00:00\",\"2021-08-30 00:00:00\",\"2021-08-31 00:00:00\",\"2021-09-01 00:00:00\",\"2021-09-02 00:00:00\",\"2021-09-03 00:00:00\",\"2021-09-07 00:00:00\",\"2021-09-08 00:00:00\",\"2021-09-09 00:00:00\",\"2021-09-10 00:00:00\",\"2021-09-13 00:00:00\",\"2021-09-14 00:00:00\",\"2021-09-15 00:00:00\",\"2021-09-16 00:00:00\",\"2021-09-17 00:00:00\",\"2021-09-20 00:00:00\",\"2021-09-21 00:00:00\",\"2021-09-22 00:00:00\",\"2021-09-23 00:00:00\",\"2021-09-24 00:00:00\",\"2021-09-27 00:00:00\",\"2021-09-28 00:00:00\",\"2021-09-29 00:00:00\",\"2021-09-30 00:00:00\",\"2021-10-01 00:00:00\",\"2021-10-04 00:00:00\",\"2021-10-05 00:00:00\",\"2021-10-06 00:00:00\",\"2021-10-07 00:00:00\",\"2021-10-08 00:00:00\",\"2021-10-11 00:00:00\",\"2021-10-12 00:00:00\",\"2021-10-13 00:00:00\",\"2021-10-14 00:00:00\",\"2021-10-15 00:00:00\",\"2021-10-18 00:00:00\",\"2021-10-19 00:00:00\",\"2021-10-20 00:00:00\",\"2021-10-21 00:00:00\",\"2021-10-22 00:00:00\",\"2021-10-25 00:00:00\",\"2021-10-26 00:00:00\",\"2021-10-27 00:00:00\",\"2021-10-28 00:00:00\",\"2021-10-29 00:00:00\",\"2021-11-01 00:00:00\",\"2021-11-02 00:00:00\",\"2021-11-03 00:00:00\",\"2021-11-04 00:00:00\",\"2021-11-05 00:00:00\",\"2021-11-08 00:00:00\",\"2021-11-09 00:00:00\",\"2021-11-10 00:00:00\",\"2021-11-11 00:00:00\",\"2021-11-12 00:00:00\",\"2021-11-15 00:00:00\",\"2021-11-16 00:00:00\",\"2021-11-17 00:00:00\",\"2021-11-18 00:00:00\",\"2021-11-19 00:00:00\",\"2021-11-22 00:00:00\",\"2021-11-23 00:00:00\",\"2021-11-24 00:00:00\",\"2021-11-26 00:00:00\",\"2021-11-29 00:00:00\",\"2021-11-30 00:00:00\",\"2021-12-01 00:00:00\",\"2021-12-02 00:00:00\",\"2021-12-03 00:00:00\",\"2021-12-06 00:00:00\",\"2021-12-07 00:00:00\",\"2021-12-08 00:00:00\",\"2021-12-09 00:00:00\",\"2021-12-10 00:00:00\",\"2021-12-13 00:00:00\",\"2021-12-14 00:00:00\",\"2021-12-15 00:00:00\",\"2021-12-16 00:00:00\",\"2021-12-17 00:00:00\",\"2021-12-20 00:00:00\",\"2021-12-21 00:00:00\",\"2021-12-22 00:00:00\",\"2021-12-23 00:00:00\",\"2021-12-27 00:00:00\",\"2021-12-28 00:00:00\",\"2021-12-29 00:00:00\",\"2021-12-30 00:00:00\",\"2021-12-31 00:00:00\",\"2022-01-03 00:00:00\",\"2022-01-04 00:00:00\",\"2022-01-05 00:00:00\",\"2022-01-06 00:00:00\",\"2022-01-07 00:00:00\",\"2022-01-10 00:00:00\",\"2022-01-11 00:00:00\",\"2022-01-12 00:00:00\",\"2022-01-13 00:00:00\",\"2022-01-14 00:00:00\",\"2022-01-18 00:00:00\",\"2022-01-19 00:00:00\",\"2022-01-20 00:00:00\",\"2022-01-21 00:00:00\",\"2022-01-24 00:00:00\",\"2022-01-25 00:00:00\",\"2022-01-26 00:00:00\",\"2022-01-27 00:00:00\",\"2022-01-28 00:00:00\",\"2022-01-31 00:00:00\",\"2022-02-01 00:00:00\",\"2022-02-02 00:00:00\",\"2022-02-03 00:00:00\",\"2022-02-04 00:00:00\",\"2022-02-07 00:00:00\",\"2022-02-08 00:00:00\",\"2022-02-09 00:00:00\",\"2022-02-10 00:00:00\",\"2022-02-11 00:00:00\",\"2022-02-14 00:00:00\",\"2022-02-15 00:00:00\",\"2022-02-16 00:00:00\",\"2022-02-17 00:00:00\",\"2022-02-18 00:00:00\",\"2022-02-22 00:00:00\",\"2022-02-23 00:00:00\",\"2022-02-24 00:00:00\",\"2022-02-25 00:00:00\",\"2022-02-28 00:00:00\",\"2022-03-01 00:00:00\",\"2022-03-02 00:00:00\",\"2022-03-03 00:00:00\",\"2022-03-04 00:00:00\",\"2022-03-07 00:00:00\",\"2022-03-08 00:00:00\",\"2022-03-09 00:00:00\",\"2022-03-10 00:00:00\",\"2022-03-11 00:00:00\",\"2022-03-14 00:00:00\",\"2022-03-15 00:00:00\",\"2022-03-16 00:00:00\",\"2022-03-17 00:00:00\",\"2022-03-18 00:00:00\",\"2022-03-21 00:00:00\",\"2022-03-22 00:00:00\",\"2022-03-23 00:00:00\",\"2022-03-24 00:00:00\",\"2022-03-25 00:00:00\",\"2022-03-28 00:00:00\",\"2022-03-29 00:00:00\",\"2022-03-30 00:00:00\",\"2022-03-31 00:00:00\",\"2022-04-01 00:00:00\",\"2022-04-04 00:00:00\",\"2022-04-05 00:00:00\",\"2022-04-06 00:00:00\",\"2022-04-07 00:00:00\",\"2022-04-08 00:00:00\",\"2022-04-11 00:00:00\",\"2022-04-12 00:00:00\",\"2022-04-13 00:00:00\",\"2022-04-14 00:00:00\",\"2022-04-18 00:00:00\",\"2022-04-19 00:00:00\",\"2022-04-20 00:00:00\",\"2022-04-21 00:00:00\",\"2022-04-22 00:00:00\",\"2022-04-25 00:00:00\",\"2022-04-26 00:00:00\",\"2022-04-27 00:00:00\",\"2022-04-28 00:00:00\",\"2022-04-29 00:00:00\",\"2022-05-02 00:00:00\",\"2022-05-03 00:00:00\",\"2022-05-04 00:00:00\",\"2022-05-05 00:00:00\",\"2022-05-06 00:00:00\",\"2022-05-09 00:00:00\",\"2022-05-10 00:00:00\",\"2022-05-11 00:00:00\",\"2022-05-12 00:00:00\",\"2022-05-13 00:00:00\",\"2022-05-16 00:00:00\",\"2022-05-17 00:00:00\",\"2022-05-18 00:00:00\",\"2022-05-19 00:00:00\",\"2022-05-20 00:00:00\",\"2022-05-23 00:00:00\",\"2022-05-24 00:00:00\",\"2022-05-25 00:00:00\",\"2022-05-26 00:00:00\",\"2022-05-27 00:00:00\",\"2022-05-31 00:00:00\",\"2022-06-01 00:00:00\",\"2022-06-02 00:00:00\",\"2022-06-03 00:00:00\",\"2022-06-06 00:00:00\",\"2022-06-07 00:00:00\",\"2022-06-08 00:00:00\",\"2022-06-09 00:00:00\",\"2022-06-10 00:00:00\",\"2022-06-13 00:00:00\",\"2022-06-14 00:00:00\",\"2022-06-15 00:00:00\",\"2022-06-16 00:00:00\",\"2022-06-17 00:00:00\",\"2022-06-21 00:00:00\",\"2022-06-22 00:00:00\",\"2022-06-23 00:00:00\",\"2022-06-24 00:00:00\",\"2022-06-27 00:00:00\",\"2022-06-28 00:00:00\",\"2022-06-29 00:00:00\",\"2022-06-30 00:00:00\",\"2022-07-01 00:00:00\",\"2022-07-05 00:00:00\",\"2022-07-06 00:00:00\",\"2022-07-07 00:00:00\",\"2022-07-08 00:00:00\",\"2022-07-11 00:00:00\",\"2022-07-12 00:00:00\",\"2022-07-13 00:00:00\",\"2022-07-14 00:00:00\",\"2022-07-15 00:00:00\",\"2022-07-18 00:00:00\",\"2022-07-19 00:00:00\",\"2022-07-20 00:00:00\",\"2022-07-21 00:00:00\",\"2022-07-22 00:00:00\",\"2022-07-25 00:00:00\",\"2022-07-26 00:00:00\",\"2022-07-27 00:00:00\",\"2022-07-28 00:00:00\",\"2022-07-29 00:00:00\",\"2022-08-01 00:00:00\",\"2022-08-02 00:00:00\",\"2022-08-03 00:00:00\",\"2022-08-04 00:00:00\",\"2022-08-05 00:00:00\",\"2022-08-08 00:00:00\",\"2022-08-09 00:00:00\",\"2022-08-10 00:00:00\",\"2022-08-11 00:00:00\",\"2022-08-12 00:00:00\",\"2022-08-15 00:00:00\",\"2022-08-16 00:00:00\",\"2022-08-17 00:00:00\",\"2022-08-18 00:00:00\",\"2022-08-19 00:00:00\",\"2022-08-22 00:00:00\",\"2022-08-23 00:00:00\",\"2022-08-24 00:00:00\",\"2022-08-25 00:00:00\",\"2022-08-26 00:00:00\",\"2022-08-29 00:00:00\",\"2022-08-30 00:00:00\",\"2022-08-31 00:00:00\",\"2022-09-01 00:00:00\",\"2022-09-02 00:00:00\",\"2022-09-06 00:00:00\",\"2022-09-07 00:00:00\",\"2022-09-08 00:00:00\",\"2022-09-09 00:00:00\",\"2022-09-12 00:00:00\",\"2022-09-13 00:00:00\",\"2022-09-14 00:00:00\",\"2022-09-15 00:00:00\",\"2022-09-16 00:00:00\",\"2022-09-19 00:00:00\",\"2022-09-20 00:00:00\",\"2022-09-21 00:00:00\",\"2022-09-22 00:00:00\",\"2022-09-23 00:00:00\",\"2022-09-26 00:00:00\",\"2022-09-27 00:00:00\",\"2022-09-28 00:00:00\",\"2022-09-29 00:00:00\",\"2022-09-30 00:00:00\",\"2022-10-03 00:00:00\",\"2022-10-04 00:00:00\",\"2022-10-05 00:00:00\",\"2022-10-06 00:00:00\",\"2022-10-07 00:00:00\",\"2022-10-10 00:00:00\",\"2022-10-11 00:00:00\",\"2022-10-12 00:00:00\",\"2022-10-13 00:00:00\",\"2022-10-14 00:00:00\",\"2022-10-17 00:00:00\",\"2022-10-18 00:00:00\",\"2022-10-19 00:00:00\",\"2022-10-20 00:00:00\",\"2022-10-21 00:00:00\",\"2022-10-24 00:00:00\",\"2022-10-25 00:00:00\",\"2022-10-26 00:00:00\",\"2022-10-27 00:00:00\",\"2022-10-28 00:00:00\",\"2022-10-31 00:00:00\",\"2022-11-01 00:00:00\",\"2022-11-02 00:00:00\",\"2022-11-03 00:00:00\",\"2022-11-04 00:00:00\",\"2022-11-07 00:00:00\",\"2022-11-08 00:00:00\",\"2022-11-09 00:00:00\",\"2022-11-10 00:00:00\",\"2022-11-11 00:00:00\",\"2022-11-14 00:00:00\",\"2022-11-15 00:00:00\",\"2022-11-16 00:00:00\",\"2022-11-17 00:00:00\",\"2022-11-18 00:00:00\",\"2022-11-21 00:00:00\",\"2022-11-22 00:00:00\",\"2022-11-23 00:00:00\",\"2022-11-25 00:00:00\"],\"tags\":[[[\"Date\",\"Date\",null]]]},\"id\":\"1261\",\"type\":\"FactorRange\"}],\"root_ids\":[\"1259\"]},\"title\":\"Bokeh Application\",\"version\":\"2.4.3\"}};\n",
       "    var render_items = [{\"docid\":\"41fa118a-f0e9-42a6-a5cc-4bc874d76caa\",\"root_ids\":[\"1259\"],\"roots\":{\"1259\":\"831405ab-21a8-4e7d-9c1b-13276fcf4130\"}}];\n",
       "    root.Bokeh.embed.embed_items_notebook(docs_json, render_items);\n",
       "    for (const render_item of render_items) {\n",
       "      for (const root_id of render_item.root_ids) {\n",
       "\tconst id_el = document.getElementById(root_id)\n",
       "\tif (id_el.children.length && (id_el.children[0].className === 'bk-root')) {\n",
       "\t  const root_el = id_el.children[0]\n",
       "\t  root_el.id = root_el.id + '-rendered'\n",
       "\t}\n",
       "      }\n",
       "    }\n",
       "  }\n",
       "  if (root.Bokeh !== undefined && root.Bokeh.Panel !== undefined) {\n",
       "    embed_document(root);\n",
       "  } else {\n",
       "    var attempts = 0;\n",
       "    var timer = setInterval(function(root) {\n",
       "      if (root.Bokeh !== undefined && root.Bokeh.Panel !== undefined) {\n",
       "        clearInterval(timer);\n",
       "        embed_document(root);\n",
       "      } else if (document.readyState == \"complete\") {\n",
       "        attempts++;\n",
       "        if (attempts > 200) {\n",
       "          clearInterval(timer);\n",
       "          console.log(\"Bokeh: ERROR: Unable to run BokehJS code because BokehJS library is missing\");\n",
       "        }\n",
       "      }\n",
       "    }, 25, root)\n",
       "  }\n",
       "})(window);</script>"
      ],
      "text/plain": [
       ":Bars   [Date]   (gist)"
      ]
     },
     "execution_count": 65,
     "metadata": {
      "application/vnd.holoviews_exec.v0+json": {
       "id": "1259"
      }
     },
     "output_type": "execute_result"
    }
   ],
   "source": [
    "gist = signal['gist'].hvplot.bar()\n",
    "gist"
   ]
  },
  {
   "cell_type": "code",
   "execution_count": 69,
   "id": "4e8ee341-2865-4aae-a83e-5901df8daf42",
   "metadata": {},
   "outputs": [],
   "source": [
    "# Create a new column in the `signal` called \"signal\" setting its value to zero.\n",
    "signal[\"signal\"] = 0.0\n",
    "# Create the signal to buy\n",
    "signal.loc[(signal[\"MACD\"] >= signal[\"Signal_line\"]), \"signal\"] = 1.0\n",
    "# Create the signal to sell\n",
    "signal.loc[(signal[\"MACD\"] < signal[\"Signal_line\"]), \"signal\"] = 0.0\n",
    "# Calculate the points in time when the Signal value changes\n",
    "# Identify trade entry (1) and exit (-1) points\n",
    "signal['Entry/Exit'] = signal['signal'].diff()"
   ]
  },
  {
   "cell_type": "code",
   "execution_count": 71,
   "id": "652ef447-458b-401f-848b-d792072c9f54",
   "metadata": {},
   "outputs": [
    {
     "data": {
      "text/html": [
       "<div>\n",
       "<style scoped>\n",
       "    .dataframe tbody tr th:only-of-type {\n",
       "        vertical-align: middle;\n",
       "    }\n",
       "\n",
       "    .dataframe tbody tr th {\n",
       "        vertical-align: top;\n",
       "    }\n",
       "\n",
       "    .dataframe thead th {\n",
       "        text-align: right;\n",
       "    }\n",
       "</style>\n",
       "<table border=\"1\" class=\"dataframe\">\n",
       "  <thead>\n",
       "    <tr style=\"text-align: right;\">\n",
       "      <th></th>\n",
       "      <th>Close</th>\n",
       "      <th>Actual Returns</th>\n",
       "      <th>EMA_12</th>\n",
       "      <th>EMA_26</th>\n",
       "      <th>MACD</th>\n",
       "      <th>Signal_line</th>\n",
       "      <th>gist</th>\n",
       "      <th>signal</th>\n",
       "      <th>Entry/Exit</th>\n",
       "    </tr>\n",
       "    <tr>\n",
       "      <th>Date</th>\n",
       "      <th></th>\n",
       "      <th></th>\n",
       "      <th></th>\n",
       "      <th></th>\n",
       "      <th></th>\n",
       "      <th></th>\n",
       "      <th></th>\n",
       "      <th></th>\n",
       "      <th></th>\n",
       "    </tr>\n",
       "  </thead>\n",
       "  <tbody>\n",
       "    <tr>\n",
       "      <th>2020-10-05</th>\n",
       "      <td>99.995003</td>\n",
       "      <td>-0.000050</td>\n",
       "      <td>99.999231</td>\n",
       "      <td>99.995003</td>\n",
       "      <td>0.004228</td>\n",
       "      <td>0.004228</td>\n",
       "      <td>0.000000</td>\n",
       "      <td>1.0</td>\n",
       "      <td>NaN</td>\n",
       "    </tr>\n",
       "    <tr>\n",
       "      <th>2020-10-06</th>\n",
       "      <td>100.029999</td>\n",
       "      <td>0.000350</td>\n",
       "      <td>100.003965</td>\n",
       "      <td>99.997595</td>\n",
       "      <td>0.006370</td>\n",
       "      <td>0.004657</td>\n",
       "      <td>0.001713</td>\n",
       "      <td>1.0</td>\n",
       "      <td>0.0</td>\n",
       "    </tr>\n",
       "    <tr>\n",
       "      <th>2020-10-07</th>\n",
       "      <td>99.919998</td>\n",
       "      <td>-0.001100</td>\n",
       "      <td>99.991047</td>\n",
       "      <td>99.991847</td>\n",
       "      <td>-0.000800</td>\n",
       "      <td>0.003565</td>\n",
       "      <td>-0.004366</td>\n",
       "      <td>0.0</td>\n",
       "      <td>-1.0</td>\n",
       "    </tr>\n",
       "    <tr>\n",
       "      <th>2020-10-08</th>\n",
       "      <td>99.995003</td>\n",
       "      <td>0.000751</td>\n",
       "      <td>99.991655</td>\n",
       "      <td>99.992081</td>\n",
       "      <td>-0.000426</td>\n",
       "      <td>0.002767</td>\n",
       "      <td>-0.003193</td>\n",
       "      <td>0.0</td>\n",
       "      <td>0.0</td>\n",
       "    </tr>\n",
       "    <tr>\n",
       "      <th>2020-10-09</th>\n",
       "      <td>99.940002</td>\n",
       "      <td>-0.000550</td>\n",
       "      <td>99.983709</td>\n",
       "      <td>99.988223</td>\n",
       "      <td>-0.004514</td>\n",
       "      <td>0.001311</td>\n",
       "      <td>-0.005825</td>\n",
       "      <td>0.0</td>\n",
       "      <td>0.0</td>\n",
       "    </tr>\n",
       "  </tbody>\n",
       "</table>\n",
       "</div>"
      ],
      "text/plain": [
       "                 Close  Actual Returns      EMA_12     EMA_26      MACD  \\\n",
       "Date                                                                      \n",
       "2020-10-05   99.995003       -0.000050   99.999231  99.995003  0.004228   \n",
       "2020-10-06  100.029999        0.000350  100.003965  99.997595  0.006370   \n",
       "2020-10-07   99.919998       -0.001100   99.991047  99.991847 -0.000800   \n",
       "2020-10-08   99.995003        0.000751   99.991655  99.992081 -0.000426   \n",
       "2020-10-09   99.940002       -0.000550   99.983709  99.988223 -0.004514   \n",
       "\n",
       "            Signal_line      gist  signal  Entry/Exit  \n",
       "Date                                                   \n",
       "2020-10-05     0.004228  0.000000     1.0         NaN  \n",
       "2020-10-06     0.004657  0.001713     1.0         0.0  \n",
       "2020-10-07     0.003565 -0.004366     0.0        -1.0  \n",
       "2020-10-08     0.002767 -0.003193     0.0         0.0  \n",
       "2020-10-09     0.001311 -0.005825     0.0         0.0  "
      ]
     },
     "execution_count": 71,
     "metadata": {},
     "output_type": "execute_result"
    }
   ],
   "source": [
    "signal.head()"
   ]
  },
  {
   "cell_type": "code",
   "execution_count": 73,
   "id": "5e11e0fe-ebb3-4756-85bd-20ec38a1c3fa",
   "metadata": {},
   "outputs": [
    {
     "data": {},
     "metadata": {},
     "output_type": "display_data"
    },
    {
     "data": {
      "application/vnd.holoviews_exec.v0+json": "",
      "text/html": [
       "<div id='1696'>\n",
       "  <div class=\"bk-root\" id=\"caefad47-a9cc-4fd9-9afe-a2433d979f63\" data-root-id=\"1696\"></div>\n",
       "</div>\n",
       "<script type=\"application/javascript\">(function(root) {\n",
       "  function embed_document(root) {\n",
       "    var docs_json = {\"5d4542f6-db86-41f1-8a48-ff49ca90c7f5\":{\"defs\":[{\"extends\":null,\"module\":null,\"name\":\"ReactiveHTML1\",\"overrides\":[],\"properties\":[]},{\"extends\":null,\"module\":null,\"name\":\"FlexBox1\",\"overrides\":[],\"properties\":[{\"default\":\"flex-start\",\"kind\":null,\"name\":\"align_content\"},{\"default\":\"flex-start\",\"kind\":null,\"name\":\"align_items\"},{\"default\":\"row\",\"kind\":null,\"name\":\"flex_direction\"},{\"default\":\"wrap\",\"kind\":null,\"name\":\"flex_wrap\"},{\"default\":\"flex-start\",\"kind\":null,\"name\":\"justify_content\"}]},{\"extends\":null,\"module\":null,\"name\":\"GridStack1\",\"overrides\":[],\"properties\":[{\"default\":\"warn\",\"kind\":null,\"name\":\"mode\"},{\"default\":null,\"kind\":null,\"name\":\"ncols\"},{\"default\":null,\"kind\":null,\"name\":\"nrows\"},{\"default\":true,\"kind\":null,\"name\":\"allow_resize\"},{\"default\":true,\"kind\":null,\"name\":\"allow_drag\"},{\"default\":[],\"kind\":null,\"name\":\"state\"}]},{\"extends\":null,\"module\":null,\"name\":\"click1\",\"overrides\":[],\"properties\":[{\"default\":\"\",\"kind\":null,\"name\":\"terminal_output\"},{\"default\":\"\",\"kind\":null,\"name\":\"debug_name\"},{\"default\":0,\"kind\":null,\"name\":\"clears\"}]},{\"extends\":null,\"module\":null,\"name\":\"NotificationAreaBase1\",\"overrides\":[],\"properties\":[{\"default\":\"bottom-right\",\"kind\":null,\"name\":\"position\"},{\"default\":0,\"kind\":null,\"name\":\"_clear\"}]},{\"extends\":null,\"module\":null,\"name\":\"NotificationArea1\",\"overrides\":[],\"properties\":[{\"default\":[],\"kind\":null,\"name\":\"notifications\"},{\"default\":\"bottom-right\",\"kind\":null,\"name\":\"position\"},{\"default\":0,\"kind\":null,\"name\":\"_clear\"},{\"default\":[{\"background\":\"#ffc107\",\"icon\":{\"className\":\"fas fa-exclamation-triangle\",\"color\":\"white\",\"tagName\":\"i\"},\"type\":\"warning\"},{\"background\":\"#007bff\",\"icon\":{\"className\":\"fas fa-info-circle\",\"color\":\"white\",\"tagName\":\"i\"},\"type\":\"info\"}],\"kind\":null,\"name\":\"types\"}]},{\"extends\":null,\"module\":null,\"name\":\"Notification\",\"overrides\":[],\"properties\":[{\"default\":null,\"kind\":null,\"name\":\"background\"},{\"default\":3000,\"kind\":null,\"name\":\"duration\"},{\"default\":null,\"kind\":null,\"name\":\"icon\"},{\"default\":\"\",\"kind\":null,\"name\":\"message\"},{\"default\":null,\"kind\":null,\"name\":\"notification_type\"},{\"default\":false,\"kind\":null,\"name\":\"_destroyed\"}]},{\"extends\":null,\"module\":null,\"name\":\"TemplateActions1\",\"overrides\":[],\"properties\":[{\"default\":0,\"kind\":null,\"name\":\"open_modal\"},{\"default\":0,\"kind\":null,\"name\":\"close_modal\"}]},{\"extends\":null,\"module\":null,\"name\":\"MaterialTemplateActions1\",\"overrides\":[],\"properties\":[{\"default\":0,\"kind\":null,\"name\":\"open_modal\"},{\"default\":0,\"kind\":null,\"name\":\"close_modal\"}]}],\"roots\":{\"references\":[{\"attributes\":{},\"id\":\"1818\",\"type\":\"Selection\"},{\"attributes\":{\"fill_alpha\":{\"value\":0.1},\"fill_color\":{\"value\":\"purple\"},\"hatch_alpha\":{\"value\":0.1},\"hatch_color\":{\"value\":\"purple\"},\"line_alpha\":{\"value\":0.1},\"line_color\":{\"value\":\"purple\"},\"marker\":{\"value\":\"triangle\"},\"size\":{\"value\":14.142135623730951},\"x\":{\"field\":\"Date\"},\"y\":{\"field\":\"Close\"}},\"id\":\"1812\",\"type\":\"Scatter\"},{\"attributes\":{\"bottom_units\":\"screen\",\"coordinates\":null,\"fill_alpha\":0.5,\"fill_color\":\"lightgrey\",\"group\":null,\"left_units\":\"screen\",\"level\":\"overlay\",\"line_alpha\":1.0,\"line_color\":\"black\",\"line_dash\":[4,4],\"line_width\":2,\"right_units\":\"screen\",\"syncable\":false,\"top_units\":\"screen\"},\"id\":\"1726\",\"type\":\"BoxAnnotation\"},{\"attributes\":{\"line_color\":\"#fc4f30\",\"line_width\":2,\"x\":{\"field\":\"Date\"},\"y\":{\"field\":\"value\"}},\"id\":\"1807\",\"type\":\"Line\"},{\"attributes\":{},\"id\":\"1837\",\"type\":\"UnionRenderers\"},{\"attributes\":{},\"id\":\"1809\",\"type\":\"Selection\"},{\"attributes\":{\"coordinates\":null,\"data_source\":{\"id\":\"1741\"},\"glyph\":{\"id\":\"1744\"},\"group\":null,\"hover_glyph\":null,\"muted_glyph\":{\"id\":\"1746\"},\"nonselection_glyph\":{\"id\":\"1745\"},\"selection_glyph\":{\"id\":\"1773\"},\"view\":{\"id\":\"1748\"}},\"id\":\"1747\",\"type\":\"GlyphRenderer\"},{\"attributes\":{},\"id\":\"1756\",\"type\":\"UnionRenderers\"},{\"attributes\":{\"fill_color\":{\"value\":\"purple\"},\"hatch_color\":{\"value\":\"purple\"},\"line_color\":{\"value\":\"purple\"},\"marker\":{\"value\":\"triangle\"},\"size\":{\"value\":14.142135623730951},\"x\":{\"field\":\"Date\"},\"y\":{\"field\":\"Close\"}},\"id\":\"1811\",\"type\":\"Scatter\"},{\"attributes\":{\"coordinates\":null,\"data_source\":{\"id\":\"1808\"},\"glyph\":{\"id\":\"1811\"},\"group\":null,\"hover_glyph\":null,\"muted_glyph\":{\"id\":\"1813\"},\"nonselection_glyph\":{\"id\":\"1812\"},\"selection_glyph\":{\"id\":\"1816\"},\"view\":{\"id\":\"1815\"}},\"id\":\"1814\",\"type\":\"GlyphRenderer\"},{\"attributes\":{\"fill_alpha\":{\"value\":0.2},\"fill_color\":{\"value\":\"purple\"},\"hatch_alpha\":{\"value\":0.2},\"hatch_color\":{\"value\":\"purple\"},\"line_alpha\":{\"value\":0.2},\"line_color\":{\"value\":\"purple\"},\"marker\":{\"value\":\"triangle\"},\"size\":{\"value\":14.142135623730951},\"x\":{\"field\":\"Date\"},\"y\":{\"field\":\"Close\"}},\"id\":\"1813\",\"type\":\"Scatter\"},{\"attributes\":{\"source\":{\"id\":\"1808\"}},\"id\":\"1815\",\"type\":\"CDSView\"},{\"attributes\":{\"angle\":{\"value\":0},\"fill_alpha\":{\"value\":1.0},\"fill_color\":{\"value\":\"purple\"},\"hatch_alpha\":{\"value\":1.0},\"hatch_color\":{\"value\":\"purple\"},\"hatch_scale\":{\"value\":12.0},\"hatch_weight\":{\"value\":1.0},\"line_alpha\":{\"value\":1.0},\"line_cap\":{\"value\":\"butt\"},\"line_color\":{\"value\":\"purple\"},\"line_dash\":{\"value\":[]},\"line_dash_offset\":{\"value\":0},\"line_join\":{\"value\":\"bevel\"},\"line_width\":{\"value\":1},\"marker\":{\"value\":\"triangle\"},\"size\":{\"value\":14.142135623730951},\"x\":{\"field\":\"Date\"},\"y\":{\"field\":\"Close\"}},\"id\":\"1816\",\"type\":\"Scatter\"},{\"attributes\":{},\"id\":\"1839\",\"type\":\"UnionRenderers\"},{\"attributes\":{\"source\":{\"id\":\"1817\"}},\"id\":\"1824\",\"type\":\"CDSView\"},{\"attributes\":{},\"id\":\"1737\",\"type\":\"AllLabels\"},{\"attributes\":{\"data\":{\"Close\":{\"__ndarray__\":\"AAAAwOr/WEAAAABgZvZYQAAAAGCz+lhAAAAAAMX3WEAAAAAAKaRYQAAAAEAKv1hAAAAAgJ7pWEAAAAAghetYQAAAAGBm7lhAAAAAQArvWEAAAACgR7FYQAAAAAD+qFhAAAAAQFleWEAAAACghyFYQAAAAMDMXFdAAAAAQOEiV0AAAAAAKXxWQAAAAGBfY1ZAAAAAIKBNVkAAAACg7ThWQA==\",\"dtype\":\"float64\",\"order\":\"little\",\"shape\":[20]},\"Date\":{\"__ndarray__\":\"AABAP1tZd0IAAEAEOF13QgAAAHFtc3dCAAAAzZN4d0IAAACzc4V3QgAAQMpKk3dCAABA/8Crd0IAAEB86rl3QgAAQKp9vHdCAAAApxm+d0IAAEC+8Mt3QgAAwEHi1ndCAADAsXvrd0IAAMCk6/F3QgAAQEngBXhCAABAIjAZeEIAAEB4qTp4QgAAwNqXPHhCAACA1zM+eEIAAIBufT94Qg==\",\"dtype\":\"float64\",\"order\":\"little\",\"shape\":[20]}},\"selected\":{\"id\":\"1809\"},\"selection_policy\":{\"id\":\"1837\"}},\"id\":\"1808\",\"type\":\"ColumnDataSource\"},{\"attributes\":{\"line_alpha\":0.1,\"line_color\":\"#fc4f30\",\"line_width\":2,\"x\":{\"field\":\"Date\"},\"y\":{\"field\":\"value\"}},\"id\":\"1778\",\"type\":\"Line\"},{\"attributes\":{\"angle\":{\"value\":3.141592653589793},\"fill_alpha\":{\"value\":0.1},\"fill_color\":{\"value\":\"yellow\"},\"hatch_alpha\":{\"value\":0.1},\"hatch_color\":{\"value\":\"yellow\"},\"line_alpha\":{\"value\":0.1},\"line_color\":{\"value\":\"yellow\"},\"marker\":{\"value\":\"triangle\"},\"size\":{\"value\":14.142135623730951},\"x\":{\"field\":\"Date\"},\"y\":{\"field\":\"Close\"}},\"id\":\"1821\",\"type\":\"Scatter\"},{\"attributes\":{\"line_color\":\"#30a2da\",\"line_width\":2,\"x\":{\"field\":\"Date\"},\"y\":{\"field\":\"value\"}},\"id\":\"1773\",\"type\":\"Line\"},{\"attributes\":{\"coordinates\":null,\"data_source\":{\"id\":\"1774\"},\"glyph\":{\"id\":\"1777\"},\"group\":null,\"hover_glyph\":null,\"muted_glyph\":{\"id\":\"1779\"},\"nonselection_glyph\":{\"id\":\"1778\"},\"selection_glyph\":{\"id\":\"1807\"},\"view\":{\"id\":\"1781\"}},\"id\":\"1780\",\"type\":\"GlyphRenderer\"},{\"attributes\":{\"children\":[{\"id\":\"1697\"},{\"id\":\"1704\"},{\"id\":\"1854\"}],\"margin\":[0,0,0,0],\"name\":\"Row02375\",\"tags\":[\"embedded\"]},\"id\":\"1696\",\"type\":\"Row\"},{\"attributes\":{\"end\":1669334400000.0,\"reset_end\":1669334400000.0,\"reset_start\":1601856000000.0,\"start\":1601856000000.0,\"tags\":[[[\"Date\",\"Date\",null]]]},\"id\":\"1698\",\"type\":\"Range1d\"},{\"attributes\":{},\"id\":\"1739\",\"type\":\"BasicTickFormatter\"},{\"attributes\":{\"end\":110.07912569151202,\"reset_end\":110.07912569151202,\"reset_start\":-10.885946571476019,\"start\":-10.885946571476019,\"tags\":[[[\"value\",\"value\",null]]]},\"id\":\"1699\",\"type\":\"Range1d\"},{\"attributes\":{\"angle\":{\"value\":3.141592653589793},\"fill_alpha\":{\"value\":0.2},\"fill_color\":{\"value\":\"yellow\"},\"hatch_alpha\":{\"value\":0.2},\"hatch_color\":{\"value\":\"yellow\"},\"line_alpha\":{\"value\":0.2},\"line_color\":{\"value\":\"yellow\"},\"marker\":{\"value\":\"triangle\"},\"size\":{\"value\":14.142135623730951},\"x\":{\"field\":\"Date\"},\"y\":{\"field\":\"Close\"}},\"id\":\"1822\",\"type\":\"Scatter\"},{\"attributes\":{},\"id\":\"1736\",\"type\":\"DatetimeTickFormatter\"},{\"attributes\":{\"mantissas\":[1,2,5],\"max_interval\":500.0,\"num_minor_ticks\":0},\"id\":\"1759\",\"type\":\"AdaptiveTicker\"},{\"attributes\":{},\"id\":\"1709\",\"type\":\"LinearScale\"},{\"attributes\":{},\"id\":\"1775\",\"type\":\"Selection\"},{\"attributes\":{\"base\":60,\"mantissas\":[1,2,5,10,15,20,30],\"max_interval\":1800000.0,\"min_interval\":1000.0,\"num_minor_ticks\":0},\"id\":\"1760\",\"type\":\"AdaptiveTicker\"},{\"attributes\":{\"line_color\":\"#fc4f30\",\"line_width\":2,\"x\":{\"field\":\"Date\"},\"y\":{\"field\":\"value\"}},\"id\":\"1777\",\"type\":\"Line\"},{\"attributes\":{},\"id\":\"1740\",\"type\":\"AllLabels\"},{\"attributes\":{\"days\":[1,2,3,4,5,6,7,8,9,10,11,12,13,14,15,16,17,18,19,20,21,22,23,24,25,26,27,28,29,30,31]},\"id\":\"1762\",\"type\":\"DaysTicker\"},{\"attributes\":{\"base\":24,\"mantissas\":[1,2,4,6,8,12],\"max_interval\":43200000.0,\"min_interval\":3600000.0,\"num_minor_ticks\":0},\"id\":\"1761\",\"type\":\"AdaptiveTicker\"},{\"attributes\":{\"line_alpha\":0.2,\"line_color\":\"#fc4f30\",\"line_width\":2,\"x\":{\"field\":\"Date\"},\"y\":{\"field\":\"value\"}},\"id\":\"1779\",\"type\":\"Line\"},{\"attributes\":{\"months\":[0,1,2,3,4,5,6,7,8,9,10,11]},\"id\":\"1766\",\"type\":\"MonthsTicker\"},{\"attributes\":{\"margin\":[5,5,5,5],\"name\":\"HSpacer02379\",\"sizing_mode\":\"stretch_width\"},\"id\":\"1697\",\"type\":\"Spacer\"},{\"attributes\":{\"angle\":{\"value\":3.141592653589793},\"fill_color\":{\"value\":\"yellow\"},\"hatch_color\":{\"value\":\"yellow\"},\"line_color\":{\"value\":\"yellow\"},\"marker\":{\"value\":\"triangle\"},\"size\":{\"value\":14.142135623730951},\"x\":{\"field\":\"Date\"},\"y\":{\"field\":\"Close\"}},\"id\":\"1820\",\"type\":\"Scatter\"},{\"attributes\":{\"months\":[0,2,4,6,8,10]},\"id\":\"1767\",\"type\":\"MonthsTicker\"},{\"attributes\":{\"source\":{\"id\":\"1774\"}},\"id\":\"1781\",\"type\":\"CDSView\"},{\"attributes\":{\"days\":[1,4,7,10,13,16,19,22,25,28]},\"id\":\"1763\",\"type\":\"DaysTicker\"},{\"attributes\":{\"callback\":null,\"formatters\":{\"@{Date}\":\"datetime\"},\"renderers\":[{\"id\":\"1747\"},{\"id\":\"1780\"}],\"tags\":[\"hv_created\"],\"tooltips\":[[\"Variable\",\"@{Variable}\"],[\"Date\",\"@{Date}{%F %T}\"],[\"value\",\"@{value}\"]]},\"id\":\"1700\",\"type\":\"HoverTool\"},{\"attributes\":{\"label\":{\"value\":\"Signal_line\"},\"renderers\":[{\"id\":\"1780\"}]},\"id\":\"1806\",\"type\":\"LegendItem\"},{\"attributes\":{\"days\":[1,15]},\"id\":\"1765\",\"type\":\"DaysTicker\"},{\"attributes\":{},\"id\":\"1791\",\"type\":\"UnionRenderers\"},{\"attributes\":{\"months\":[0,6]},\"id\":\"1769\",\"type\":\"MonthsTicker\"},{\"attributes\":{\"days\":[1,8,15,22]},\"id\":\"1764\",\"type\":\"DaysTicker\"},{\"attributes\":{\"coordinates\":null,\"data_source\":{\"id\":\"1817\"},\"glyph\":{\"id\":\"1820\"},\"group\":null,\"hover_glyph\":null,\"muted_glyph\":{\"id\":\"1822\"},\"nonselection_glyph\":{\"id\":\"1821\"},\"selection_glyph\":{\"id\":\"1825\"},\"view\":{\"id\":\"1824\"}},\"id\":\"1823\",\"type\":\"GlyphRenderer\"},{\"attributes\":{},\"id\":\"1770\",\"type\":\"YearsTicker\"},{\"attributes\":{},\"id\":\"1742\",\"type\":\"Selection\"},{\"attributes\":{\"data\":{\"Date\":{\"__ndarray__\":\"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\",\"dtype\":\"float64\",\"order\":\"little\",\"shape\":[541]},\"Variable\":[\"Signal_line\",\"Signal_line\",\"Signal_line\",\"Signal_line\",\"Signal_line\",\"Signal_line\",\"Signal_line\",\"Signal_line\",\"Signal_line\",\"Signal_line\",\"Signal_line\",\"Signal_line\",\"Signal_line\",\"Signal_line\",\"Signal_line\",\"Signal_line\",\"Signal_line\",\"Signal_line\",\"Signal_line\",\"Signal_line\",\"Signal_line\",\"Signal_line\",\"Signal_line\",\"Signal_line\",\"Signal_line\",\"Signal_line\",\"Signal_line\",\"Signal_line\",\"Signal_line\",\"Signal_line\",\"Signal_line\",\"Signal_line\",\"Signal_line\",\"Signal_line\",\"Signal_line\",\"Signal_line\",\"Signal_line\",\"Signal_line\",\"Signal_line\",\"Signal_line\",\"Signal_line\",\"Signal_line\",\"Signal_line\",\"Signal_line\",\"Signal_line\",\"Signal_line\",\"Signal_line\",\"Signal_line\",\"Signal_line\",\"Signal_line\",\"Signal_line\",\"Signal_line\",\"Signal_line\",\"Signal_line\",\"Signal_line\",\"Signal_line\",\"Signal_line\",\"Signal_line\",\"Signal_line\",\"Signal_line\",\"Signal_line\",\"Signal_line\",\"Signal_line\",\"Signal_line\",\"Signal_line\",\"Signal_line\",\"Signal_line\",\"Signal_line\",\"Signal_line\",\"Signal_line\",\"Signal_line\",\"Signal_line\",\"Signal_line\",\"Signal_line\",\"Signal_line\",\"Signal_line\",\"Signal_line\",\"Signal_line\",\"Signal_line\",\"Signal_line\",\"Signal_line\",\"Signal_line\",\"Signal_line\",\"Signal_line\",\"Signal_line\",\"Signal_line\",\"Signal_line\",\"Signal_line\",\"Signal_line\",\"Signal_line\",\"Signal_line\",\"Signal_line\",\"Signal_line\",\"Signal_line\",\"Signal_line\",\"Signal_line\",\"Signal_line\",\"Signal_line\",\"Signal_line\",\"Signal_line\",\"Signal_line\",\"Signal_line\",\"Signal_line\",\"Signal_line\",\"Signal_line\",\"Signal_line\",\"Signal_line\",\"Signal_line\",\"Signal_line\",\"Signal_line\",\"Signal_line\",\"Signal_line\",\"Signal_line\",\"Signal_line\",\"Signal_line\",\"Signal_line\",\"Signal_line\",\"Signal_line\",\"Signal_line\",\"Signal_line\",\"Signal_line\",\"Signal_line\",\"Signal_line\",\"Signal_line\",\"Signal_line\",\"Signal_line\",\"Signal_line\",\"Signal_line\",\"Signal_line\",\"Signal_line\",\"Signal_line\",\"Signal_line\",\"Signal_line\",\"Signal_line\",\"Signal_line\",\"Signal_line\",\"Signal_line\",\"Signal_line\",\"Signal_line\",\"Signal_line\",\"Signal_line\",\"Signal_line\",\"Signal_line\",\"Signal_line\",\"Signal_line\",\"Signal_line\",\"Signal_line\",\"Signal_line\",\"Signal_line\",\"Signal_line\",\"Signal_line\",\"Signal_line\",\"Signal_line\",\"Signal_line\",\"Signal_line\",\"Signal_line\",\"Signal_line\",\"Signal_line\",\"Signal_line\",\"Signal_line\",\"Signal_line\",\"Signal_line\",\"Signal_line\",\"Signal_line\",\"Signal_line\",\"Signal_line\",\"Signal_line\",\"Signal_line\",\"Signal_line\",\"Signal_line\",\"Signal_line\",\"Signal_line\",\"Signal_line\",\"Signal_line\",\"Signal_line\",\"Signal_line\",\"Signal_line\",\"Signal_line\",\"Signal_line\",\"Signal_line\",\"Signal_line\",\"Signal_line\",\"Signal_line\",\"Signal_line\",\"Signal_line\",\"Signal_line\",\"Signal_line\",\"Signal_line\",\"Signal_line\",\"Signal_line\",\"Signal_line\",\"Signal_line\",\"Signal_line\",\"Signal_line\",\"Signal_line\",\"Signal_line\",\"Signal_line\",\"Signal_line\",\"Signal_line\",\"Signal_line\",\"Signal_line\",\"Signal_line\",\"Signal_line\",\"Signal_line\",\"Signal_line\",\"Signal_line\",\"Signal_line\",\"Signal_line\",\"Signal_line\",\"Signal_line\",\"Signal_line\",\"Signal_line\",\"Signal_line\",\"Signal_line\",\"Signal_line\",\"Signal_line\",\"Signal_line\",\"Signal_line\",\"Signal_line\",\"Signal_line\",\"Signal_line\",\"Signal_line\",\"Signal_line\",\"Signal_line\",\"Signal_line\",\"Signal_line\",\"Signal_line\",\"Signal_line\",\"Signal_line\",\"Signal_line\",\"Signal_line\",\"Signal_line\",\"Signal_line\",\"Signal_line\",\"Signal_line\",\"Signal_line\",\"Signal_line\",\"Signal_line\",\"Signal_line\",\"Signal_line\",\"Signal_line\",\"Signal_line\",\"Signal_line\",\"Signal_line\",\"Signal_line\",\"Signal_line\",\"Signal_line\",\"Signal_line\",\"Signal_line\",\"Signal_line\",\"Signal_line\",\"Signal_line\",\"Signal_line\",\"Signal_line\",\"Signal_line\",\"Signal_line\",\"Signal_line\",\"Signal_line\",\"Signal_line\",\"Signal_line\",\"Signal_line\",\"Signal_line\",\"Signal_line\",\"Signal_line\",\"Signal_line\",\"Signal_line\",\"Signal_line\",\"Signal_line\",\"Signal_line\",\"Signal_line\",\"Signal_line\",\"Signal_line\",\"Signal_line\",\"Signal_line\",\"Signal_line\",\"Signal_line\",\"Signal_line\",\"Signal_line\",\"Signal_line\",\"Signal_line\",\"Signal_line\",\"Signal_line\",\"Signal_line\",\"Signal_line\",\"Signal_line\",\"Signal_line\",\"Signal_line\",\"Signal_line\",\"Signal_line\",\"Signal_line\",\"Signal_line\",\"Signal_line\",\"Signal_line\",\"Signal_line\",\"Signal_line\",\"Signal_line\",\"Signal_line\",\"Signal_line\",\"Signal_line\",\"Signal_line\",\"Signal_line\",\"Signal_line\",\"Signal_line\",\"Signal_line\",\"Signal_line\",\"Signal_line\",\"Signal_line\",\"Signal_line\",\"Signal_line\",\"Signal_line\",\"Signal_line\",\"Signal_line\",\"Signal_line\",\"Signal_line\",\"Signal_line\",\"Signal_line\",\"Signal_line\",\"Signal_line\",\"Signal_line\",\"Signal_line\",\"Signal_line\",\"Signal_line\",\"Signal_line\",\"Signal_line\",\"Signal_line\",\"Signal_line\",\"Signal_line\",\"Signal_line\",\"Signal_line\",\"Signal_line\",\"Signal_line\",\"Signal_line\",\"Signal_line\",\"Signal_line\",\"Signal_line\",\"Signal_line\",\"Signal_line\",\"Signal_line\",\"Signal_line\",\"Signal_line\",\"Signal_line\",\"Signal_line\",\"Signal_line\",\"Signal_line\",\"Signal_line\",\"Signal_line\",\"Signal_line\",\"Signal_line\",\"Signal_line\",\"Signal_line\",\"Signal_line\",\"Signal_line\",\"Signal_line\",\"Signal_line\",\"Signal_line\",\"Signal_line\",\"Signal_line\",\"Signal_line\",\"Signal_line\",\"Signal_line\",\"Signal_line\",\"Signal_line\",\"Signal_line\",\"Signal_line\",\"Signal_line\",\"Signal_line\",\"Signal_line\",\"Signal_line\",\"Signal_line\",\"Signal_line\",\"Signal_line\",\"Signal_line\",\"Signal_line\",\"Signal_line\",\"Signal_line\",\"Signal_line\",\"Signal_line\",\"Signal_line\",\"Signal_line\",\"Signal_line\",\"Signal_line\",\"Signal_line\",\"Signal_line\",\"Signal_line\",\"Signal_line\",\"Signal_line\",\"Signal_line\",\"Signal_line\",\"Signal_line\",\"Signal_line\",\"Signal_line\",\"Signal_line\",\"Signal_line\",\"Signal_line\",\"Signal_line\",\"Signal_line\",\"Signal_line\",\"Signal_line\",\"Signal_line\",\"Signal_line\",\"Signal_line\",\"Signal_line\",\"Signal_line\",\"Signal_line\",\"Signal_line\",\"Signal_line\",\"Signal_line\",\"Signal_line\",\"Signal_line\",\"Signal_line\",\"Signal_line\",\"Signal_line\",\"Signal_line\",\"Signal_line\",\"Signal_line\",\"Signal_line\",\"Signal_line\",\"Signal_line\",\"Signal_line\",\"Signal_line\",\"Signal_line\",\"Signal_line\",\"Signal_line\",\"Signal_line\",\"Signal_line\",\"Signal_line\",\"Signal_line\",\"Signal_line\",\"Signal_line\",\"Signal_line\",\"Signal_line\",\"Signal_line\",\"Signal_line\",\"Signal_line\",\"Signal_line\",\"Signal_line\",\"Signal_line\",\"Signal_line\",\"Signal_line\",\"Signal_line\",\"Signal_line\",\"Signal_line\",\"Signal_line\",\"Signal_line\",\"Signal_line\",\"Signal_line\",\"Signal_line\",\"Signal_line\",\"Signal_line\",\"Signal_line\",\"Signal_line\",\"Signal_line\",\"Signal_line\",\"Signal_line\",\"Signal_line\",\"Signal_line\",\"Signal_line\",\"Signal_line\",\"Signal_line\",\"Signal_line\",\"Signal_line\",\"Signal_line\",\"Signal_line\",\"Signal_line\",\"Signal_line\",\"Signal_line\",\"Signal_line\",\"Signal_line\",\"Signal_line\",\"Signal_line\",\"Signal_line\",\"Signal_line\",\"Signal_line\",\"Signal_line\",\"Signal_line\",\"Signal_line\",\"Signal_line\",\"Signal_line\",\"Signal_line\",\"Signal_line\",\"Signal_line\",\"Signal_line\",\"Signal_line\",\"Signal_line\",\"Signal_line\",\"Signal_line\",\"Signal_line\",\"Signal_line\",\"Signal_line\",\"Signal_line\",\"Signal_line\",\"Signal_line\",\"Signal_line\",\"Signal_line\",\"Signal_line\",\"Signal_line\",\"Signal_line\",\"Signal_line\",\"Signal_line\",\"Signal_line\",\"Signal_line\",\"Signal_line\",\"Signal_line\",\"Signal_line\",\"Signal_line\",\"Signal_line\",\"Signal_line\",\"Signal_line\",\"Signal_line\",\"Signal_line\",\"Signal_line\",\"Signal_line\",\"Signal_line\",\"Signal_line\",\"Signal_line\",\"Signal_line\",\"Signal_line\",\"Signal_line\",\"Signal_line\",\"Signal_line\",\"Signal_line\",\"Signal_line\",\"Signal_line\",\"Signal_line\",\"Signal_line\",\"Signal_line\",\"Signal_line\",\"Signal_line\",\"Signal_line\",\"Signal_line\",\"Signal_line\",\"Signal_line\",\"Signal_line\",\"Signal_line\",\"Signal_line\",\"Signal_line\",\"Signal_line\",\"Signal_line\",\"Signal_line\",\"Signal_line\",\"Signal_line\"],\"value\":{\"__ndarray__\":\"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\",\"dtype\":\"float64\",\"order\":\"little\",\"shape\":[541]}},\"selected\":{\"id\":\"1775\"},\"selection_policy\":{\"id\":\"1791\"}},\"id\":\"1774\",\"type\":\"ColumnDataSource\"},{\"attributes\":{\"months\":[0,4,8]},\"id\":\"1768\",\"type\":\"MonthsTicker\"},{\"attributes\":{\"data\":{\"Close\":{\"__ndarray__\":\"AAAAQOH6WEAAAADA9ehYQAAAAID591hAAAAAwPXwWEAAAADA3OFYQAAAAGC4tlhAAAAAQArHWEAAAACAvuNYQAAAAMCG41hAAAAA4KPoWEAAAACAPepYQAAAAGB0oFhAAAAAYNySWEAAAABAMztYQAAAAKBwBVhAAAAAgFhUV0AAAACgmXFXQAAAAGASZ1ZAAAAA4DhJVkAAAADg+SZWQA==\",\"dtype\":\"float64\",\"order\":\"little\",\"shape\":[20]},\"Date\":{\"__ndarray__\":\"AACAuAVQd0IAAAA891p3QgAAwONPbXdCAADABFN2d0IAAIAvgnp3QgAAgM2ukXdCAAAAjMOYd0IAAMAmjLF3QgAAwN7Yu3dCAAAAENC8d0IAAMAMbL53QgAAgEsO0ndCAABAxdPhd0IAAEB9IOx3QgAAwAAS93dCAACAYLcTeEIAAAAFrCd4QgAAAN77OnhCAABApjw9eEIAAMAIKz94Qg==\",\"dtype\":\"float64\",\"order\":\"little\",\"shape\":[20]}},\"selected\":{\"id\":\"1818\"},\"selection_policy\":{\"id\":\"1839\"}},\"id\":\"1817\",\"type\":\"ColumnDataSource\"},{\"attributes\":{\"angle\":{\"value\":3.141592653589793},\"fill_alpha\":{\"value\":1.0},\"fill_color\":{\"value\":\"yellow\"},\"hatch_alpha\":{\"value\":1.0},\"hatch_color\":{\"value\":\"yellow\"},\"hatch_scale\":{\"value\":12.0},\"hatch_weight\":{\"value\":1.0},\"line_alpha\":{\"value\":1.0},\"line_cap\":{\"value\":\"butt\"},\"line_color\":{\"value\":\"yellow\"},\"line_dash\":{\"value\":[]},\"line_dash_offset\":{\"value\":0},\"line_join\":{\"value\":\"bevel\"},\"line_width\":{\"value\":1},\"marker\":{\"value\":\"triangle\"},\"size\":{\"value\":14.142135623730951},\"x\":{\"field\":\"Date\"},\"y\":{\"field\":\"Close\"}},\"id\":\"1825\",\"type\":\"Scatter\"},{\"attributes\":{\"coordinates\":null,\"group\":null,\"text\":\"BTC\",\"text_color\":\"black\",\"text_font_size\":\"12pt\"},\"id\":\"1705\",\"type\":\"Title\"},{\"attributes\":{\"line_alpha\":0.2,\"line_color\":\"#30a2da\",\"line_width\":2,\"x\":{\"field\":\"Date\"},\"y\":{\"field\":\"value\"}},\"id\":\"1746\",\"type\":\"Line\"},{\"attributes\":{\"callback\":null,\"formatters\":{\"@{Date}\":\"datetime\"},\"renderers\":[{\"id\":\"1814\"},{\"id\":\"1823\"}],\"tags\":[\"hv_created\"],\"tooltips\":[[\"Date\",\"@{Date}{%F %T}\"],[\"Close\",\"@{Close}\"]]},\"id\":\"1702\",\"type\":\"HoverTool\"},{\"attributes\":{\"below\":[{\"id\":\"1713\"}],\"center\":[{\"id\":\"1716\"},{\"id\":\"1720\"}],\"height\":400,\"left\":[{\"id\":\"1717\"}],\"margin\":[5,5,5,5],\"min_border_bottom\":10,\"min_border_left\":10,\"min_border_right\":10,\"min_border_top\":10,\"renderers\":[{\"id\":\"1747\"},{\"id\":\"1780\"},{\"id\":\"1814\"},{\"id\":\"1823\"}],\"right\":[{\"id\":\"1771\"}],\"sizing_mode\":\"fixed\",\"title\":{\"id\":\"1705\"},\"toolbar\":{\"id\":\"1727\"},\"width\":1000,\"x_range\":{\"id\":\"1698\"},\"x_scale\":{\"id\":\"1709\"},\"y_range\":{\"id\":\"1699\"},\"y_scale\":{\"id\":\"1711\"}},\"id\":\"1704\",\"subtype\":\"Figure\",\"type\":\"Plot\"},{\"attributes\":{},\"id\":\"1711\",\"type\":\"LinearScale\"},{\"attributes\":{\"line_alpha\":0.1,\"line_color\":\"#30a2da\",\"line_width\":2,\"x\":{\"field\":\"Date\"},\"y\":{\"field\":\"value\"}},\"id\":\"1745\",\"type\":\"Line\"},{\"attributes\":{},\"id\":\"1722\",\"type\":\"PanTool\"},{\"attributes\":{\"axis_label\":\"Date\",\"coordinates\":null,\"formatter\":{\"id\":\"1736\"},\"group\":null,\"major_label_policy\":{\"id\":\"1737\"},\"ticker\":{\"id\":\"1714\"}},\"id\":\"1713\",\"type\":\"DatetimeAxis\"},{\"attributes\":{\"line_color\":\"#30a2da\",\"line_width\":2,\"x\":{\"field\":\"Date\"},\"y\":{\"field\":\"value\"}},\"id\":\"1744\",\"type\":\"Line\"},{\"attributes\":{\"axis_label\":\"Price in $\",\"coordinates\":null,\"formatter\":{\"id\":\"1739\"},\"group\":null,\"major_label_policy\":{\"id\":\"1740\"},\"ticker\":{\"id\":\"1718\"}},\"id\":\"1717\",\"type\":\"LinearAxis\"},{\"attributes\":{\"click_policy\":\"mute\",\"coordinates\":null,\"group\":null,\"items\":[{\"id\":\"1772\"},{\"id\":\"1806\"}],\"location\":[0,0]},\"id\":\"1771\",\"type\":\"Legend\"},{\"attributes\":{\"axis\":{\"id\":\"1713\"},\"coordinates\":null,\"grid_line_color\":null,\"group\":null,\"ticker\":null},\"id\":\"1716\",\"type\":\"Grid\"},{\"attributes\":{\"num_minor_ticks\":5,\"tickers\":[{\"id\":\"1759\"},{\"id\":\"1760\"},{\"id\":\"1761\"},{\"id\":\"1762\"},{\"id\":\"1763\"},{\"id\":\"1764\"},{\"id\":\"1765\"},{\"id\":\"1766\"},{\"id\":\"1767\"},{\"id\":\"1768\"},{\"id\":\"1769\"},{\"id\":\"1770\"}]},\"id\":\"1714\",\"type\":\"DatetimeTicker\"},{\"attributes\":{\"source\":{\"id\":\"1741\"}},\"id\":\"1748\",\"type\":\"CDSView\"},{\"attributes\":{\"data\":{\"Date\":{\"__ndarray__\":\"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\",\"dtype\":\"float64\",\"order\":\"little\",\"shape\":[541]},\"Variable\":[\"MACD\",\"MACD\",\"MACD\",\"MACD\",\"MACD\",\"MACD\",\"MACD\",\"MACD\",\"MACD\",\"MACD\",\"MACD\",\"MACD\",\"MACD\",\"MACD\",\"MACD\",\"MACD\",\"MACD\",\"MACD\",\"MACD\",\"MACD\",\"MACD\",\"MACD\",\"MACD\",\"MACD\",\"MACD\",\"MACD\",\"MACD\",\"MACD\",\"MACD\",\"MACD\",\"MACD\",\"MACD\",\"MACD\",\"MACD\",\"MACD\",\"MACD\",\"MACD\",\"MACD\",\"MACD\",\"MACD\",\"MACD\",\"MACD\",\"MACD\",\"MACD\",\"MACD\",\"MACD\",\"MACD\",\"MACD\",\"MACD\",\"MACD\",\"MACD\",\"MACD\",\"MACD\",\"MACD\",\"MACD\",\"MACD\",\"MACD\",\"MACD\",\"MACD\",\"MACD\",\"MACD\",\"MACD\",\"MACD\",\"MACD\",\"MACD\",\"MACD\",\"MACD\",\"MACD\",\"MACD\",\"MACD\",\"MACD\",\"MACD\",\"MACD\",\"MACD\",\"MACD\",\"MACD\",\"MACD\",\"MACD\",\"MACD\",\"MACD\",\"MACD\",\"MACD\",\"MACD\",\"MACD\",\"MACD\",\"MACD\",\"MACD\",\"MACD\",\"MACD\",\"MACD\",\"MACD\",\"MACD\",\"MACD\",\"MACD\",\"MACD\",\"MACD\",\"MACD\",\"MACD\",\"MACD\",\"MACD\",\"MACD\",\"MACD\",\"MACD\",\"MACD\",\"MACD\",\"MACD\",\"MACD\",\"MACD\",\"MACD\",\"MACD\",\"MACD\",\"MACD\",\"MACD\",\"MACD\",\"MACD\",\"MACD\",\"MACD\",\"MACD\",\"MACD\",\"MACD\",\"MACD\",\"MACD\",\"MACD\",\"MACD\",\"MACD\",\"MACD\",\"MACD\",\"MACD\",\"MACD\",\"MACD\",\"MACD\",\"MACD\",\"MACD\",\"MACD\",\"MACD\",\"MACD\",\"MACD\",\"MACD\",\"MACD\",\"MACD\",\"MACD\",\"MACD\",\"MACD\",\"MACD\",\"MACD\",\"MACD\",\"MACD\",\"MACD\",\"MACD\",\"MACD\",\"MACD\",\"MACD\",\"MACD\",\"MACD\",\"MACD\",\"MACD\",\"MACD\",\"MACD\",\"MACD\",\"MACD\",\"MACD\",\"MACD\",\"MACD\",\"MACD\",\"MACD\",\"MACD\",\"MACD\",\"MACD\",\"MACD\",\"MACD\",\"MACD\",\"MACD\",\"MACD\",\"MACD\",\"MACD\",\"MACD\",\"MACD\",\"MACD\",\"MACD\",\"MACD\",\"MACD\",\"MACD\",\"MACD\",\"MACD\",\"MACD\",\"MACD\",\"MACD\",\"MACD\",\"MACD\",\"MACD\",\"MACD\",\"MACD\",\"MACD\",\"MACD\",\"MACD\",\"MACD\",\"MACD\",\"MACD\",\"MACD\",\"MACD\",\"MACD\",\"MACD\",\"MACD\",\"MACD\",\"MACD\",\"MACD\",\"MACD\",\"MACD\",\"MACD\",\"MACD\",\"MACD\",\"MACD\",\"MACD\",\"MACD\",\"MACD\",\"MACD\",\"MACD\",\"MACD\",\"MACD\",\"MACD\",\"MACD\",\"MACD\",\"MACD\",\"MACD\",\"MACD\",\"MACD\",\"MACD\",\"MACD\",\"MACD\",\"MACD\",\"MACD\",\"MACD\",\"MACD\",\"MACD\",\"MACD\",\"MACD\",\"MACD\",\"MACD\",\"MACD\",\"MACD\",\"MACD\",\"MACD\",\"MACD\",\"MACD\",\"MACD\",\"MACD\",\"MACD\",\"MACD\",\"MACD\",\"MACD\",\"MACD\",\"MACD\",\"MACD\",\"MACD\",\"MACD\",\"MACD\",\"MACD\",\"MACD\",\"MACD\",\"MACD\",\"MACD\",\"MACD\",\"MACD\",\"MACD\",\"MACD\",\"MACD\",\"MACD\",\"MACD\",\"MACD\",\"MACD\",\"MACD\",\"MACD\",\"MACD\",\"MACD\",\"MACD\",\"MACD\",\"MACD\",\"MACD\",\"MACD\",\"MACD\",\"MACD\",\"MACD\",\"MACD\",\"MACD\",\"MACD\",\"MACD\",\"MACD\",\"MACD\",\"MACD\",\"MACD\",\"MACD\",\"MACD\",\"MACD\",\"MACD\",\"MACD\",\"MACD\",\"MACD\",\"MACD\",\"MACD\",\"MACD\",\"MACD\",\"MACD\",\"MACD\",\"MACD\",\"MACD\",\"MACD\",\"MACD\",\"MACD\",\"MACD\",\"MACD\",\"MACD\",\"MACD\",\"MACD\",\"MACD\",\"MACD\",\"MACD\",\"MACD\",\"MACD\",\"MACD\",\"MACD\",\"MACD\",\"MACD\",\"MACD\",\"MACD\",\"MACD\",\"MACD\",\"MACD\",\"MACD\",\"MACD\",\"MACD\",\"MACD\",\"MACD\",\"MACD\",\"MACD\",\"MACD\",\"MACD\",\"MACD\",\"MACD\",\"MACD\",\"MACD\",\"MACD\",\"MACD\",\"MACD\",\"MACD\",\"MACD\",\"MACD\",\"MACD\",\"MACD\",\"MACD\",\"MACD\",\"MACD\",\"MACD\",\"MACD\",\"MACD\",\"MACD\",\"MACD\",\"MACD\",\"MACD\",\"MACD\",\"MACD\",\"MACD\",\"MACD\",\"MACD\",\"MACD\",\"MACD\",\"MACD\",\"MACD\",\"MACD\",\"MACD\",\"MACD\",\"MACD\",\"MACD\",\"MACD\",\"MACD\",\"MACD\",\"MACD\",\"MACD\",\"MACD\",\"MACD\",\"MACD\",\"MACD\",\"MACD\",\"MACD\",\"MACD\",\"MACD\",\"MACD\",\"MACD\",\"MACD\",\"MACD\",\"MACD\",\"MACD\",\"MACD\",\"MACD\",\"MACD\",\"MACD\",\"MACD\",\"MACD\",\"MACD\",\"MACD\",\"MACD\",\"MACD\",\"MACD\",\"MACD\",\"MACD\",\"MACD\",\"MACD\",\"MACD\",\"MACD\",\"MACD\",\"MACD\",\"MACD\",\"MACD\",\"MACD\",\"MACD\",\"MACD\",\"MACD\",\"MACD\",\"MACD\",\"MACD\",\"MACD\",\"MACD\",\"MACD\",\"MACD\",\"MACD\",\"MACD\",\"MACD\",\"MACD\",\"MACD\",\"MACD\",\"MACD\",\"MACD\",\"MACD\",\"MACD\",\"MACD\",\"MACD\",\"MACD\",\"MACD\",\"MACD\",\"MACD\",\"MACD\",\"MACD\",\"MACD\",\"MACD\",\"MACD\",\"MACD\",\"MACD\",\"MACD\",\"MACD\",\"MACD\",\"MACD\",\"MACD\",\"MACD\",\"MACD\",\"MACD\",\"MACD\",\"MACD\",\"MACD\",\"MACD\",\"MACD\",\"MACD\",\"MACD\",\"MACD\",\"MACD\",\"MACD\",\"MACD\",\"MACD\",\"MACD\",\"MACD\",\"MACD\",\"MACD\",\"MACD\",\"MACD\",\"MACD\",\"MACD\",\"MACD\",\"MACD\",\"MACD\",\"MACD\",\"MACD\",\"MACD\",\"MACD\",\"MACD\",\"MACD\",\"MACD\",\"MACD\",\"MACD\",\"MACD\",\"MACD\",\"MACD\",\"MACD\",\"MACD\",\"MACD\",\"MACD\",\"MACD\",\"MACD\",\"MACD\",\"MACD\",\"MACD\",\"MACD\",\"MACD\",\"MACD\",\"MACD\",\"MACD\",\"MACD\",\"MACD\",\"MACD\",\"MACD\",\"MACD\",\"MACD\",\"MACD\",\"MACD\",\"MACD\",\"MACD\",\"MACD\",\"MACD\",\"MACD\",\"MACD\",\"MACD\",\"MACD\",\"MACD\",\"MACD\",\"MACD\",\"MACD\",\"MACD\",\"MACD\",\"MACD\",\"MACD\",\"MACD\",\"MACD\",\"MACD\",\"MACD\",\"MACD\",\"MACD\",\"MACD\",\"MACD\",\"MACD\",\"MACD\",\"MACD\",\"MACD\",\"MACD\",\"MACD\"],\"value\":{\"__ndarray__\":\"AMCJndhRcT8AwEg/CBd6PwAAXJ0cOkq/AAA0xQLjO78AgK/gwH1yvwBAMNUCZ3+/AGBLGCl/gL8AAAbdiJh+vwAgKW/ZFYO/AGB7CiUaib8A4NA31p+RvwCAH08W55i/AHjap3sXoL8AwGLylsulvwDAnby3Yai/AIirhHBFp78AIJoYv+OjvwAon5giPaK/ACDt4E1vpb8AWKl7u46qvwDoZZWPKq6/ALCYfrIWsb8AQJri9UaovwDQLBAViZ6/AOAZ7p69l78AMIBtEBifvwDIoXqQl6a/ALj6U7w6q78AeIbJNLOpvwAAoE0XWqi/AHASuvUKp78AcMOWrXyivwBg9FX7aZ2/AFCgbFzjk78AAK2d00+EvwAA1E9+dnO/AACUkf5LRb8AQLbwS7NyPwAgo4xYro4/ABCaHrwDnD8A0E1aWdSZPwBA+291u5U/AKAbM2xxmj8AUG6VEIGUPwAAYnv5T5c/ADDDKeB4mj8AsHRyl0CTPwAwD5qogJM/AOA/ummCmj8AsMdpTPmdPwAYrdXalKA/AEg3skykoT8AqKsyAN2hPwCwmce6bKE/AGAyUx27nz8AaELTZlGhPwBowGwAoaA/AOCMtgdloT8A8HImbEejPwBwqHUFnqQ/AEhi1U4Mpz8AyPK8lr+qPwC4jcUfCKw/ALCuqoW9qT8A+Jwa4XygPwBg+be7QIo/AGAxSd+jg78AyEWCKEugvwCYAqbuCam/ADiXpvHWq78A0IACHfCuvwAAF590t62/ADilaWBOq78AWK2k6BOpvwA4zjpitai/ABhQkwiCpr8AUNQifyqhvwDQ6R/rv5m/ABBmFnxClL8AUG0yGhyTvwBArtnQcpK/AMBDSevkj78AUBpZPtKSvwCAiLd/gJi/AKBCBREKm78AQKShlaGevwDIBj5y7KC/APAvf7qooL8AkGB6d3eZvwDQvvAsipO/ACBYn8I/lb8ACOw+ypulvwBodNRngKy/ALz/cVphsL8ATG3XS4S0vwB06y3ikLm/ACir4wVWvL8AzMe8y+K+vwAwWWy8gca/APoTwOZvyb8Ayrly/yvKvwB6NB7Btcm/ANxjg8XFyr8AImyKzADNvwBGqtvBSc+/ABPUoFeI0b8AJUHSd1TSvwBXAKqqKdK/AKpxiy1N0b8AjnRwhrPRvwDHG/Z5rtG/AA+Ks21o0b8ArdQKiKDQvwBmXk4Z6NC/AO2eMy7/0L8ArDBGDm3QvwBO92aTVM6/ANKSybuey78AHnkf3x7JvwCQ1zhJ3ce/AMZoY++cx78A2qz01GPHvwCirh0m7sa/AGILZzT6xL8AfJiWrnPEvwAGpY3748G/AKwBQCskv78AcHFobD65vwCQE3n2i7W/AIDl361as78AEH9vFTCuvwAIRR+FqKe/AFB017FrlL8AAKl22zGUPwBoLR4nCKQ/ANh1q0BBqT8AEGU9mQ2qPwD4ReSeoKs/AKAqDD+wqz8AyKgvIQOrPwAoh58TkKQ/AOBmBQB5oT8AMJ3U8iObPwAA5d9+hJc/ADDj3sjtmD8AAAjC5wydPwCgpEGRCaM/APiFUd33pj8AkP1MV7+sPwBwrjKHaq8/AADnZRGTsD8AGPHsfRCxPwDkFKL5QLE/APxS6p80sT8AQKzTwPiwPwC0+SFVmLA/ABRwD2AcsD8AEM0zgxivPwAIWor3260/AIC0ttmMrD8ACJnGADOrPwAIv4Kw1Kk/AMhQed52qD8AoILkax2nPwAg3i1Wy6U/ABgZid+CpD8A8FnmsEWjPwBA9kn2FKI/AMCWbXbxoD8AcCjWTLefPwCgkyZ0p50/AIBd82Kzmz8AkCBQyNqZPwCwQLcUHZg/ACB5Ool5lj8AoMLzQ++UPwAAoSpKfZM/AKB6j5Aikj8AsAvfAd6QPwBA0mUIXY8/AGDrcfoljT8A4KwEqxSLPwCgLyX2Jok/AGAnosZahz8AYCvyGK6FPwAAEEH9HoQ/AMAB0pirgj8AQGvXJlKBPwAgH9z4EIA/AEAXqe3MfT8AAKTVPaJ7PwAAnyoKn3k/AMDLCKXAdz8AwPvjiQR2PwDAr7ZbaHQ/AAA6WOPpcj8AAKLADYdxPwCgMt0JGag/AOCzfc2otT8AZDBmcbG5PwBIjB+DZb4/ABLLZmrlwD8AVkn1uCbCPwDMykrvkcM/AKBJ6uncxD8AxCMKRB3FPwBGUpvr0MU/AP5/8vBixz8APv4jXGPIPwDWhwY+Tcg/AJgDMUrRxj8AyAJRrZfDPwA6ySatA8A/AFAU7vpBuD8AJIm71IazPwAYlp/XM64/AODq7CqKrD8AYHEH/6atPwBQSA4MKaw/AGDe/OWgqD8AgDP6vtOnPwDI691be6U/AOgRywhdpD8AoKD7y+CgPwBgcOLgjpQ/AMCk/k4shj8AgJp9ZPmLPwDwEIZxJ5g/ACjgEKpUoD8AgKSDWd2iPwBYJNncRqY/AMiT3oJ2pz8A4FOqbp2iPwDwQFrP2KA/ACB4c3L3oz8A6IEY64GiPwBQA6McVqA/AGgAArpZoz8AuC/hp22iPwDgQCLldJw/AGDMfjdQiD8AQFGypqKIPwBgwHxj44I/AADmI7OLbj8AQEPC43yVvwAYiwahz6i/AAgcP6L6sb8AZCjFFoi6vwD4bxsBQ8C/AJ5hIbgQwr8Ayqxrg6PBvwACTgnpaMG/AMJe8WPmwb8AVkYLkCHCvwDKumQLlsO/AChRDoEQxb8AzM4nA17HvwDGigfC4Me/AFRNminix78Arv3OVZDGvwCsYtwi9ca/ALY8dpwTyL8AWllR23HJvwBihTM6asm/ADRuTJgjy78AahgGBM7LvwDu9z9Lasu/AHAPFVovyr8AZv+qQX7HvwCC/gR+V8a/AGZleWHfxL8A/GAuiiHEvwDmxiny9sG/AM5GcsufwL8A2MnGV2C6vwCcBAwDnLC/AKiRF4cXqb8A0JTo4IWZvwB4lrOa0qG/AAj/siJIqr8AOC2hnZiuvwDssQpTabO/AMRK/ECUt78AkH4NIvG4vwDsEBJLtLi/ADhDNtm5t78AML83z4e9vwB6H7fJ3cG/AEKvk/z2w78AiBlGwazBvwDYAQnhAr+/AEj+9Yq3ub8AfHcB/de1vwAEvdNPLbO/ADBN5mQoqr8AwAF7wl+nvwDALET6Zai/AGAs2+WTq78AIOy6PcisvwDQlDMVt6u/AFiQfjp1pb8A8OxLr/yjvwDYJ3KIv6a/AIjZPV4soL8AABdUJJeWvwCAIbHcj4y/AMDKW8lzk78A4Id0OJGPvwCAaPlO0pC/AMCkXdHDkL8AoHIHc4aKvwDw5We48ZK/AIBtlSUFir8AIGY0Zm2EvwDQjh6wnp+/AChLmnElqL8AYMo5eS+zvwA0sqpk0Lq/AC42tmsqwb8AjFSLnGvEvwDCMdkE88W/API4Y6rrxr8ATkI3BLLGvwAEt47O38i/ANyd9Pibzb8A6sgvghDQvwBb/SRa09C/AFz+kv1F0L8AGE3WuxrPvwBk06ElbM6/AIJr1hJD0L8ARhUv8gzRvwCDgKDq89C/AG+0s+2n0L8AAmp7iVLQvwBgCCoW/s6/ABTh+r0Fz78AG3auq0/RvwBK1IB5TdK/ALHloNKW078ApDmlBTzUvwAJ/iH6bNe/AG7nQ8+b178A7Vyn4dDYvwCGq5k01dm/AOyWmWzu2b8A++hmkQjZvwCl8B1Kqde/AGmkT8rr1r8AUHgt78LWvwDGudJU6dW/ALDQl2bt1L8AE6DciKbRvwDEq3zlKMq/ACRE9EQ5yL8ATv+tqv7FvwDoXgUHUcG/AIhOBbvHv78AItsfozHCvwAILZGD3cW/ACCJmYNMyr8AEmubiwjOvwAcW4VMttK/AK7xAhR91b8A2haZJrPXvwAvufKElNi/AKRddjN42L8AmrwoH+ravwCnfpqHT92/AMkTvoS/3b8ASP+Almbev4BNqmupeOC/AGGaZf424b8AqSFZXpnhv4D/7Jp/NeG/gNGTXvGf4L8Ar/8AgebgvwDw2DUiq+C/gCPjVctu4b8AYe7Rtf/hv4CYAbTgTOK/gOqTslDd4r+AIeFPHY7jv4D/xA5M/OK/gL84+shC4r8AOCtDwFrivwBz8QOnWOK/AKLmbxYg478AX6P6HTPjv4CJDC2heeO/gHtypt2i478Azcmvys7iv4AAy2cRW+G/gH6Z2Xtx4L8AyvdshaffvwDS2IeBKt+/gNd3w5ob4L8Akc6F4zDgvwC9lelic96/AEJzznk03r8Ahogr6YnevwCVJhWu99y/AOD9PBbX2r8AynIFgEPYvwDaG64lGtW/AOAWss1G078AOeaQOsLQvwBmwOfoj9C/ABhvPGDazr8A+OMK3q/KvwAOBJtXbsW/AHgRxzwBw78AYBLr4sK5vwDoyigRwqe/AACCCzHmaT8AKJoiToanPwA4UtT2Oao/AIBQRm/Jnz8A4AI1OFGTPwAAufYO1F4/AGCJv5lJoL8AsGRS4cOovwCEjcoPe7K/APRKhL2Zub8AdtZ6aL/FvwDQNDXh4NK/AAgL4+a22r8AMfJvyhHdvwD0lTQyfN2/ANxhI0uq3b8AwhpqcCXevwBq7vzwrdu/AGppADxl2L8ACGnEJNDVvwAj+vGLtNS/AD5o3uof1L8AZllpnfvRvwCyXaZSV8y/ALL/XUF1wL8AUHz4brymvwDgX2ZtI4y/AMBCjq0gcr8AgH2StlaDvwCAdzTI3GA/ACD0EVtklz8AgEGQVPSkPwBQC5VAsqY/AOikV0XRqz8A0PkfcXitPwCgwoAS7KU/AFBVtjtLmz8AqFB+I7OsPwAkfQ9AlL0/AEJd+44/wz8ADM8R2v/FPwC84pfxFMs/AIJ0LB6M0T8ARFJCDuXUPwC+a5EMsNc/AOrYlJRJ1j8Axwb5VKTVPwAwDqqQ6tU/AAUWMi/f0j8AcPfvBDHRPwBEhh2QsM0/AB6rPGeRzD8A2iRCNefHPwDsDIj6k8U/ANQSmFAoxT8ABOpJND3DPwCkx308mLw/ANx/QVeHtj8AYP0tU9ipPwAANIyfck8/AKBjPJdUpb8AJNUAhCG2vwDUKUO9rLm/AMjkjxlavr8AlFQ4h4rDvwBMSO94Lse/ACIiUJoXyr8A1B5CNffPvwBr9EYQpNC/AAS4WitH078AaOUI8pvTvwBj0HQBXNS/APPsYXz81L8AfdAsmHvVvwDK7XVCvte/AKDSnRZm2b8AboZRwVfbvwAVwPwyC9y/APWEz0VG3b8AnIGfQgrfvwAybjZJnt+/AB5oOwlW4b+ATyQ38K3ivwD8WRIeJ+W/ADABR9x8578AXCVFuB7ov4C9ZTHsAem/AJylBdrG6b8AeM6TCpjov4Cqie6I5+a/gGuiM/BF5r8AKpverNzlv4BqKxbBIea/APH83qFt5r+AyKToHm7mvwC5lhgL9uW/gFEdcxz55b+Ar96qNiXmvwDau+Ey2uW/AFcC2gQT5b8AOSrl+Vflv4C+srmKCOa/gIeKekqb5b8AUh7ozgzlvwBdJPtiY+O/AGhnNK1r4b8AxbBc/MPdvwCW2avBg9q/AIh0Ryry2L8AQFFNPEPXvwCmR6lvRNa/AE7eE/VL1r8AnSxvdZDVvwDFeH8/e9W/AKsHwCYJ1L8AZCTO6kPSvwBCn3Jcc8W/AOAshKbKs78AoNVOlU2PvwBQrVgL7q8/AMz7IVTdwT8AxjHjubDGPwD+qslvYMg/ANbHQ3AByT8AqMppon3KPwAU5D4SKc4/AAhQOWCF0D8=\",\"dtype\":\"float64\",\"order\":\"little\",\"shape\":[541]}},\"selected\":{\"id\":\"1742\"},\"selection_policy\":{\"id\":\"1756\"}},\"id\":\"1741\",\"type\":\"ColumnDataSource\"},{\"attributes\":{\"margin\":[5,5,5,5],\"name\":\"HSpacer02380\",\"sizing_mode\":\"stretch_width\"},\"id\":\"1854\",\"type\":\"Spacer\"},{\"attributes\":{\"label\":{\"value\":\"MACD\"},\"renderers\":[{\"id\":\"1747\"}]},\"id\":\"1772\",\"type\":\"LegendItem\"},{\"attributes\":{\"axis\":{\"id\":\"1717\"},\"coordinates\":null,\"dimension\":1,\"grid_line_color\":null,\"group\":null,\"ticker\":null},\"id\":\"1720\",\"type\":\"Grid\"},{\"attributes\":{},\"id\":\"1718\",\"type\":\"BasicTicker\"},{\"attributes\":{},\"id\":\"1723\",\"type\":\"WheelZoomTool\"},{\"attributes\":{},\"id\":\"1725\",\"type\":\"ResetTool\"},{\"attributes\":{},\"id\":\"1721\",\"type\":\"SaveTool\"},{\"attributes\":{\"tools\":[{\"id\":\"1700\"},{\"id\":\"1702\"},{\"id\":\"1721\"},{\"id\":\"1722\"},{\"id\":\"1723\"},{\"id\":\"1724\"},{\"id\":\"1725\"}]},\"id\":\"1727\",\"type\":\"Toolbar\"},{\"attributes\":{\"overlay\":{\"id\":\"1726\"}},\"id\":\"1724\",\"type\":\"BoxZoomTool\"}],\"root_ids\":[\"1696\"]},\"title\":\"Bokeh Application\",\"version\":\"2.4.3\"}};\n",
       "    var render_items = [{\"docid\":\"5d4542f6-db86-41f1-8a48-ff49ca90c7f5\",\"root_ids\":[\"1696\"],\"roots\":{\"1696\":\"caefad47-a9cc-4fd9-9afe-a2433d979f63\"}}];\n",
       "    root.Bokeh.embed.embed_items_notebook(docs_json, render_items);\n",
       "    for (const render_item of render_items) {\n",
       "      for (const root_id of render_item.root_ids) {\n",
       "\tconst id_el = document.getElementById(root_id)\n",
       "\tif (id_el.children.length && (id_el.children[0].className === 'bk-root')) {\n",
       "\t  const root_el = id_el.children[0]\n",
       "\t  root_el.id = root_el.id + '-rendered'\n",
       "\t}\n",
       "      }\n",
       "    }\n",
       "  }\n",
       "  if (root.Bokeh !== undefined && root.Bokeh.Panel !== undefined) {\n",
       "    embed_document(root);\n",
       "  } else {\n",
       "    var attempts = 0;\n",
       "    var timer = setInterval(function(root) {\n",
       "      if (root.Bokeh !== undefined && root.Bokeh.Panel !== undefined) {\n",
       "        clearInterval(timer);\n",
       "        embed_document(root);\n",
       "      } else if (document.readyState == \"complete\") {\n",
       "        attempts++;\n",
       "        if (attempts > 200) {\n",
       "          clearInterval(timer);\n",
       "          console.log(\"Bokeh: ERROR: Unable to run BokehJS code because BokehJS library is missing\");\n",
       "        }\n",
       "      }\n",
       "    }, 25, root)\n",
       "  }\n",
       "})(window);</script>"
      ],
      "text/plain": [
       ":Overlay\n",
       "   .NdOverlay.I      :NdOverlay   [Variable]\n",
       "      :Curve   [Date]   (value)\n",
       "   .Scatter.Close.I  :Scatter   [Date]   (Close)\n",
       "   .Scatter.Close.II :Scatter   [Date]   (Close)"
      ]
     },
     "execution_count": 73,
     "metadata": {
      "application/vnd.holoviews_exec.v0+json": {
       "id": "1696"
      }
     },
     "output_type": "execute_result"
    }
   ],
   "source": [
    "# Visualize exit position relative to close price\n",
    "exit = signal[signal['Entry/Exit'] == -1.0]['Close'].hvplot.scatter(\n",
    "    color='yellow',\n",
    "    marker='v',\n",
    "    size=200,\n",
    "    legend=False,\n",
    "    ylabel='Price in $',\n",
    "    width=1000,\n",
    "    height=400\n",
    ")\n",
    "\n",
    "# Visualize entry position relative to close price\n",
    "entry = signal[signal['Entry/Exit'] == 1.0]['Close'].hvplot.scatter(\n",
    "    color='purple',\n",
    "    marker='^',\n",
    "    size=200,\n",
    "    legend=False,\n",
    "    ylabel='Price in $',\n",
    "    width=1000,\n",
    "    height=400\n",
    ")\n",
    "\n",
    "# Visualize close price for the investment\n",
    "security_close = signal[['Close']].hvplot(\n",
    "    line_color='lightgray',\n",
    "    ylabel='Price in $',\n",
    "    width=1000,\n",
    "    height=400\n",
    ")\n",
    "\n",
    "# Visualize moving averages\n",
    "moving_avgs = signal[['MACD', 'Signal_line']].hvplot(\n",
    "    ylabel='Price in $',\n",
    "    width=1000,\n",
    "    height=400\n",
    ")\n",
    "\n",
    "# Create the overlay plot\n",
    "entry_exit_plot = moving_avgs * entry * exit\n",
    "\n",
    "# Show the plot with a title\n",
    "entry_exit_plot.opts(\n",
    "    title= 'BTC'\n",
    ")"
   ]
  },
  {
   "cell_type": "code",
   "execution_count": null,
   "id": "509cd5e1-87b9-4426-829a-85f665713828",
   "metadata": {},
   "outputs": [],
   "source": []
  }
 ],
 "metadata": {
  "kernelspec": {
   "display_name": "Python 3 (ipykernel)",
   "language": "python",
   "name": "python3"
  },
  "language_info": {
   "codemirror_mode": {
    "name": "ipython",
    "version": 3
   },
   "file_extension": ".py",
   "mimetype": "text/x-python",
   "name": "python",
   "nbconvert_exporter": "python",
   "pygments_lexer": "ipython3",
   "version": "3.8.13"
  }
 },
 "nbformat": 4,
 "nbformat_minor": 5
}
