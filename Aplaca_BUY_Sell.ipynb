{
 "cells": [
  {
   "cell_type": "code",
   "execution_count": 1,
   "id": "a5fd3bc5-9bf0-4a78-a2ad-360744521277",
   "metadata": {},
   "outputs": [],
   "source": [
    "#pip install alpaca-trade-api "
   ]
  },
  {
   "cell_type": "code",
   "execution_count": 2,
   "id": "a23421b3-c058-4892-8492-6583bfd3590f",
   "metadata": {},
   "outputs": [
    {
     "data": {
      "text/plain": [
       "True"
      ]
     },
     "execution_count": 2,
     "metadata": {},
     "output_type": "execute_result"
    }
   ],
   "source": [
    "# Initial imports\n",
    "import os\n",
    "import pandas as pd\n",
    "from pathlib import Path\n",
    "from dotenv import load_dotenv\n",
    "from alpaca_trade_api.rest import REST, TimeFrame\n",
    "import pandas as pd\n",
    "# Load .env environment variables\n",
    "load_dotenv()"
   ]
  },
  {
   "cell_type": "code",
   "execution_count": 3,
   "id": "8cf826c9-90d7-4e3d-8f05-e64f876701d0",
   "metadata": {},
   "outputs": [],
   "source": [
    "import alpaca_trade_api as tradeapi\n",
    "\n",
    "API_KEY = os.getenv(\"ALPACA_API_KEY\")\n",
    "API_SECRET = os.getenv(\"ALPACA_SECRET_KEY\")\n",
    "ALPACA_API_BASE_URL = \"https://paper-api.alpaca.markets\"\n",
    "ALPACA_PAPER = True"
   ]
  },
  {
   "cell_type": "code",
   "execution_count": 4,
   "id": "7f7aac30-e6cd-4a3e-b8dc-4652697171b7",
   "metadata": {},
   "outputs": [],
   "source": [
    " # Create a connection to the API \n",
    "api = REST(key_id=API_KEY,secret_key=API_SECRET,base_url=\"https://paper-api.alpaca.markets\")\n",
    "\n",
    "# Fetch 1Minute historical bars of Bitcoin\n",
    "bars = api.get_crypto_bars(\"BTCUSD\", TimeFrame.Minute).df"
   ]
  },
  {
   "cell_type": "code",
   "execution_count": 5,
   "id": "acee7232-7139-4ff9-ba12-fa96c9bb6ee8",
   "metadata": {},
   "outputs": [
    {
     "data": {
      "text/html": [
       "<div>\n",
       "<style scoped>\n",
       "    .dataframe tbody tr th:only-of-type {\n",
       "        vertical-align: middle;\n",
       "    }\n",
       "\n",
       "    .dataframe tbody tr th {\n",
       "        vertical-align: top;\n",
       "    }\n",
       "\n",
       "    .dataframe thead th {\n",
       "        text-align: right;\n",
       "    }\n",
       "</style>\n",
       "<table border=\"1\" class=\"dataframe\">\n",
       "  <thead>\n",
       "    <tr style=\"text-align: right;\">\n",
       "      <th></th>\n",
       "      <th>exchange</th>\n",
       "      <th>open</th>\n",
       "      <th>high</th>\n",
       "      <th>low</th>\n",
       "      <th>close</th>\n",
       "      <th>volume</th>\n",
       "      <th>trade_count</th>\n",
       "      <th>vwap</th>\n",
       "    </tr>\n",
       "    <tr>\n",
       "      <th>timestamp</th>\n",
       "      <th></th>\n",
       "      <th></th>\n",
       "      <th></th>\n",
       "      <th></th>\n",
       "      <th></th>\n",
       "      <th></th>\n",
       "      <th></th>\n",
       "      <th></th>\n",
       "    </tr>\n",
       "  </thead>\n",
       "  <tbody>\n",
       "    <tr>\n",
       "      <th>2022-11-24 06:00:00+00:00</th>\n",
       "      <td>BNCU</td>\n",
       "      <td>16642.70</td>\n",
       "      <td>16650.14</td>\n",
       "      <td>16636.30</td>\n",
       "      <td>16645.75</td>\n",
       "      <td>2.730077</td>\n",
       "      <td>81</td>\n",
       "      <td>16641.227369</td>\n",
       "    </tr>\n",
       "    <tr>\n",
       "      <th>2022-11-24 06:00:00+00:00</th>\n",
       "      <td>CBSE</td>\n",
       "      <td>16641.52</td>\n",
       "      <td>16652.31</td>\n",
       "      <td>16640.28</td>\n",
       "      <td>16650.78</td>\n",
       "      <td>29.615428</td>\n",
       "      <td>342</td>\n",
       "      <td>16644.527366</td>\n",
       "    </tr>\n",
       "    <tr>\n",
       "      <th>2022-11-24 06:00:00+00:00</th>\n",
       "      <td>ERSX</td>\n",
       "      <td>16640.00</td>\n",
       "      <td>16648.30</td>\n",
       "      <td>16640.00</td>\n",
       "      <td>16647.90</td>\n",
       "      <td>1.890000</td>\n",
       "      <td>31</td>\n",
       "      <td>16645.941270</td>\n",
       "    </tr>\n",
       "    <tr>\n",
       "      <th>2022-11-24 06:01:00+00:00</th>\n",
       "      <td>BNCU</td>\n",
       "      <td>16645.75</td>\n",
       "      <td>16658.91</td>\n",
       "      <td>16645.75</td>\n",
       "      <td>16650.00</td>\n",
       "      <td>5.526837</td>\n",
       "      <td>102</td>\n",
       "      <td>16651.384901</td>\n",
       "    </tr>\n",
       "    <tr>\n",
       "      <th>2022-11-24 06:01:00+00:00</th>\n",
       "      <td>CBSE</td>\n",
       "      <td>16648.98</td>\n",
       "      <td>16657.38</td>\n",
       "      <td>16647.81</td>\n",
       "      <td>16649.43</td>\n",
       "      <td>11.413993</td>\n",
       "      <td>211</td>\n",
       "      <td>16652.683908</td>\n",
       "    </tr>\n",
       "    <tr>\n",
       "      <th>...</th>\n",
       "      <td>...</td>\n",
       "      <td>...</td>\n",
       "      <td>...</td>\n",
       "      <td>...</td>\n",
       "      <td>...</td>\n",
       "      <td>...</td>\n",
       "      <td>...</td>\n",
       "      <td>...</td>\n",
       "    </tr>\n",
       "    <tr>\n",
       "      <th>2022-11-24 09:53:00+00:00</th>\n",
       "      <td>CBSE</td>\n",
       "      <td>16597.70</td>\n",
       "      <td>16600.78</td>\n",
       "      <td>16590.62</td>\n",
       "      <td>16591.82</td>\n",
       "      <td>11.080519</td>\n",
       "      <td>173</td>\n",
       "      <td>16594.750442</td>\n",
       "    </tr>\n",
       "    <tr>\n",
       "      <th>2022-11-24 09:53:00+00:00</th>\n",
       "      <td>ERSX</td>\n",
       "      <td>16590.00</td>\n",
       "      <td>16593.40</td>\n",
       "      <td>16584.50</td>\n",
       "      <td>16590.60</td>\n",
       "      <td>2.370000</td>\n",
       "      <td>13</td>\n",
       "      <td>16587.838397</td>\n",
       "    </tr>\n",
       "    <tr>\n",
       "      <th>2022-11-24 09:54:00+00:00</th>\n",
       "      <td>BNCU</td>\n",
       "      <td>16589.85</td>\n",
       "      <td>16596.86</td>\n",
       "      <td>16586.81</td>\n",
       "      <td>16593.12</td>\n",
       "      <td>0.382583</td>\n",
       "      <td>18</td>\n",
       "      <td>16590.634486</td>\n",
       "    </tr>\n",
       "    <tr>\n",
       "      <th>2022-11-24 09:54:00+00:00</th>\n",
       "      <td>CBSE</td>\n",
       "      <td>16589.62</td>\n",
       "      <td>16597.05</td>\n",
       "      <td>16589.02</td>\n",
       "      <td>16595.18</td>\n",
       "      <td>6.494953</td>\n",
       "      <td>169</td>\n",
       "      <td>16593.970341</td>\n",
       "    </tr>\n",
       "    <tr>\n",
       "      <th>2022-11-24 09:54:00+00:00</th>\n",
       "      <td>ERSX</td>\n",
       "      <td>16588.40</td>\n",
       "      <td>16595.00</td>\n",
       "      <td>16588.40</td>\n",
       "      <td>16590.20</td>\n",
       "      <td>1.640000</td>\n",
       "      <td>11</td>\n",
       "      <td>16590.452439</td>\n",
       "    </tr>\n",
       "  </tbody>\n",
       "</table>\n",
       "<p>701 rows × 8 columns</p>\n",
       "</div>"
      ],
      "text/plain": [
       "                          exchange      open      high       low     close  \\\n",
       "timestamp                                                                    \n",
       "2022-11-24 06:00:00+00:00     BNCU  16642.70  16650.14  16636.30  16645.75   \n",
       "2022-11-24 06:00:00+00:00     CBSE  16641.52  16652.31  16640.28  16650.78   \n",
       "2022-11-24 06:00:00+00:00     ERSX  16640.00  16648.30  16640.00  16647.90   \n",
       "2022-11-24 06:01:00+00:00     BNCU  16645.75  16658.91  16645.75  16650.00   \n",
       "2022-11-24 06:01:00+00:00     CBSE  16648.98  16657.38  16647.81  16649.43   \n",
       "...                            ...       ...       ...       ...       ...   \n",
       "2022-11-24 09:53:00+00:00     CBSE  16597.70  16600.78  16590.62  16591.82   \n",
       "2022-11-24 09:53:00+00:00     ERSX  16590.00  16593.40  16584.50  16590.60   \n",
       "2022-11-24 09:54:00+00:00     BNCU  16589.85  16596.86  16586.81  16593.12   \n",
       "2022-11-24 09:54:00+00:00     CBSE  16589.62  16597.05  16589.02  16595.18   \n",
       "2022-11-24 09:54:00+00:00     ERSX  16588.40  16595.00  16588.40  16590.20   \n",
       "\n",
       "                              volume  trade_count          vwap  \n",
       "timestamp                                                        \n",
       "2022-11-24 06:00:00+00:00   2.730077           81  16641.227369  \n",
       "2022-11-24 06:00:00+00:00  29.615428          342  16644.527366  \n",
       "2022-11-24 06:00:00+00:00   1.890000           31  16645.941270  \n",
       "2022-11-24 06:01:00+00:00   5.526837          102  16651.384901  \n",
       "2022-11-24 06:01:00+00:00  11.413993          211  16652.683908  \n",
       "...                              ...          ...           ...  \n",
       "2022-11-24 09:53:00+00:00  11.080519          173  16594.750442  \n",
       "2022-11-24 09:53:00+00:00   2.370000           13  16587.838397  \n",
       "2022-11-24 09:54:00+00:00   0.382583           18  16590.634486  \n",
       "2022-11-24 09:54:00+00:00   6.494953          169  16593.970341  \n",
       "2022-11-24 09:54:00+00:00   1.640000           11  16590.452439  \n",
       "\n",
       "[701 rows x 8 columns]"
      ]
     },
     "execution_count": 5,
     "metadata": {},
     "output_type": "execute_result"
    }
   ],
   "source": [
    "bars"
   ]
  },
  {
   "cell_type": "code",
   "execution_count": 6,
   "id": "343fd417-a953-43c8-8db5-acddc181668d",
   "metadata": {},
   "outputs": [
    {
     "name": "stdout",
     "output_type": "stream",
     "text": [
      "                          exchange      open      high       low     close  \\\n",
      "timestamp                                                                    \n",
      "2022-11-24 06:00:00+00:00     CBSE  16641.52  16652.31  16640.28  16650.78   \n",
      "2022-11-24 06:01:00+00:00     CBSE  16648.98  16657.38  16647.81  16649.43   \n",
      "2022-11-24 06:02:00+00:00     CBSE  16649.40  16649.40  16635.06  16638.63   \n",
      "2022-11-24 06:03:00+00:00     CBSE  16638.36  16639.83  16622.76  16632.25   \n",
      "2022-11-24 06:04:00+00:00     CBSE  16631.40  16649.35  16630.08  16643.62   \n",
      "...                            ...       ...       ...       ...       ...   \n",
      "2022-11-24 09:50:00+00:00     CBSE  16577.61  16577.72  16571.86  16577.30   \n",
      "2022-11-24 09:51:00+00:00     CBSE  16576.68  16583.40  16576.68  16579.14   \n",
      "2022-11-24 09:52:00+00:00     CBSE  16579.03  16599.99  16578.38  16597.70   \n",
      "2022-11-24 09:53:00+00:00     CBSE  16597.70  16600.78  16590.62  16591.82   \n",
      "2022-11-24 09:54:00+00:00     CBSE  16589.62  16597.05  16589.02  16595.18   \n",
      "\n",
      "                              volume  trade_count          vwap  \n",
      "timestamp                                                        \n",
      "2022-11-24 06:00:00+00:00  29.615428          342  16644.527366  \n",
      "2022-11-24 06:01:00+00:00  11.413993          211  16652.683908  \n",
      "2022-11-24 06:02:00+00:00  15.812014          318  16640.850618  \n",
      "2022-11-24 06:03:00+00:00  17.851188          263  16628.623472  \n",
      "2022-11-24 06:04:00+00:00  20.189408          391  16639.661098  \n",
      "...                              ...          ...           ...  \n",
      "2022-11-24 09:50:00+00:00   8.128562          187  16574.590616  \n",
      "2022-11-24 09:51:00+00:00   6.689787          197  16580.569429  \n",
      "2022-11-24 09:52:00+00:00  12.794411          294  16586.223114  \n",
      "2022-11-24 09:53:00+00:00  11.080519          173  16594.750442  \n",
      "2022-11-24 09:54:00+00:00   6.494953          169  16593.970341  \n",
      "\n",
      "[235 rows x 8 columns]\n"
     ]
    }
   ],
   "source": [
    "# Filter data by exchange\n",
    "bars = bars[bars.exchange == 'CBSE']\n",
    "print(bars)"
   ]
  },
  {
   "cell_type": "code",
   "execution_count": 9,
   "id": "624a0c88-c50a-4767-a32d-38bae83bf4a3",
   "metadata": {},
   "outputs": [],
   "source": [
    "# Create a market order to buy 1 Bitcoin\n",
    "order_buy = api.submit_order('BTCUSD', qty=1, side='buy',\n",
    "                            time_in_force='gtc')"
   ]
  },
  {
   "cell_type": "code",
   "execution_count": 10,
   "id": "cc10d5ac-0958-44bd-a59f-99bc6fc27375",
   "metadata": {},
   "outputs": [
    {
     "data": {
      "text/plain": [
       "Order({   'asset_class': 'crypto',\n",
       "    'asset_id': '276e2673-764b-4ab6-a611-caf665ca6340',\n",
       "    'canceled_at': None,\n",
       "    'client_order_id': 'fa69c05d-4f75-4be4-ba54-32324c4fbaee',\n",
       "    'created_at': '2022-11-24T09:58:21.135051784Z',\n",
       "    'expired_at': None,\n",
       "    'extended_hours': False,\n",
       "    'failed_at': None,\n",
       "    'filled_at': None,\n",
       "    'filled_avg_price': None,\n",
       "    'filled_qty': '0',\n",
       "    'hwm': None,\n",
       "    'id': '4108b8a7-e50a-443d-9e4d-e7c95a1ebf29',\n",
       "    'legs': None,\n",
       "    'limit_price': None,\n",
       "    'notional': None,\n",
       "    'order_class': '',\n",
       "    'order_type': 'market',\n",
       "    'qty': '1',\n",
       "    'replaced_at': None,\n",
       "    'replaced_by': None,\n",
       "    'replaces': None,\n",
       "    'side': 'buy',\n",
       "    'source': None,\n",
       "    'status': 'pending_new',\n",
       "    'stop_price': None,\n",
       "    'submitted_at': '2022-11-24T09:58:21.133817934Z',\n",
       "    'subtag': None,\n",
       "    'symbol': 'BTC/USD',\n",
       "    'time_in_force': 'gtc',\n",
       "    'trail_percent': None,\n",
       "    'trail_price': None,\n",
       "    'type': 'market',\n",
       "    'updated_at': '2022-11-24T09:58:21.135090773Z'})"
      ]
     },
     "execution_count": 10,
     "metadata": {},
     "output_type": "execute_result"
    }
   ],
   "source": [
    "order_buy"
   ]
  },
  {
   "cell_type": "code",
   "execution_count": 14,
   "id": "6d3b42dd-ed86-49f1-bf10-fbc348d21e4f",
   "metadata": {},
   "outputs": [],
   "source": [
    "# Create a market order to sell 1 Bitcoin\n",
    "order_sell = api.submit_order('BTCUSD', qty=1, side='sell',\n",
    "                             time_in_force='gtc')"
   ]
  },
  {
   "cell_type": "code",
   "execution_count": 15,
   "id": "3e94ddba-d1cd-47a3-b2fa-1940c47c230b",
   "metadata": {},
   "outputs": [
    {
     "data": {
      "text/plain": [
       "Order({   'asset_class': 'crypto',\n",
       "    'asset_id': '276e2673-764b-4ab6-a611-caf665ca6340',\n",
       "    'canceled_at': None,\n",
       "    'client_order_id': '545a9d3e-9a73-4438-8629-5fb20ba39426',\n",
       "    'created_at': '2022-11-24T10:05:53.833136276Z',\n",
       "    'expired_at': None,\n",
       "    'extended_hours': False,\n",
       "    'failed_at': None,\n",
       "    'filled_at': None,\n",
       "    'filled_avg_price': None,\n",
       "    'filled_qty': '0',\n",
       "    'hwm': None,\n",
       "    'id': 'b837b119-aa01-4fa3-a835-a65bf5b4a9c2',\n",
       "    'legs': None,\n",
       "    'limit_price': None,\n",
       "    'notional': None,\n",
       "    'order_class': '',\n",
       "    'order_type': 'market',\n",
       "    'qty': '1',\n",
       "    'replaced_at': None,\n",
       "    'replaced_by': None,\n",
       "    'replaces': None,\n",
       "    'side': 'sell',\n",
       "    'source': None,\n",
       "    'status': 'pending_new',\n",
       "    'stop_price': None,\n",
       "    'submitted_at': '2022-11-24T10:05:53.831876286Z',\n",
       "    'subtag': None,\n",
       "    'symbol': 'BTC/USD',\n",
       "    'time_in_force': 'gtc',\n",
       "    'trail_percent': None,\n",
       "    'trail_price': None,\n",
       "    'type': 'market',\n",
       "    'updated_at': '2022-11-24T10:05:53.833177096Z'})"
      ]
     },
     "execution_count": 15,
     "metadata": {},
     "output_type": "execute_result"
    }
   ],
   "source": [
    "order_sell"
   ]
  },
  {
   "cell_type": "code",
   "execution_count": 12,
   "id": "0d52da35-0e5e-49dc-bcf9-68768102aea9",
   "metadata": {},
   "outputs": [
    {
     "name": "stdout",
     "output_type": "stream",
     "text": [
      "19.04763867\n"
     ]
    }
   ],
   "source": [
    "# Get current position on Bitcoin. Yields error if we don't hold any\n",
    "api.get_position('BTCUSD')\n",
    "\n",
    "# Get all positions and find out if we hold any Bitcoin\n",
    "positions = api.list_positions()\n",
    "position_qty = 0\n",
    "for p in positions:\n",
    "    if p.symbol == 'BTCUSD':\n",
    "        position_qty = float(p.qty)\n",
    "print(position_qty)"
   ]
  },
  {
   "cell_type": "code",
   "execution_count": null,
   "id": "fe6a6a71-f36a-4676-9293-6d6ad58de984",
   "metadata": {},
   "outputs": [],
   "source": []
  }
 ],
 "metadata": {
  "kernelspec": {
   "display_name": "Python 3 (ipykernel)",
   "language": "python",
   "name": "python3"
  },
  "language_info": {
   "codemirror_mode": {
    "name": "ipython",
    "version": 3
   },
   "file_extension": ".py",
   "mimetype": "text/x-python",
   "name": "python",
   "nbconvert_exporter": "python",
   "pygments_lexer": "ipython3",
   "version": "3.8.13"
  }
 },
 "nbformat": 4,
 "nbformat_minor": 5
}
